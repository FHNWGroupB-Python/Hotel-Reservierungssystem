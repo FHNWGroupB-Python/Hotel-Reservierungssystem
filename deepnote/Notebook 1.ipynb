{
    "cells": [
        {
            "cell_type": "markdown",
            "metadata": {
                "cell_id": "dbad2651e32f42d79e4807a00f14b110",
                "deepnote_cell_type": "markdown"
            },
            "source": "# Hotel Reservierungssystem\n\n## Autoren\n- ***Josip Jukic***\n- ***Janarthanan Ragunathan***\n- ***Selma Kaviani***\n- ***Libin Manavalan***\n\n## Inhaltsverzeichnis\n\n- [Einführung](#Einführung)\n- [Dokumentation](#Dokumentation)\n\n\n## Einführung\n\n## Dokumentation\n#### Lektion 19.02.2025\nIn der ersten Lektion erhielten wir eine Einführung zum Modul Python. Die Projekt Guidlines wurden uns vorgestellt und bekannt gegeben. Wir lernten Git Hub kennen und wie wir es mit Deepnote verknüpfen können. Dann erhielten wir einen Einstieg in Python.\n\n#### Lektion 26.02.2025\nIn dieser Lektion stiegen wir in die praktischen Übungen ein. Wir lernten Variablen und Datentypen kennen anhand von Übungen. Zuerst haben wir den Print Befehl gelernt. Wir haben neue Variablen und Datentypen erzeugt in einer Fake Datenbank direkt im Code. Wir lernten das Einfügen von Strings, Floats und Booleans kennen. Der Prozess von einem Codeblock funktioniert immer aus einer Datenbank, Input, Process und Output. Mit dem Input Statement können wir Daten eingeben und im Process definiertem Codeblock die Eingabe verarbeiten. Zudem haben wir auch Rechenbeispiele im Outputbefehl ausgegeben. Weiter haben wir verschiedene Operatoren kennengelernt wie Vergleich \"==\" und \"=\" zum einen Wert der Variable zu speichern. Strings werden zwischen Anführungszeichen eingeschlossen. \n\n#### Lektion 05.03.2025\nIn dieser Lektion lernten wir Conditions mit If Else, Elif Statements kennen und anwenden. Wichtig hierfür ist es immer die Business Logik zu verstehen und das was den User betrifft. Weiter haben wir Tuples kennengelernt, das ist eine geordnete Datenstruktur in Python. Wichtig ist, dass diese Werte nach der Erstellung nicht geändert werden können. Wir haben auch Listen kennengelernt diese werden in [] angegeben. Gelernt haben wir auch die While Schleife, diese läuft solange bis sie durch ein True oder False endet. Es besteht auch die Möglichkeit diese mit Break zu beenden es hängt jedoch immer von der Bedingung an. \n\n#### Lektion 12.03.2025\nIn Lektion 4 lernten wir die def Funktion. Mit dieser Funktion können wir den ganzen Prozess vom Code vereinfachen und das ganze Strukturierter darstellen. Der Code wird mit diesen Funktionen leserlicher und einfacher zu verstehen. Diese Prinzip nennt sich auch KISS. Das anderen Prinizp das wir erlernt haben nennt sich DRY Prinzip und dieses bedeutet das man sich nicht wiederholt oder den Code dupliziert. Duplizierung von Codes führt zu Inkonstistenz. \n\ngtvtv",
            "block_group": "427e42092b754b0f9141b46afb34c2bd"
        },
        {
            "cell_type": "markdown",
            "metadata": {
                "formattedRanges": [],
                "cell_id": "bfc6288582284dba9f10de0385f1bb78",
                "deepnote_cell_type": "text-cell-p"
            },
            "source": "",
            "block_group": "b0788e9dc3a949588027c7d03c2773fa"
        },
        {
            "cell_type": "code",
            "metadata": {
                "source_hash": "5e2ea7e1",
                "execution_start": 1741711100626,
                "execution_millis": 4,
                "execution_context_id": "8f585720-3595-46b0-93c5-1fc760fa8a26",
                "cell_id": "9bc51d7e1e9e4b85ae30e260dcf3bbdf",
                "deepnote_cell_type": "code"
            },
            "source": "print(\"Hello World\")\n",
            "block_group": "9a1dd1a9ed77427696cc200739ae4507",
            "execution_count": 1,
            "outputs": [
                {
                    "name": "stdout",
                    "text": "Hello World\n",
                    "output_type": "stream"
                }
            ],
            "outputs_reference": "dbtable:cell_outputs/ca604e1e-e538-464d-84e5-993dc7a7509e",
            "content_dependencies": null
        },
        {
            "cell_type": "markdown",
            "source": "<a style='text-decoration:none;line-height:16px;display:flex;color:#5B5B62;padding:10px;justify-content:end;' href='https://deepnote.com?utm_source=created-in-deepnote-cell&projectId=e8ef08a0-6271-4506-bf68-3a2c228ecfbc' target=\"_blank\">\n<img alt='Created in deepnote.com' style='display:inline;max-height:16px;margin:0px;margin-right:7.5px;' src='data:image/svg+xml;base64,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' > </img>\nCreated in <span style='font-weight:600;margin-left:4px;'>Deepnote</span></a>",
            "metadata": {
                "created_in_deepnote_cell": true,
                "deepnote_cell_type": "markdown"
            }
        }
    ],
    "nbformat": 4,
    "nbformat_minor": 0,
    "metadata": {
        "deepnote_notebook_id": "4ac3c2fb919d47e3af961578c7898da3"
    }
}