{
 "cells": [
  {
   "metadata": {
    "ExecuteTime": {
     "end_time": "2025-05-27T09:07:41.801114Z",
     "start_time": "2025-05-27T09:07:41.793938Z"
    }
   },
   "cell_type": "code",
   "source": [
    "import os\n",
    "import shutil\n",
    "\n",
    "original_db = \"database/hotel_reservation_sample.db\"\n",
    "working_db = \"database/hotel_reservation.db\"\n",
    "shutil.copy(original_db, working_db)\n",
    "\n",
    "os.environ[\"DB\"] = working_db"
   ],
   "id": "2ff10f3046bd3b0a",
   "outputs": [],
   "execution_count": 1
  },
  {
   "metadata": {
    "ExecuteTime": {
     "end_time": "2025-05-27T09:07:45.125573Z",
     "start_time": "2025-05-27T09:07:45.104952Z"
    }
   },
   "cell_type": "code",
   "source": "from business_logic.booking_manager import BookingManager",
   "id": "ef9b3267e8b1612",
   "outputs": [],
   "execution_count": 2
  },
  {
   "metadata": {
    "ExecuteTime": {
     "end_time": "2025-05-27T09:07:46.510113Z",
     "start_time": "2025-05-27T09:07:46.507045Z"
    }
   },
   "cell_type": "code",
   "source": "bm = BookingManager()",
   "id": "d3d32d3a21a03001",
   "outputs": [],
   "execution_count": 3
  },
  {
   "metadata": {
    "ExecuteTime": {
     "end_time": "2025-05-27T09:07:48.302109Z",
     "start_time": "2025-05-27T09:07:48.297683Z"
    }
   },
   "cell_type": "code",
   "source": [
    "from model.guest import Guest\n",
    "from model.room import Room\n",
    "from model.room_type import RoomType\n",
    "from datetime import date\n",
    "\n",
    "guest = Guest(1, \"John\", \"Doe\", \"mail\")\n",
    "room = Room(1, 202, 80.90)\n",
    "roomt = RoomType(1, \"Standard\", 1)\n",
    "room.room_type = roomt\n",
    "\n",
    "b = bm.create_booking(guest, room,1, date(2025, 1, 1), date(2025, 1, 3))"
   ],
   "id": "b1fa4cc22792b227",
   "outputs": [],
   "execution_count": 4
  },
  {
   "metadata": {
    "ExecuteTime": {
     "end_time": "2025-05-27T09:08:03.309880Z",
     "start_time": "2025-05-27T09:08:03.298499Z"
    }
   },
   "cell_type": "code",
   "source": "print(b.total_amount)",
   "id": "77da99f31b096017",
   "outputs": [
    {
     "name": "stdout",
     "output_type": "stream",
     "text": [
      "161.8\n"
     ]
    }
   ],
   "execution_count": 5
  },
  {
   "metadata": {
    "ExecuteTime": {
     "end_time": "2025-05-26T15:05:29.225418Z",
     "start_time": "2025-05-26T15:05:29.217346Z"
    }
   },
   "cell_type": "code",
   "source": [
    "from data_access.hotel_dal import HotelDAL\n",
    "from data_access.booking_dal import BookingDAL\n",
    "\n",
    "hdal = HotelDAL()\n",
    "\n",
    "\n",
    "# Testen, ob die Verbindung funktioniert\n",
    "try:\n",
    "    with hdal._connect() as conn:\n",
    "        print(\"HotelDAL Verbindung erfolgreich hergestellt!\")\n",
    "except Exception as e:\n",
    "    print(f\"Fehler bei der Verbindung mit HotelDAL: {e}\")\n",
    "\n",
    "bdal = BookingDAL()\n",
    "try:\n",
    "    with bdal._connect() as conn:\n",
    "        print(\"BookingDAL Verbindung erfolgreich hergestellt!\")\n",
    "except Exception as e:\n",
    "    print(f\"Fehler bei der Verbindung mit BookingDAL: {e}\")"
   ],
   "id": "ab046b501fe87a54",
   "outputs": [
    {
     "name": "stdout",
     "output_type": "stream",
     "text": [
      "HotelDAL Verbindung erfolgreich hergestellt!\n",
      "BookingDAL Verbindung erfolgreich hergestellt!\n"
     ]
    }
   ],
   "execution_count": 63
  },
  {
   "metadata": {
    "ExecuteTime": {
     "end_time": "2025-05-26T15:05:31.400079Z",
     "start_time": "2025-05-26T15:05:31.395059Z"
    }
   },
   "cell_type": "code",
   "source": [
    "\n",
    "bookings = bdal.fetchall(\"SELECT * FROM booking\")\n",
    "\n",
    "if bookings:\n",
    "    print(\"Alle Buchungen\")\n",
    "    for booking in bookings:\n",
    "        print(booking)\n",
    "else:\n",
    "    print(\"Keine Buchungen gefunden\")\n"
   ],
   "id": "82f9d8dd65199625",
   "outputs": [
    {
     "name": "stdout",
     "output_type": "stream",
     "text": [
      "Alle Buchungen\n",
      "(1, 1, 1, datetime.date(2025, 6, 1), datetime.date(2025, 6, 5), 0, 1000.0)\n",
      "(2, 2, 2, datetime.date(2025, 7, 10), datetime.date(2025, 7, 15), 0, 2000.0)\n",
      "(3, 3, 3, datetime.date(2025, 8, 20), datetime.date(2025, 8, 22), 0, 1300.0)\n",
      "(4, 4, 4, datetime.date(2025, 9, 5), datetime.date(2025, 9, 10), 1, 0.0)\n",
      "(5, 5, 5, datetime.date(2025, 10, 1), datetime.date(2025, 10, 7), 0, 9000.0)\n"
     ]
    }
   ],
   "execution_count": 64
  },
  {
   "metadata": {
    "ExecuteTime": {
     "end_time": "2025-05-26T15:05:33.366895Z",
     "start_time": "2025-05-26T15:05:33.356307Z"
    }
   },
   "cell_type": "code",
   "source": [
    "# 1.1. Ich möchte alle Hotels in einer Stadt durchsuchen, damit ich das Hotel nach meinem bevorzugten Standort (Stadt) auswählen kann.\n",
    "\n",
    "hotels = bdal.fetchall(\"SELECT * FROM hotel LEFT JOIN address ON hotel.address_id = address.address_id WHERE address.city LIKE  '%Zürich%' \")\n",
    "\n",
    "if hotels:\n",
    "    print(\"Hotel gefunden\")\n",
    "    for hotel in hotels:\n",
    "        print(hotel)\n",
    "else:\n",
    "    print(\"Hotel nicht gefunden\")\n"
   ],
   "id": "93a9b4e74c2508a4",
   "outputs": [
    {
     "name": "stdout",
     "output_type": "stream",
     "text": [
      "Hotel gefunden\n",
      "(1, 'Hotel Baur au Lac', 5, 1, 1, 'Bahnhofstrasse 1', 'Zürich', '8001')\n"
     ]
    }
   ],
   "execution_count": 65
  },
  {
   "metadata": {
    "ExecuteTime": {
     "end_time": "2025-05-26T15:40:54.147856Z",
     "start_time": "2025-05-26T15:40:54.121243Z"
    }
   },
   "cell_type": "code",
   "source": "\n",
   "id": "d5e5b99e8f29df8c",
   "outputs": [
    {
     "ename": "NameError",
     "evalue": "name 'search_hotels_by_stars' is not defined",
     "output_type": "error",
     "traceback": [
      "\u001B[31m---------------------------------------------------------------------------\u001B[39m",
      "\u001B[31mNameError\u001B[39m                                 Traceback (most recent call last)",
      "\u001B[36mCell\u001B[39m\u001B[36m \u001B[39m\u001B[32mIn[76]\u001B[39m\u001B[32m, line 1\u001B[39m\n\u001B[32m----> \u001B[39m\u001B[32m1\u001B[39m hotels = \u001B[43msearch_hotels_by_stars\u001B[49m()\n\u001B[32m      3\u001B[39m \u001B[38;5;28;01mfor\u001B[39;00m stars \u001B[38;5;129;01min\u001B[39;00m hotels:\n\u001B[32m      4\u001B[39m     hotel_manager.search_hotels_by_stars(hotels)\n",
      "\u001B[31mNameError\u001B[39m: name 'search_hotels_by_stars' is not defined"
     ]
    }
   ],
   "execution_count": 76
  }
 ],
 "metadata": {
  "kernelspec": {
   "name": "python3",
   "language": "python",
   "display_name": "Python 3 (ipykernel)"
  }
 },
 "nbformat": 5,
 "nbformat_minor": 9
}
