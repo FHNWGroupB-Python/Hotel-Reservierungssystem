{
 "cells": [
  {
   "metadata": {
    "ExecuteTime": {
     "end_time": "2025-05-24T17:28:30.987534Z",
     "start_time": "2025-05-24T17:28:30.984398Z"
    }
   },
   "cell_type": "code",
   "source": [
    "import os\n",
    "\n",
    "\n",
    "os.environ[\"DB\"] = \"database/hotel_reservation_sample.db\""
   ],
   "id": "2ff10f3046bd3b0a",
   "outputs": [],
   "execution_count": 53
  },
  {
   "metadata": {
    "ExecuteTime": {
     "end_time": "2025-05-24T17:28:33.742129Z",
     "start_time": "2025-05-24T17:28:33.736213Z"
    }
   },
   "cell_type": "code",
   "source": [
    "from data_access.hotel_dal import HotelDAL\n",
    "from data_access.booking_dal import BookingDAL\n",
    "\n",
    "hdal = HotelDAL()\n",
    "\n",
    "\n",
    "# Testen, ob die Verbindung funktioniert\n",
    "try:\n",
    "    with hdal._connect() as conn:\n",
    "        print(\"HotelDAL Verbindung erfolgreich hergestellt!\")\n",
    "except Exception as e:\n",
    "    print(f\"Fehler bei der Verbindung mit HotelDAL: {e}\")\n",
    "\n",
    "bdal = BookingDAL()\n",
    "try:\n",
    "    with bdal._connect() as conn:\n",
    "        print(\"BookingDAL Verbindung erfolgreich hergestellt!\")\n",
    "except Exception as e:\n",
    "    print(f\"Fehler bei der Verbindung mit BookingDAL: {e}\")"
   ],
   "id": "ab046b501fe87a54",
   "outputs": [
    {
     "name": "stdout",
     "output_type": "stream",
     "text": [
      "HotelDAL Verbindung erfolgreich hergestellt!\n",
      "BookingDAL Verbindung erfolgreich hergestellt!\n"
     ]
    }
   ],
   "execution_count": 54
  },
  {
   "metadata": {
    "ExecuteTime": {
     "end_time": "2025-05-24T17:28:35.907427Z",
     "start_time": "2025-05-24T17:28:35.901923Z"
    }
   },
   "cell_type": "code",
   "source": [
    "\n",
    "bookings = bdal.fetchall(\"SELECT * FROM booking\")\n",
    "\n",
    "if bookings:\n",
    "    print(\"Alle Buchungen\")\n",
    "    for booking in bookings:\n",
    "        print(booking)\n",
    "else:\n",
    "    print(\"Keine Buchungen gefunden\")\n"
   ],
   "id": "82f9d8dd65199625",
   "outputs": [
    {
     "name": "stdout",
     "output_type": "stream",
     "text": [
      "Alle Buchungen\n",
      "(1, 1, 1, datetime.date(2025, 6, 1), datetime.date(2025, 6, 5), 0, 1000.0)\n",
      "(2, 2, 2, datetime.date(2025, 7, 10), datetime.date(2025, 7, 15), 0, 2000.0)\n",
      "(3, 3, 3, datetime.date(2025, 8, 20), datetime.date(2025, 8, 22), 0, 1300.0)\n",
      "(4, 4, 4, datetime.date(2025, 9, 5), datetime.date(2025, 9, 10), 1, 0.0)\n",
      "(5, 5, 5, datetime.date(2025, 10, 1), datetime.date(2025, 10, 7), 0, 9000.0)\n"
     ]
    }
   ],
   "execution_count": 55
  },
  {
   "metadata": {
    "ExecuteTime": {
     "end_time": "2025-05-24T17:28:40.487343Z",
     "start_time": "2025-05-24T17:28:40.476938Z"
    }
   },
   "cell_type": "code",
   "source": [
    "# 1.1. Ich möchte alle Hotels in einer Stadt durchsuchen, damit ich das Hotel nach meinem bevorzugten Standort (Stadt) auswählen kann.\n",
    "\n",
    "hotels = bdal.fetchall(\"SELECT * FROM hotel LEFT JOIN address ON hotel.address_id = address.address_id WHERE address.city LIKE  '%Zürich%' \")\n",
    "\n",
    "if hotels:\n",
    "    print(\"Hotel gefunden\")\n",
    "    for hotel in hotels:\n",
    "        print(hotel)\n",
    "else:\n",
    "    print(\"Hotel nicht gefunden\")\n"
   ],
   "id": "93a9b4e74c2508a4",
   "outputs": [
    {
     "name": "stdout",
     "output_type": "stream",
     "text": [
      "Hotel gefunden\n",
      "(1, 'Hotel Baur au Lac', 5, 1, 1, 'Bahnhofstrasse 1', 'Zürich', '8001')\n"
     ]
    }
   ],
   "execution_count": 56
  }
 ],
 "metadata": {
  "kernelspec": {
   "name": "python3",
   "language": "python",
   "display_name": "Python 3 (ipykernel)"
  }
 },
 "nbformat": 5,
 "nbformat_minor": 9
}
