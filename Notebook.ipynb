{
 "cells": [
  {
   "metadata": {
    "ExecuteTime": {
     "end_time": "2025-05-23T10:08:44.191752Z",
     "start_time": "2025-05-23T10:08:44.184761Z"
    }
   },
   "cell_type": "code",
   "source": [
    "import os\n",
    "\n",
    "os.environ[\"DB\"] = \"database/hotel_reservation.db\""
   ],
   "id": "2ff10f3046bd3b0a",
   "outputs": [],
   "execution_count": 4
  },
  {
   "metadata": {
    "ExecuteTime": {
     "end_time": "2025-05-23T10:09:19.887584Z",
     "start_time": "2025-05-23T10:09:19.858038Z"
    }
   },
   "cell_type": "code",
   "source": [
    "from data_access.hotel_dal import HotelDAL\n",
    "\n",
    "\n",
    "\n",
    "hdal = HotelDAL()\n",
    "\n",
    "# Testen, ob die Verbindung funktioniert\n",
    "try:\n",
    "    with hdal._connect() as conn:\n",
    "        print(\"HotelDAL Verbindung erfolgreich hergestellt!\")\n",
    "except Exception as e:\n",
    "    print(f\"Fehler bei der Verbindung mit HotelDAL: {e}\")"
   ],
   "id": "ab046b501fe87a54",
   "outputs": [
    {
     "name": "stdout",
     "output_type": "stream",
     "text": [
      "HotelDAL Verbindung erfolgreich hergestellt!\n"
     ]
    }
   ],
   "execution_count": 5
  },
  {
   "metadata": {
    "ExecuteTime": {
     "end_time": "2025-05-23T10:11:15.675396Z",
     "start_time": "2025-05-23T10:11:15.668368Z"
    }
   },
   "cell_type": "code",
   "source": "print(HotelDAL().fetchall(\"SELECT * FROM hotel\"))",
   "id": "82f9d8dd65199625",
   "outputs": [
    {
     "name": "stdout",
     "output_type": "stream",
     "text": [
      "[]\n"
     ]
    }
   ],
   "execution_count": 8
  }
 ],
 "metadata": {
  "kernelspec": {
   "name": "python3",
   "language": "python",
   "display_name": "Python 3 (ipykernel)"
  }
 },
 "nbformat": 5,
 "nbformat_minor": 9
}
