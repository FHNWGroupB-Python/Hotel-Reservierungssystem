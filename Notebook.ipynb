{
 "cells": [
  {
   "metadata": {
    "ExecuteTime": {
     "end_time": "2025-06-01T13:34:53.679497Z",
     "start_time": "2025-06-01T13:34:53.672038Z"
    }
   },
   "cell_type": "code",
   "source": [
    "import os\n",
    "import shutil\n",
    "\n",
    "original_db = \"database/hotel_reservation_sample.db\"\n",
    "working_db = \"database/hotel_reservation.db\"\n",
    "shutil.copy(original_db, working_db)\n",
    "\n",
    "os.environ[\"DB\"] = working_db"
   ],
   "id": "2ff10f3046bd3b0a",
   "outputs": [],
   "execution_count": 1
  },
  {
   "metadata": {},
   "cell_type": "markdown",
   "source": [
    "# Userstory 1\n",
    "Als Gast möchte ich die verfügbaren Hotels durchsuchen, damit\n",
    "ich dasjenige auswählen kann, welches meinen Wünschen\n",
    "entspricht. Wünsche sind:\n",
    "\n",
    "# Userstory 1.1\n",
    "Ich möchte alle Hotels in einer Stadt durchsuchen,\n",
    "damit ich das Hotel nach meinem bevorzugten Standort\n",
    "(Stadt) auswählen kann.\n"
   ],
   "id": "2d0959596686ba81"
  },
  {
   "metadata": {
    "ExecuteTime": {
     "end_time": "2025-05-29T07:29:33.979370Z",
     "start_time": "2025-05-29T07:29:30.113935Z"
    }
   },
   "cell_type": "code",
   "source": [
    "import model\n",
    "from business_logic.hotel_manager import HotelManager\n",
    "from business_logic.address_manager import AddressManager\n",
    "\n",
    "hotel_manager = HotelManager()\n",
    "\n",
    "valid = False\n",
    "while not valid:\n",
    "    city = input(\"In welcher Stadt suchen Sie Ihr gewünschtes Hotel? \")\n",
    "    hotels = hotel_manager.search_hotels_by_city(city)\n",
    "    if hotels:\n",
    "        print(\"Gefundene Hotels:\")\n",
    "        for hotel in hotels:\n",
    "            print(f\"{hotel.name} mit {hotel.stars} Sternen an der {hotel.address.street}, {hotel.address.city}, {hotel.address.zip_code}\")\n",
    "        valid = True\n",
    "    else:\n",
    "        print(\"Keine Hotels gefunden\")\n"
   ],
   "id": "e2f32f03235a0a5",
   "outputs": [
    {
     "name": "stdout",
     "output_type": "stream",
     "text": [
      "Gefundene Hotels:\n",
      "Hotel Baur au Lac mit 5 Sternen an der Bahnhofstrasse 1, Zürich, 8001\n"
     ]
    }
   ],
   "execution_count": 3
  },
  {
   "metadata": {},
   "cell_type": "markdown",
   "source": [
    "# Userstory 1.2\n",
    "Ich möchte alle Hotels in einer Stadt nach der\n",
    "Anzahl der Sterne (z.B. mindestens 4 Sterne) durchsuchen.\n"
   ],
   "id": "d9b7a7494ea04543"
  },
  {
   "metadata": {
    "ExecuteTime": {
     "end_time": "2025-06-01T12:48:44.306968Z",
     "start_time": "2025-06-01T12:48:37.699323Z"
    }
   },
   "cell_type": "code",
   "source": [
    "import model\n",
    "from business_logic.hotel_manager import HotelManager\n",
    "from business_logic.address_manager import AddressManager\n",
    "\n",
    "\n",
    "hotel_manager = HotelManager()\n",
    "\n",
    "valid = False\n",
    "while not valid:\n",
    "    city = input(\"In welcher Stadt suchen Sie Ihr gewünschtes Hotel? \")\n",
    "    stars = int(input(\"Geben Sie die min. Anzahl Sterne an\" ))\n",
    "    hotels = hotel_manager.search_hotels_by_city_and_stars(city, stars)\n",
    "    if hotels:\n",
    "        print(\"Gefundene Hotels:\")\n",
    "        for hotel in hotels:\n",
    "            print(f\"{hotel.name} mit {hotel.stars} Sternen an der {hotel.address.street}, {hotel.address.city}, {hotel.address.zip_code}\")\n",
    "        valid = True\n",
    "    else:\n",
    "        print(\"Keine Hotels gefunden\")\n"
   ],
   "id": "44a31c4c8903d2df",
   "outputs": [
    {
     "name": "stdout",
     "output_type": "stream",
     "text": [
      "Gefundene Hotels:\n",
      "Hotel Baur au Lac mit 5 Sternen an der Bahnhofstrasse 1, Zürich, 8001\n",
      "Olympia mit 3 Sternen an der Teststrasse, Zürich, 8001\n"
     ]
    }
   ],
   "execution_count": 11
  },
  {
   "metadata": {},
   "cell_type": "markdown",
   "source": [
    "# Userstory 1.3\n",
    "Ich möchte alle Hotels in einer Stadt durchsuchen,\n",
    "die Zimmer haben, die meiner Gästezahl entsprechen (nur 1\n",
    "Zimmer pro Buchung).\n"
   ],
   "id": "f2a2b75202e03f4"
  },
  {
   "metadata": {
    "ExecuteTime": {
     "end_time": "2025-06-01T12:47:46.354248Z",
     "start_time": "2025-06-01T12:47:40.598614Z"
    }
   },
   "cell_type": "code",
   "source": [
    "from business_logic.hotel_manager import HotelManager\n",
    "\n",
    "hotel_manager = HotelManager()\n",
    "\n",
    "valid = False\n",
    "while not valid:\n",
    "    city = input(\"In welcher Stadt suchen Sie Ihr gewünschtes Hotel? \")\n",
    "    try:\n",
    "        guest_count = int(input(\"Geben Sie die min. Anzahl der Gäste an: \"))\n",
    "    except ValueError:\n",
    "        print(\"Ungültige Eingabe, geben Sie eine Zahl an\")\n",
    "\n",
    "    hotels = hotel_manager.search_hotels_by_city_and_room_capacity(city, guest_count)\n",
    "\n",
    "    if hotels:\n",
    "        print(\"Gefundene Hotels:\")\n",
    "        for hotel in hotels:\n",
    "            print(f\"\\n{hotel.name}, Sterne: {hotel.stars}\"\n",
    "                  f\"\\nAddresse: {hotel.address.street}, {hotel.address.city}, {hotel.address.zip_code}\"\n",
    "                  f\"\\nZimmer: {hotel.room_number}, {hotel.description}, Kapazität: {hotel.max_guests}\"\n",
    "                  f\"\\nPreis pro Nacht: {hotel.price_per_night}\")\n",
    "\n",
    "        valid = True\n",
    "    else:\n",
    "        print(\"Keine Hotels gefunden\")\n"
   ],
   "id": "21b9e33967e68252",
   "outputs": [
    {
     "name": "stdout",
     "output_type": "stream",
     "text": [
      "Gefundene Hotels:\n",
      "\n",
      "Hotel Baur au Lac, Sterne: 5\n",
      "Addresse: Bahnhofstrasse 1, Zürich, 8001\n",
      "Zimmer: 101, Single, Kapazität: 1\n",
      "Preis pro Nacht: 250.0\n",
      "\n",
      "Hotel Baur au Lac, Sterne: 5\n",
      "Addresse: Bahnhofstrasse 1, Zürich, 8001\n",
      "Zimmer: 102, Double, Kapazität: 2\n",
      "Preis pro Nacht: 400.0\n"
     ]
    }
   ],
   "execution_count": 8
  },
  {
   "metadata": {},
   "cell_type": "markdown",
   "source": [
    "# Userstory 1.4\n",
    "Ich möchte alle Hotels in einer Stadt durchsuchen,\n",
    "die während meines Aufenthaltes (\"von\" (check_in_date)\n",
    "und \"bis\" (check_out_date)) Zimmer zur Verfügung haben,\n",
    "damit ich nur relevante Ergebnisse sehe.\n"
   ],
   "id": "37efc15412dda88c"
  },
  {
   "metadata": {
    "ExecuteTime": {
     "end_time": "2025-06-01T13:37:53.602021Z",
     "start_time": "2025-06-01T13:37:36.400929Z"
    }
   },
   "cell_type": "code",
   "source": [
    "from datetime import datetime\n",
    "from business_logic.hotel_manager import HotelManager\n",
    "\n",
    "hotel_manager = HotelManager()\n",
    "valid = False\n",
    "while not valid:\n",
    "    city = input(\"In welcher Stadt suchen Sie Ihr gewünschtes Hotel? \")\n",
    "    check_in_date = input(\"Geben Sie ihr gewünschtes Anreisedatum an (YYYY-MM-DD): \")\n",
    "    check_out_date = input(\"Geben Sie ihr gewünschtes Abreisedatum an (YYYY-MM-DD): \")\n",
    "\n",
    "    try:\n",
    "        check_in_date = datetime.strptime(check_in_date, \"%Y-%m-%d\").date()\n",
    "        check_out_date = datetime.strptime(check_out_date, \"%Y-%m-%d\").date()\n",
    "    except ValueError:\n",
    "        print(\"Ungültiges Datumsformat. Bitte unbedingt YYYY-MM-DD verwenden.\\n\")\n",
    "        continue\n",
    "\n",
    "    if check_in_date >= check_out_date:\n",
    "        print(\"Fehler: Checkout muss nach dem Checkin liegen. Bitte erneut eingeben\")\n",
    "        continue\n",
    "\n",
    "    hotels = hotel_manager.search_hotels_by_city_and_availability(city, check_in_date, check_out_date)\n",
    "\n",
    "    if hotels:\n",
    "        print(\"Gefundene Hotels:\")\n",
    "        for hotel in hotels:\n",
    "            print(f\"\\n{hotel.name}, Sterne: {hotel.stars}\"\n",
    "                  f\"\\nAddresse: {hotel.address.street}, {hotel.address.city}, {hotel.address.zip_code}\"\n",
    "                  f\"\\nZimmer: {hotel.room_number}, {hotel.description}, Kapazität: {hotel.max_guests}\"\n",
    "                  f\"\\nPreis pro Nacht: {hotel.price_per_night}\"\n",
    "                  f\"\\nAnreisedatum von bis: {check_in_date} - {check_out_date}\"\n",
    "            )\n",
    "        valid = True\n",
    "    else:\n",
    "        print(\"Leider keine Verfügbarkeit in diesem Zeitraum. Versuchen Sie bitte einen anderen Zeitraum.\")\n",
    "\n"
   ],
   "id": "6e40937f61e2d2df",
   "outputs": [
    {
     "name": "stdout",
     "output_type": "stream",
     "text": [
      "Ungültiges Datumsformat. Bitte unbedingt YYYY-MM-DD verwenden.\n",
      "\n"
     ]
    },
    {
     "ename": "KeyboardInterrupt",
     "evalue": "Interrupted by user",
     "output_type": "error",
     "traceback": [
      "\u001B[31m---------------------------------------------------------------------------\u001B[39m",
      "\u001B[31mKeyboardInterrupt\u001B[39m                         Traceback (most recent call last)",
      "\u001B[36mCell\u001B[39m\u001B[36m \u001B[39m\u001B[32mIn[3]\u001B[39m\u001B[32m, line 7\u001B[39m\n\u001B[32m      5\u001B[39m valid = \u001B[38;5;28;01mFalse\u001B[39;00m\n\u001B[32m      6\u001B[39m \u001B[38;5;28;01mwhile\u001B[39;00m \u001B[38;5;129;01mnot\u001B[39;00m valid:\n\u001B[32m----> \u001B[39m\u001B[32m7\u001B[39m     city = \u001B[38;5;28;43minput\u001B[39;49m\u001B[43m(\u001B[49m\u001B[33;43m\"\u001B[39;49m\u001B[33;43mIn welcher Stadt suchen Sie Ihr gewünschtes Hotel? \u001B[39;49m\u001B[33;43m\"\u001B[39;49m\u001B[43m)\u001B[49m\n\u001B[32m      8\u001B[39m     check_in_date = \u001B[38;5;28minput\u001B[39m(\u001B[33m\"\u001B[39m\u001B[33mGeben Sie ihr gewünschtes Anreisedatum an (YYYY-MM-DD): \u001B[39m\u001B[33m\"\u001B[39m)\n\u001B[32m      9\u001B[39m     check_out_date = \u001B[38;5;28minput\u001B[39m(\u001B[33m\"\u001B[39m\u001B[33mGeben Sie ihr gewünschtes Abreisedatum an (YYYY-MM-DD): \u001B[39m\u001B[33m\"\u001B[39m)\n",
      "\u001B[36mFile \u001B[39m\u001B[32m~/PycharmProjects/Hotel_Reservierungssystem/.venv/lib/python3.12/site-packages/ipykernel/kernelbase.py:1282\u001B[39m, in \u001B[36mKernel.raw_input\u001B[39m\u001B[34m(self, prompt)\u001B[39m\n\u001B[32m   1280\u001B[39m     msg = \u001B[33m\"\u001B[39m\u001B[33mraw_input was called, but this frontend does not support input requests.\u001B[39m\u001B[33m\"\u001B[39m\n\u001B[32m   1281\u001B[39m     \u001B[38;5;28;01mraise\u001B[39;00m StdinNotImplementedError(msg)\n\u001B[32m-> \u001B[39m\u001B[32m1282\u001B[39m \u001B[38;5;28;01mreturn\u001B[39;00m \u001B[38;5;28;43mself\u001B[39;49m\u001B[43m.\u001B[49m\u001B[43m_input_request\u001B[49m\u001B[43m(\u001B[49m\n\u001B[32m   1283\u001B[39m \u001B[43m    \u001B[49m\u001B[38;5;28;43mstr\u001B[39;49m\u001B[43m(\u001B[49m\u001B[43mprompt\u001B[49m\u001B[43m)\u001B[49m\u001B[43m,\u001B[49m\n\u001B[32m   1284\u001B[39m \u001B[43m    \u001B[49m\u001B[38;5;28;43mself\u001B[39;49m\u001B[43m.\u001B[49m\u001B[43m_parent_ident\u001B[49m\u001B[43m[\u001B[49m\u001B[33;43m\"\u001B[39;49m\u001B[33;43mshell\u001B[39;49m\u001B[33;43m\"\u001B[39;49m\u001B[43m]\u001B[49m\u001B[43m,\u001B[49m\n\u001B[32m   1285\u001B[39m \u001B[43m    \u001B[49m\u001B[38;5;28;43mself\u001B[39;49m\u001B[43m.\u001B[49m\u001B[43mget_parent\u001B[49m\u001B[43m(\u001B[49m\u001B[33;43m\"\u001B[39;49m\u001B[33;43mshell\u001B[39;49m\u001B[33;43m\"\u001B[39;49m\u001B[43m)\u001B[49m\u001B[43m,\u001B[49m\n\u001B[32m   1286\u001B[39m \u001B[43m    \u001B[49m\u001B[43mpassword\u001B[49m\u001B[43m=\u001B[49m\u001B[38;5;28;43;01mFalse\u001B[39;49;00m\u001B[43m,\u001B[49m\n\u001B[32m   1287\u001B[39m \u001B[43m\u001B[49m\u001B[43m)\u001B[49m\n",
      "\u001B[36mFile \u001B[39m\u001B[32m~/PycharmProjects/Hotel_Reservierungssystem/.venv/lib/python3.12/site-packages/ipykernel/kernelbase.py:1325\u001B[39m, in \u001B[36mKernel._input_request\u001B[39m\u001B[34m(self, prompt, ident, parent, password)\u001B[39m\n\u001B[32m   1322\u001B[39m \u001B[38;5;28;01mexcept\u001B[39;00m \u001B[38;5;167;01mKeyboardInterrupt\u001B[39;00m:\n\u001B[32m   1323\u001B[39m     \u001B[38;5;66;03m# re-raise KeyboardInterrupt, to truncate traceback\u001B[39;00m\n\u001B[32m   1324\u001B[39m     msg = \u001B[33m\"\u001B[39m\u001B[33mInterrupted by user\u001B[39m\u001B[33m\"\u001B[39m\n\u001B[32m-> \u001B[39m\u001B[32m1325\u001B[39m     \u001B[38;5;28;01mraise\u001B[39;00m \u001B[38;5;167;01mKeyboardInterrupt\u001B[39;00m(msg) \u001B[38;5;28;01mfrom\u001B[39;00m\u001B[38;5;250m \u001B[39m\u001B[38;5;28;01mNone\u001B[39;00m\n\u001B[32m   1326\u001B[39m \u001B[38;5;28;01mexcept\u001B[39;00m \u001B[38;5;167;01mException\u001B[39;00m:\n\u001B[32m   1327\u001B[39m     \u001B[38;5;28mself\u001B[39m.log.warning(\u001B[33m\"\u001B[39m\u001B[33mInvalid Message:\u001B[39m\u001B[33m\"\u001B[39m, exc_info=\u001B[38;5;28;01mTrue\u001B[39;00m)\n",
      "\u001B[31mKeyboardInterrupt\u001B[39m: Interrupted by user"
     ]
    }
   ],
   "execution_count": 3
  },
  {
   "metadata": {},
   "cell_type": "markdown",
   "source": [
    "# Userstory 3.1\n",
    "Ich möchte neue Hotels zum System hinzufügen\n",
    "\n",
    "## Input Daten vom Admin\n",
    "\n",
    "* Daten wie Strasse, Hotelname, Anzahl Sterne und Ort(Addresse)\n",
    "\n",
    "\n"
   ],
   "id": "6cdc2e9f3ac4c5d7"
  },
  {
   "metadata": {
    "ExecuteTime": {
     "end_time": "2025-06-01T12:48:01.382819Z",
     "start_time": "2025-06-01T12:48:01.376171Z"
    }
   },
   "cell_type": "code",
   "source": [
    "# Userstory 3.1\n",
    "from datetime import date\n",
    "from business_logic.hotel_manager import HotelManager\n",
    "from business_logic.address_manager import AddressManager\n",
    "from model.hotel import Hotel\n",
    "from model.address import Address\n",
    "\n",
    "address_manager = AddressManager()\n",
    "createded_address = address_manager.create_address(\"Teststrasse\", \"Zürich\", 8001)\n",
    "print(f\"Neue Addresse: {createded_address.street}, {createded_address.city}, {createded_address.zip_code}\")\n",
    "\n",
    "\n",
    "hotel_manager = HotelManager()\n",
    "h = Hotel(6, \"Olympia\", 3)\n",
    "hotel = hotel_manager.create_hotel(\"Olympia\", 3, createded_address)\n",
    "print(f\"Neues Hotel: {h.name}, Sterne: {h.stars}\")"
   ],
   "id": "e36816ee3cee5ad1",
   "outputs": [
    {
     "name": "stdout",
     "output_type": "stream",
     "text": [
      "Neue Addresse: Teststrasse, Zürich, 8001\n",
      "Neues Hotel: Olympia, Sterne: 3\n"
     ]
    }
   ],
   "execution_count": 10
  },
  {
   "metadata": {},
   "cell_type": "markdown",
   "source": [
    "# Userstory 4\n",
    "Als Gast möchte ich ein Zimmer in einem bestimmten Hotel\n",
    "buchen, um meinen Urlaub zu planen.\n"
   ],
   "id": "40799e6bc3c23075"
  },
  {
   "metadata": {
    "ExecuteTime": {
     "end_time": "2025-05-28T18:15:36.915120Z",
     "start_time": "2025-05-28T18:15:36.904198Z"
    }
   },
   "cell_type": "code",
   "source": [
    "from business_logic.booking_manager import BookingManager\n",
    "from model.guest import Guest\n",
    "from model.room import Room\n",
    "from model.room_type import RoomType\n",
    "from datetime import date\n",
    "\n",
    "\n",
    "guest = Guest(1, \"John\", \"Doe\", \"mail\")\n",
    "room = Room(1, 202, 80.90)\n",
    "room_type = RoomType(1, \"Standard\", 1)\n",
    "room.room_type = room_type\n",
    "\n",
    "booking_manager = BookingManager()\n",
    "b = booking_manager.create_booking(guest, room,1, date(2025, 1, 1), date(2025, 1, 3))\n",
    "print(f\" Checkin Date: {b.check_in_date}, Amount: {b.total_amount}\")"
   ],
   "id": "b1fa4cc22792b227",
   "outputs": [
    {
     "name": "stdout",
     "output_type": "stream",
     "text": [
      " Checkin Date: 2025-01-01, Amount: 161.8\n"
     ]
    }
   ],
   "execution_count": 21
  }
 ],
 "metadata": {
  "kernelspec": {
   "name": "python3",
   "language": "python",
   "display_name": "Python 3 (ipykernel)"
  }
 },
 "nbformat": 5,
 "nbformat_minor": 9
}
