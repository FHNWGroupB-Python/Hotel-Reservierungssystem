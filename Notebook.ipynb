{
 "cells": [
  {
   "metadata": {
    "ExecuteTime": {
     "end_time": "2025-06-12T14:20:20.763971Z",
     "start_time": "2025-06-12T14:20:20.754728Z"
    }
   },
   "cell_type": "code",
   "source": [
    "import os\n",
    "import shutil\n",
    "\n",
    "from business_logic import GuestManager\n",
    "\n",
    "original_db = \"database/hotel_reservation_sample.db\"\n",
    "working_db = \"database/hotel_reservation.db\"\n",
    "shutil.copy(original_db, working_db)\n",
    "\n",
    "os.environ[\"DB\"] = working_db"
   ],
   "id": "558eb779ba5743a5",
   "outputs": [],
   "execution_count": 4
  },
  {
   "metadata": {},
   "cell_type": "markdown",
   "source": [
    "# Userstory 1\n",
    "Als Gast möchte ich die verfügbaren Hotels durchsuchen, damit\n",
    "ich dasjenige auswählen kann, welches meinen Wünschen\n",
    "entspricht. Wünsche sind:\n",
    "\n",
    "# Userstory 1.1\n",
    "Ich möchte alle Hotels in einer Stadt durchsuchen,\n",
    "damit ich das Hotel nach meinem bevorzugten Standort\n",
    "(Stadt) auswählen kann.\n"
   ],
   "id": "53857a2253220875"
  },
  {
   "metadata": {
    "ExecuteTime": {
     "end_time": "2025-06-11T21:04:41.421146Z",
     "start_time": "2025-06-11T21:04:37.481753Z"
    }
   },
   "cell_type": "code",
   "source": [
    "import model\n",
    "from business_logic.hotel_manager import HotelManager\n",
    "from business_logic.address_manager import AddressManager\n",
    "\n",
    "hotel_manager = HotelManager()\n",
    "\n",
    "valid = False\n",
    "while not valid:\n",
    "    city = input(\"In welcher Stadt suchen Sie Ihr gewünschtes Hotel? \")\n",
    "    hotels = hotel_manager.search_hotels_by_city(city)\n",
    "    if hotels:\n",
    "        print(\"Gefundene Hotels:\")\n",
    "        for hotel in hotels:\n",
    "            print(f\"{hotel.name} mit {hotel.stars} Sternen an der {hotel.address.street}, {hotel.address.city}, {hotel.address.zip_code}\")\n",
    "        valid = True\n",
    "    else:\n",
    "        print(\"Keine Hotels gefunden\")\n"
   ],
   "id": "ae84011b54f314d7",
   "outputs": [
    {
     "name": "stdout",
     "output_type": "stream",
     "text": [
      "Gefundene Hotels:\n",
      "Les Trois Rois mit 5 Sternen an der Freiestrasse 10, Basel, 4051\n"
     ]
    }
   ],
   "execution_count": 4
  },
  {
   "metadata": {},
   "cell_type": "markdown",
   "source": [
    "# Userstory 1.2\n",
    "Ich möchte alle Hotels in einer Stadt nach der\n",
    "Anzahl der Sterne (z.B. mindestens 4 Sterne) durchsuchen.\n"
   ],
   "id": "2b566f4bc13f4a8f"
  },
  {
   "metadata": {
    "ExecuteTime": {
     "end_time": "2025-06-11T16:52:56.641364Z",
     "start_time": "2025-06-11T16:52:49.487764Z"
    }
   },
   "cell_type": "code",
   "source": [
    "import model\n",
    "from business_logic.hotel_manager import HotelManager\n",
    "\n",
    "hotel_manager = HotelManager()\n",
    "\n",
    "valid = False\n",
    "while not valid:\n",
    "    city = input(\"In welcher Stadt suchen Sie Ihr gewünschtes Hotel? \")\n",
    "    stars = int(input(\"Geben Sie die min. Anzahl Sterne an\" ))\n",
    "    hotels = hotel_manager.search_hotels_by_city_and_stars(city, stars)\n",
    "    if hotels:\n",
    "        print(\"Gefundene Hotels:\")\n",
    "        for hotel in hotels:\n",
    "            print(f\"{hotel.name} mit {hotel.stars} Sternen an der {hotel.address.street}, {hotel.address.city}, {hotel.address.zip_code}\")\n",
    "        valid = True\n",
    "    else:\n",
    "        print(\"Keine Hotels gefunden\")\n"
   ],
   "id": "58144eb5df9cad0f",
   "outputs": [
    {
     "name": "stdout",
     "output_type": "stream",
     "text": [
      "Gefundene Hotels:\n",
      "Hotel Baur au Lac mit 5 Sternen an der Bahnhofstrasse 1, Zürich, 8001\n"
     ]
    }
   ],
   "execution_count": 39
  },
  {
   "metadata": {},
   "cell_type": "markdown",
   "source": [
    "# Userstory 1.3\n",
    "Ich möchte alle Hotels in einer Stadt durchsuchen,\n",
    "die Zimmer haben, die meiner Gästezahl entsprechen (nur 1\n",
    "Zimmer pro Buchung).\n"
   ],
   "id": "69fe4b41a40402a0"
  },
  {
   "metadata": {
    "ExecuteTime": {
     "end_time": "2025-06-11T16:53:45.839203Z",
     "start_time": "2025-06-11T16:53:38.354936Z"
    }
   },
   "cell_type": "code",
   "source": [
    "from business_logic.hotel_manager import HotelManager\n",
    "\n",
    "hotel_manager = HotelManager()\n",
    "\n",
    "valid = False\n",
    "while not valid:\n",
    "    city = input(\"In welcher Stadt suchen Sie Ihr gewünschtes Hotel? \")\n",
    "    try:\n",
    "        guest_count = int(input(\"Geben Sie die min. Anzahl der Gäste an: \"))\n",
    "    except ValueError:\n",
    "        print(\"Ungültige Eingabe, geben Sie eine Zahl an\")\n",
    "\n",
    "    hotels = hotel_manager.search_hotels_by_city_and_room_capacity(city, guest_count)\n",
    "\n",
    "    if hotels:\n",
    "        print(\"Gefundene Hotels:\")\n",
    "        for hotel in hotels:\n",
    "            print(f\"\\n{hotel.name}, Sterne: {hotel.stars}\"\n",
    "                  f\"\\nAddresse: {hotel.address.street}, {hotel.address.city}, {hotel.address.zip_code}\"\n",
    "                  f\"\\nZimmer: {hotel.room_number}, {hotel.description}, Kapazität: {hotel.max_guests}\"\n",
    "                  f\"\\nPreis pro Nacht: {hotel.price_per_night}\")\n",
    "\n",
    "        valid = True\n",
    "    else:\n",
    "        print(\"Keine Hotels gefunden\")\n"
   ],
   "id": "e7df0599c81682f6",
   "outputs": [
    {
     "name": "stdout",
     "output_type": "stream",
     "text": [
      "Gefundene Hotels:\n",
      "\n",
      "Hotel Baur au Lac, Sterne: 5\n",
      "Addresse: Bahnhofstrasse 1, Zürich, 8001\n",
      "Zimmer: 102, Double, Kapazität: 2\n",
      "Preis pro Nacht: 400.0\n"
     ]
    }
   ],
   "execution_count": 40
  },
  {
   "metadata": {},
   "cell_type": "markdown",
   "source": [
    "# Userstory 1.4\n",
    "Ich möchte alle Hotels in einer Stadt durchsuchen,\n",
    "die während meines Aufenthaltes (\"von\" (check_in_date)\n",
    "und \"bis\" (check_out_date)) Zimmer zur Verfügung haben,\n",
    "damit ich nur relevante Ergebnisse sehe.\n"
   ],
   "id": "43af8d9a14f38fb1"
  },
  {
   "metadata": {
    "ExecuteTime": {
     "end_time": "2025-06-11T16:54:31.398600Z",
     "start_time": "2025-06-11T16:53:56.366667Z"
    }
   },
   "cell_type": "code",
   "source": [
    "from datetime import datetime\n",
    "from business_logic.hotel_manager import HotelManager\n",
    "\n",
    "hotel_manager = HotelManager()\n",
    "valid = False\n",
    "while not valid:\n",
    "    city = input(\"In welcher Stadt suchen Sie Ihr gewünschtes Hotel? \")\n",
    "    check_in_date = input(\"Geben Sie ihr gewünschtes Anreisedatum an (YYYY-MM-DD): \")\n",
    "    check_out_date = input(\"Geben Sie ihr gewünschtes Abreisedatum an (YYYY-MM-DD): \")\n",
    "\n",
    "    try:\n",
    "        check_in_date = datetime.strptime(check_in_date, \"%Y-%m-%d\").date()\n",
    "        check_out_date = datetime.strptime(check_out_date, \"%Y-%m-%d\").date()\n",
    "    except ValueError:\n",
    "        print(\"Ungültiges Datumsformat. Bitte unbedingt YYYY-MM-DD verwenden.\\n\")\n",
    "        continue\n",
    "\n",
    "    if check_in_date >= check_out_date:\n",
    "        print(\"Fehler: Checkout muss nach dem Checkin liegen. Bitte erneut eingeben\")\n",
    "        continue\n",
    "\n",
    "    hotels = hotel_manager.search_hotels_by_city_and_availability(city, check_in_date, check_out_date)\n",
    "\n",
    "    if hotels:\n",
    "        print(\"Gefundene Hotels:\")\n",
    "        for hotel in hotels:\n",
    "            print(f\"\\n{hotel.name}, Sterne: {hotel.stars}\"\n",
    "                  f\"\\nAddresse: {hotel.address.street}, {hotel.address.city}, {hotel.address.zip_code}\"\n",
    "                  f\"\\nZimmer: {hotel.room_number}, {hotel.description}, Kapazität: {hotel.max_guests}\"\n",
    "                  f\"\\nPreis pro Nacht: {hotel.price_per_night}\"\n",
    "                  f\"\\nAnreisedatum von bis: {check_in_date} - {check_out_date}\"\n",
    "            )\n",
    "        valid = True\n",
    "    else:\n",
    "        print(\"Leider keine Verfügbarkeit in diesem Zeitraum. Versuchen Sie bitte einen anderen Zeitraum.\")\n",
    "\n"
   ],
   "id": "5d03821fa64ece23",
   "outputs": [
    {
     "name": "stdout",
     "output_type": "stream",
     "text": [
      "Ungültiges Datumsformat. Bitte unbedingt YYYY-MM-DD verwenden.\n",
      "\n",
      "Gefundene Hotels:\n",
      "\n",
      "Hotel Baur au Lac, Sterne: 5\n",
      "Addresse: Bahnhofstrasse 1, Zürich, 8001\n",
      "Zimmer: 101, Single, Kapazität: 1\n",
      "Preis pro Nacht: 250.0\n",
      "Anreisedatum von bis: 2025-01-01 - 2025-01-04\n",
      "\n",
      "Hotel Baur au Lac, Sterne: 5\n",
      "Addresse: Bahnhofstrasse 1, Zürich, 8001\n",
      "Zimmer: 102, Double, Kapazität: 2\n",
      "Preis pro Nacht: 400.0\n",
      "Anreisedatum von bis: 2025-01-01 - 2025-01-04\n"
     ]
    }
   ],
   "execution_count": 41
  },
  {
   "metadata": {},
   "cell_type": "markdown",
   "source": [
    "# Userstory 1.5\n",
    "Ich möchte Wünsche kombinieren können, z.B. die\n",
    "verfügbaren Zimmer zusammen mit meiner Gästezahl und der\n",
    "mindest Anzahl Sterne"
   ],
   "id": "34fa0505036b5040"
  },
  {
   "metadata": {},
   "cell_type": "code",
   "outputs": [],
   "execution_count": null,
   "source": [
    "from datetime import datetime\n",
    "from business_logic.hotel_manager import HotelManager\n",
    "\n",
    "hotel_manager = HotelManager()\n",
    "valid = False\n",
    "while not valid:\n",
    "    city = input(\"In welcher Stadt suchen Sie Ihr gewünschtes Hotel? \")\n",
    "    try:\n",
    "        check_in_str = input(\"Geben Sie ihr gewünschtes Anreisedatum an (YYYY-MM-DD): \")\n",
    "        check_out_str = input(\"Geben Sie ihr gewünschtes Abreisedatum an (YYYY-MM-DD): \")\n",
    "        check_in_date = datetime.strptime(check_in_str, \"%Y-%m-%d\").date()\n",
    "        check_out_date = datetime.strptime(check_out_str, \"%Y-%m-%d\").date()\n",
    "    except ValueError:\n",
    "        print(\"Ungültiges Datumsformat. Bitte unbedingt YYYY-MM-DD verwenden.\\n\")\n",
    "        continue\n",
    "\n",
    "    if check_in_date >= check_out_date:\n",
    "        print(\"Fehler: Checkout muss nach dem Checkin liegen. Bitte erneut eingeben\")\n",
    "        continue\n",
    "\n",
    "    try:\n",
    "        stars = int(input(\"Geben Sie die min. Anzahl Sterne an\" ))\n",
    "    except ValueError:\n",
    "        print(\"Ungültige Eingabe, geben Sie eine Zahl an\")\n",
    "        continue\n",
    "\n",
    "    try:\n",
    "        guest_count = int(input(\"Geben Sie die min. Anzahl der Gäste an: \"))\n",
    "    except ValueError:\n",
    "        print(\"Ungültige Eingabe, geben Sie eine Zahl an\")\n",
    "        continue\n",
    "\n",
    "\n",
    "    hotels = hotel_manager.search_hotels_by_city_availability_stars_capacity(\n",
    "        city,\n",
    "        check_in_date,\n",
    "        check_out_date,\n",
    "        stars,\n",
    "        guest_count\n",
    "    )\n",
    "\n",
    "    if hotels:\n",
    "        print(\"Gefundene Hotels:\")\n",
    "        for hotel in hotels:\n",
    "            print(f\"\\n{hotel.name}, Sterne: {hotel.stars}\"\n",
    "                  f\"\\nAddresse: {hotel.address.street}, {hotel.address.city}, {hotel.address.zip_code}\"\n",
    "                  f\"\\nZimmer: {hotel.room_number}, {hotel.description}, Kapazität: {hotel.max_guests}\"\n",
    "                  f\"\\nPreis pro Nacht: {hotel.price_per_night}\"\n",
    "                  f\"\\nAnreisedatum von bis: {check_in_date} - {check_out_date}\"\n",
    "            )\n",
    "        valid = True\n",
    "    else:\n",
    "        print(\"Leider keine Verfügbarkeit in diesem Zeitraum. Versuchen Sie bitte einen anderen Zeitraum.\")\n",
    "\n"
   ],
   "id": "bee76838dc25e8aa"
  },
  {
   "metadata": {},
   "cell_type": "markdown",
   "source": [
    "# Userstory 1.6\n",
    "Ich möchte die folgenden Informationen pro Hotel\n",
    "sehen: Name, Adresse, Anzahl der Sterne."
   ],
   "id": "2e7f08a52e0c95c9"
  },
  {
   "metadata": {},
   "cell_type": "code",
   "outputs": [],
   "execution_count": null,
   "source": [
    "from business_logic.hotel_manager import HotelManager\n",
    "\n",
    "hotel_manager = HotelManager()\n",
    "\n",
    "hotels = hotel_manager.get_all_hotel_info()\n",
    "if not hotels:\n",
    "    print(\"Keine Hotels gefunden.\")\n",
    "else:\n",
    "    for hotel in hotels:\n",
    "        print(f\"\\nHotel: {hotel.name}, Sterne: {hotel.stars}\\n\"\n",
    "              f\"Adresse: {hotel.address.street}, {hotel.address.city}, {hotel.address.zip_code}\"\n",
    "            )\n"
   ],
   "id": "85fc68c390ccc41d"
  },
  {
   "metadata": {},
   "cell_type": "markdown",
   "source": [
    "# Userstory 2\n",
    "Als Gast möchte ich Details zu verschiedenen Zimmertypen\n",
    "(Single, Double, Suite usw.), die in einem Hotel verfügbar\n",
    "sind, sehen, einschliesslich der maximalen Anzahl von Gästen\n",
    "für dieses Zimmer, Beschreibung, Preis und Ausstattung, um eine\n",
    "fundierte Entscheidung zu treffen.\n",
    "# Userstory 2.1\n",
    "Ich möchte die folgenden Informationen pro Zimmer\n",
    "sehen: Zimmertyp, max. Anzahl der Gäste, Beschreibung,\n",
    "Ausstattung, Preis pro Nacht und Gesamtpreis."
   ],
   "id": "1ef8c468bbee5d65"
  },
  {
   "metadata": {
    "ExecuteTime": {
     "end_time": "2025-06-11T18:45:51.292088Z",
     "start_time": "2025-06-11T18:45:40.546326Z"
    }
   },
   "cell_type": "code",
   "source": [
    "\n",
    "from business_logic.room_manager import RoomManager\n",
    "\n",
    "room_manager = RoomManager()\n",
    "\n",
    "hotel_name_input = input(\"Geben Sie den exakten Hotelnamen ein: \").strip()\n",
    "try:\n",
    "    rooms = room_manager.get_room_info_by_hotel(hotel_name_input)\n",
    "except Exception as e:\n",
    "    print(f\"Fehler bei der Abfrage: {e}\")\n",
    "\n",
    "if not rooms:\n",
    "    print(f\"Für Hotel „{hotel_name_input}“ wurden keine Zimmer gefunden.\")\n",
    "else:\n",
    "    print(f\"\\nZimmer für „{hotel_name_input}“:\\n\")\n",
    "    for r in rooms:\n",
    "        print(\n",
    "            f\"  Zimmer-ID      : {r.room_id}\\n\"\n",
    "            f\"  Zimmernummer   : {r.room_number}\\n\"\n",
    "            f\"  Zimmertyp      : {r.room_type.description}\\n\"\n",
    "            f\"  Max. Gäste     : {r.room_type.max_guests}\\n\"\n",
    "            f\"  Preis/Nacht    : {r.price_per_night}\\n\")"
   ],
   "id": "da5aa390dd3fa877",
   "outputs": [
    {
     "name": "stdout",
     "output_type": "stream",
     "text": [
      "\n",
      "Zimmer für „Hotel Baur au Lac“:\n",
      "\n",
      "  Zimmer-ID      : 1\n",
      "  Zimmernummer   : 101\n",
      "  Zimmertyp      : Single\n",
      "  Max. Gäste     : 1\n",
      "  Preis/Nacht    : 250.0\n",
      "\n",
      "  Zimmer-ID      : 2\n",
      "  Zimmernummer   : 102\n",
      "  Zimmertyp      : Double\n",
      "  Max. Gäste     : 2\n",
      "  Preis/Nacht    : 400.0\n",
      "\n"
     ]
    }
   ],
   "execution_count": 9
  },
  {
   "metadata": {},
   "cell_type": "markdown",
   "source": [
    "# Userstory 2.2\n",
    "Ich möchte nur die verfügbaren Zimmer sehen, sofern\n",
    "ich meinen Aufenthalt (von – bis) spezifiziert habe.\n"
   ],
   "id": "df2da6e9857d5ebd"
  },
  {
   "metadata": {},
   "cell_type": "code",
   "outputs": [],
   "execution_count": null,
   "source": [
    "from datetime import datetime\n",
    "from business_logic.room_manager import RoomManager  # oder: HotelManager\n",
    "\n",
    "room_manager = RoomManager()\n",
    "\n",
    "\n",
    "valid = False\n",
    "while not valid:\n",
    "    try:\n",
    "        check_in_str = input(\"Geben Sie ihr gewünschtes Anreisedatum an (YYYY-MM-DD): \")\n",
    "        check_out_str = input(\"Geben Sie ihr gewünschtes Abreisedatum an (YYYY-MM-DD): \")\n",
    "        check_in_date = datetime.strptime(check_in_str, \"%Y-%m-%d\").date()\n",
    "        check_out_date = datetime.strptime(check_out_str, \"%Y-%m-%d\").date()\n",
    "    except ValueError:\n",
    "        print(\"Ungültiges Datumsformat. Bitte unbedingt YYYY-MM-DD verwenden.\\n\")\n",
    "        continue\n",
    "\n",
    "    if check_out_date <= check_in_date:\n",
    "        print(\"Fehler: Check-out muss nach Check-in liegen. Bitte erneut eingeben.\\n\")\n",
    "        continue\n",
    "\n",
    "    rooms = room_manager.get_available_rooms_by_date(check_in_date, check_out_date)\n",
    "    valid = True\n",
    "\n",
    "if not rooms:\n",
    "    print(f\"Im Zeitraum {check_in_date}–{check_out_date} wurden keine freien Zimmer gefunden.\")\n",
    "else:\n",
    "    print(f\"\\nVerfügbare Zimmer für ({check_in_date} bis {check_out_date}):\\n\")\n",
    "    for r in rooms:\n",
    "        print(\n",
    "            f\"- Zimmer-ID       : {r.room_id}\\n\"\n",
    "            f\"  Zimmernummer    : {r.room_number}\\n\"\n",
    "            f\"  Zimmertyp       : {r.room_type.description}\\n\"\n",
    "            f\"  Max. Gäste      : {r.room_type.max_guests}\\n\"\n",
    "            f\"  Preis pro Nacht : {r.price_per_night}\\n\"\n",
    "        )"
   ],
   "id": "74ddf8689daef6f0"
  },
  {
   "metadata": {},
   "cell_type": "markdown",
   "source": [
    "# Userstory 3\n",
    "Als Admin des Buchungssystems möchte ich die Möglichkeit haben,\n",
    "Hotelinformationen zu pflegen, um aktuelle Informationen im\n",
    "System zu haben.\n",
    "# Userstory 3.1\n",
    "Ich möchte neue Hotels zum System hinzufügen\n",
    "\n",
    "## Input Daten vom Admin\n",
    "\n",
    "* Daten wie Strasse, Hotelname, Anzahl Sterne und Ort(Addresse)\n",
    "\n",
    "\n"
   ],
   "id": "4f875614e55b633f"
  },
  {
   "metadata": {},
   "cell_type": "code",
   "outputs": [],
   "execution_count": null,
   "source": [
    "# Userstory 3.1\n",
    "from datetime import date\n",
    "from business_logic.hotel_manager import HotelManager\n",
    "from business_logic.address_manager import AddressManager\n",
    "from model.hotel import Hotel\n",
    "from model.address import Address\n",
    "\n",
    "address_manager = AddressManager()\n",
    "createded_address = address_manager.create_address(\"Teststrasse\", \"Zürich\", 8001)\n",
    "print(f\"Neue Addresse: {createded_address.street}, {createded_address.city}, {createded_address.zip_code}\")\n",
    "\n",
    "\n",
    "hotel_manager = HotelManager()\n",
    "h = Hotel(6, \"Olympia\", 3)\n",
    "hotel = hotel_manager.create_hotel(\"Olympia\", 3, createded_address)\n",
    "print(f\"Neues Hotel: {h.name}, Sterne: {h.stars}\")"
   ],
   "id": "5367b9846278762c"
  },
  {
   "metadata": {},
   "cell_type": "markdown",
   "source": [
    "# Userstory 3.2\n",
    "Ich möchte Hotels aus dem System entfernen\n"
   ],
   "id": "cb769172627439d"
  },
  {
   "metadata": {},
   "cell_type": "code",
   "outputs": [],
   "execution_count": null,
   "source": [
    "# TODO wenn Hotel gelöscht wird, muss auch Adresse aus dem System raus -> muss noch implementiert werden\n",
    "import time\n",
    "from business_logic.hotel_manager import HotelManager\n",
    "\n",
    "hotels = hotel_manager.get_all_hotel_info()\n",
    "\n",
    "if not hotels:\n",
    "    print(\"Keine Hotels in der Datenbank gefunden\")\n",
    "else:\n",
    "    for hotel in hotels:\n",
    "        print(f\"{hotel.hotel_id}: {hotel.name}, {hotel.stars}\")\n",
    "    time.sleep(0.5)\n",
    "\n",
    "valid = False\n",
    "while not valid:\n",
    "    try:\n",
    "        user_choice = int(input(\"Geben Sie die ID ein die Sie löschen möchten\"))\n",
    "        if user_choice <= 0 or user_choice > len(hotels):\n",
    "            raise ValueError()\n",
    "        else:\n",
    "            valid = True\n",
    "    except ValueError:\n",
    "        print(f\"Ungültige Eingabe bitte geben sie eine gültige ID ein\")\n",
    "\n",
    "try:\n",
    "    hotel_manager.delete_hotel(user_choice)\n",
    "    print(f\"Hotel mit ID: {user_choice} wurde erfolgreich gelöscht.\\n\")\n",
    "except Exception as e:\n",
    "    print(f\"Fehler beim Löschen: {e}\")\n",
    "\n",
    "hotels = hotel_manager.get_all_hotel_info()\n",
    "if not hotels:\n",
    "    print(\"Keine Hotels in der Datenbank gefunden\")\n",
    "else:\n",
    "    print(\"Aktualisierte Liste: \")\n",
    "    for hotel in hotels:\n",
    "        print(f\"{hotel.hotel_id}: {hotel.name}, {hotel.stars}\")\n",
    "\n"
   ],
   "id": "4154943aa2b84633"
  },
  {
   "metadata": {},
   "cell_type": "markdown",
   "source": [
    "# Userstory 3.3\n",
    "Ich möchte die Informationen bestimmter Hotels\n",
    "aktualisieren, z. B. den Namen, die Sterne usw.\n"
   ],
   "id": "b6efb0de9da8cf0e"
  },
  {
   "metadata": {},
   "cell_type": "code",
   "outputs": [],
   "execution_count": null,
   "source": [
    "import time\n",
    "from business_logic.hotel_manager import HotelManager\n",
    "\n",
    "hotel_manager = HotelManager()\n",
    "\n",
    "hotels = hotel_manager.get_all_hotel_info()\n",
    "if not hotels:\n",
    "    print(\"Keine Hotels in der Datenbank vorhanden.\")\n",
    "else:\n",
    "    for idx, hotel in enumerate(hotels, start=1):\n",
    "        print(f\"{idx} - {hotel.name}, {hotel.stars}\")\n",
    "    time.sleep(0.5)\n",
    "\n",
    "valid = False\n",
    "while not valid:\n",
    "    try:\n",
    "        index = int(input(\"Geben Sie die Nummer ein, die Sie aktualisieren möchten: \")) - 1\n",
    "        if index < 0 or index >= len(hotels):\n",
    "            raise ValueError()\n",
    "        else:\n",
    "            valid = True\n",
    "    except ValueError:\n",
    "        print(f\"Ungültige Eingabe. Bitte geben Sie eine ganze Zahl zwischen 1 und {len(hotels)} ein.\\n\")\n",
    "\n",
    "valid = False\n",
    "while not valid:\n",
    "    try:\n",
    "        name = input(\"Geben Sie den neuen Hotelnamen ein: \").strip()\n",
    "        if not name:\n",
    "            raise ValueError()\n",
    "        else:\n",
    "            valid = True\n",
    "    except ValueError:\n",
    "        print(\"Der Name muss ein String sein.\")\n",
    "\n",
    "valid = False\n",
    "while not valid:\n",
    "    try:\n",
    "        stars = int(input(\"Geben Sie die neue Sternezahl (1–5) ein: \"))\n",
    "        if not 1 <= stars <= 5:\n",
    "            raise ValueError()\n",
    "        else:\n",
    "            valid = True\n",
    "    except ValueError:\n",
    "        print(\"Bitte eine Zahl zwischen 1 und 5 eingeben.\\n\")\n",
    "\n",
    "hotel = hotels[index]\n",
    "hotel.name = name\n",
    "hotel.stars = stars\n",
    "\n",
    "try:\n",
    "    hotel_manager.update_hotel(hotel)\n",
    "except Exception as e:\n",
    "    print(f\"Fehler beim Aktualisieren: {e}\")\n",
    "\n",
    "print(\"\\nHotel wurde aktualisiert:\")\n",
    "print(f\"- ID     : {hotel.hotel_id}\")\n",
    "print(f\"- Name   : {hotel.name}\")\n",
    "print(f\"- Sterne : {hotel.stars}\\n\")\n",
    "\n",
    "for hotel in hotels:\n",
    "    print(f\"{hotel.hotel_id} - {hotel.name}, {hotel.stars}\")"
   ],
   "id": "1ada2b8396185b73"
  },
  {
   "metadata": {},
   "cell_type": "markdown",
   "source": [
    "# Userstory 4\n",
    "Als Gast möchte ich ein Zimmer in einem bestimmten Hotel\n",
    "buchen, um meinen Urlaub zu planen.\n"
   ],
   "id": "3a3d75d0b894cffa"
  },
  {
   "metadata": {
    "ExecuteTime": {
     "end_time": "2025-06-12T11:57:57.293569Z",
     "start_time": "2025-06-12T11:57:40.979929Z"
    }
   },
   "cell_type": "code",
   "source": [
    "import time\n",
    "from datetime import datetime\n",
    "from business_logic.hotel_manager import HotelManager\n",
    "from business_logic.room_manager import RoomManager\n",
    "from business_logic.room_type_manager import RoomTypeManager\n",
    "from business_logic.booking_manager import BookingManager\n",
    "from business_logic.guest_manager import GuestManager\n",
    "\n",
    "hotel_manager = HotelManager()\n",
    "room_manager = RoomManager()\n",
    "booking_manager = BookingManager()\n",
    "guest_manager = GuestManager()\n",
    "\n",
    "hotels = hotel_manager.get_all_hotel_info()\n",
    "if not hotels:\n",
    "    print(\"Keine Hotels in der Datenbank vorhanden.\")\n",
    "else:\n",
    "    for idx, hotel in enumerate(hotels, start=1):\n",
    "        print(f\"{idx} - {hotel.name}, {hotel.stars}\")\n",
    "    time.sleep(0.5)\n",
    "\n",
    "valid = False\n",
    "while not valid:\n",
    "    try:\n",
    "        hotel_index = int(input(f\"Geben Sie die Nummer des Hotels ein (1–{len(hotels)}): \").strip()) - 1\n",
    "        if hotel_index < 0 or hotel_index >= len(hotels):\n",
    "            raise ValueError()\n",
    "        valid = True\n",
    "    except ValueError:\n",
    "        print(f\"Ungültige Eingabe. Bitte eine Zahl zwischen 1 und {len(hotels)}.\\n\")\n",
    "\n",
    "hotel = hotels[hotel_index]\n",
    "\n",
    "valid = False\n",
    "while not valid:\n",
    "    try:\n",
    "        ci = input(\"Anreisedatum (YYYY-MM-DD): \").strip()\n",
    "        co = input(\"Abreisedatum  (YYYY-MM-DD): \").strip()\n",
    "        check_in  = datetime.strptime(ci, \"%Y-%m-%d\").date()\n",
    "        check_out = datetime.strptime(co, \"%Y-%m-%d\").date()\n",
    "        if check_out <= check_in:\n",
    "            raise ValueError()\n",
    "        valid = True\n",
    "    except ValueError:\n",
    "        print(\"Ungültiges Datum. Format YYYY-MM-DD und Check-out nach Check-in.\\n\")\n",
    "\n",
    "rooms = room_manager.get_room_info_by_hotel(hotel.name)\n",
    "if not rooms:\n",
    "    print(\"Keine Rooms in der Datenbank vorhanden.\")\n",
    "else:\n",
    "    print(f\"\\nZimmer für „{hotel.name}“:\\n\")\n",
    "    for idx, r in enumerate(rooms, start=1):\n",
    "        print(f\"{idx} - Zimmer {r.room_number}, Preis/Nacht: {r.price_per_night}\")\n",
    "    time.sleep(0.5)\n",
    "\n",
    "\n",
    "valid = False\n",
    "while not valid:\n",
    "    try:\n",
    "        room_index = int(input(f\"Geben Sie die Nummer des Zimmers ein (1–{len(rooms)}): \").strip()) - 1\n",
    "        if room_index < 0 or room_index >= len(rooms):\n",
    "            raise ValueError()\n",
    "        valid = True\n",
    "    except ValueError:\n",
    "        print(f\"Ungültige Eingabe. Bitte eine Zahl zwischen 1 und {len(rooms)}.\\n\")\n",
    "\n",
    "room = rooms[room_index]\n",
    "\n",
    "guests = guest_manager.show_guest()\n",
    "if not guests:\n",
    "    print(\"Keine Gäste in der Datenbank vorhanden.\")\n",
    "else:\n",
    "    print(f\"\\n Gäste Namen:\\n\")\n",
    "    for idx, g in enumerate(guests, start=1):\n",
    "        print(f\"{idx} - {g.first_name} {g.last_name}\")\n",
    "    time.sleep(0.5)\n",
    "\n",
    "valid = False\n",
    "while not valid:\n",
    "    try:\n",
    "        choice = int(input(f\"Geben Sie die Nummer des Gasts ein (1–{len(guests)}): \").strip()) - 1\n",
    "        if choice < 0 or choice >= len(guests):\n",
    "            raise ValueError()\n",
    "        valid = True\n",
    "    except ValueError:\n",
    "        print(f\"Ungültige Eingabe. Bitte eine Zahl zwischen 1 und {len(guests)}.\\n\")\n",
    "\n",
    "guest = guests[choice]\n",
    "print(f\"\\nAusgewählt: {guest.first_name} {guest.last_name} (ID: {guest.guestid})\\n\")\n",
    "\n",
    "# Anzahl Gäste eingeben\n",
    "valid = False\n",
    "while not valid:\n",
    "    try:\n",
    "        num = int(input(\"Anzahl der Gäste: \").strip())\n",
    "        if num < 1 or num > room.room_type.max_guests:\n",
    "            raise ValueError()\n",
    "        valid = True\n",
    "    except ValueError:\n",
    "        print(f\"Ungültige Eingabe. Max {room.room_type.max_guests} Gäste möglich.\\n\")\n",
    "\n",
    "try:\n",
    "    booking = booking_manager.create_booking(guest, room, num, check_in, check_out)\n",
    "    print(\"\\nBuchung erfolgreich:\")\n",
    "    print(f\"- Buchungs-ID: {booking.booking_id}\")\n",
    "    print(f\"- Hotel      : {hotel.name}\")\n",
    "    print(f\"- Zimmer     : {room.room_number}\")\n",
    "    print(f\"- Gäste      : {num}\")\n",
    "    print(f\"- Zeitraum   : {check_in} – {check_out}\")\n",
    "except Exception as e:\n",
    "    print(f\"Fehler bei der Buchung: {e}\") #TODO Fehler nicht auffindbar keine Zeit mehr"
   ],
   "id": "237d92289ca101e6",
   "outputs": [
    {
     "name": "stdout",
     "output_type": "stream",
     "text": [
      "1 - Hotel Baur au Lac, 5\n",
      "2 - Four Seasons Hôtel des Bergues, 5\n",
      "3 - Grand Hotel National, 5\n",
      "4 - Bellevue Palace, 5\n",
      "5 - Les Trois Rois, 5\n",
      "\n",
      "Zimmer für „Hotel Baur au Lac“:\n",
      "\n",
      "1 - Zimmer 101, Preis/Nacht: 250.0\n",
      "2 - Zimmer 102, Preis/Nacht: 400.0\n",
      "\n",
      " Gäste Namen:\n",
      "\n",
      "1 - Hans Müller\n",
      "2 - Sophie Meier\n",
      "3 - Luca Rossi\n",
      "4 - Elena Keller\n",
      "5 - Marc Weber\n",
      "\n",
      "Ausgewählt: Hans Müller (ID: 1)\n",
      "\n",
      "Fehler bei der Buchung: unsupported operand type(s) for *: 'type' and 'float'\n"
     ]
    }
   ],
   "execution_count": 10
  },
  {
   "metadata": {},
   "cell_type": "code",
   "outputs": [],
   "execution_count": null,
   "source": [
    "from business_logic.booking_manager import BookingManager\n",
    "from model.guest import Guest\n",
    "from model.room import Room\n",
    "from model.room_type import RoomType\n",
    "from datetime import date\n",
    "\n",
    "\n",
    "guest = Guest(1, \"John\", \"Doe\", \"mail\")\n",
    "room = Room(1, 202, 80.90)\n",
    "room_type = RoomType(1, \"Standard\", 1)\n",
    "room.room_type = room_type\n",
    "\n",
    "booking_manager = BookingManager()\n",
    "b = booking_manager.create_booking(guest, room,1, date(2025, 1, 1), date(2025, 1, 3))\n",
    "print(f\" Checkin Date: {b.check_in_date}, Amount: {b.total_amount}\")"
   ],
   "id": "ac96a46d6569a446"
  },
  {
   "metadata": {},
   "cell_type": "markdown",
   "source": [
    "# Userstory 5\n",
    "Als Gast möchte ich nach meinem Aufenthalt eine Rechnung\n",
    "erhalten, damit ich einen Zahlungsnachweis habe.\n",
    "Hint: Fügt einen Eintrag in der «Invoice» Tabelle hinzu.\n"
   ],
   "id": "48d468d491f5dbdf"
  },
  {
   "metadata": {
    "ExecuteTime": {
     "end_time": "2025-06-11T21:01:30.004197Z",
     "start_time": "2025-06-11T21:01:27.528811Z"
    }
   },
   "cell_type": "code",
   "source": [
    "# Import model\n",
    "from business_logic.invoice_manager import InvoiceManager\n",
    "from model.invoice import Invoice\n",
    "from data_access.invoice_dal import InvoiceDAL\n",
    "from datetime import date\n",
    "# Input Data from User\n",
    "# Booking.bookingid: save in variable Bookingid\n",
    "valid = False\n",
    "while not valid:\n",
    "    input_user = input(\"Geben Sie bitte Ihren Booking ID ein: \")\n",
    "    if len(input_user) > 0:\n",
    "        valid = True\n",
    "    else:\n",
    "        print(\"Bitte geben Sie einen Booking ID ein.\")\n",
    "print(input_user)\n",
    "\n",
    "booking_id = int(input_user)\n",
    "issue_date = \"2025-01-01\"\n",
    "total_amount = \"100.00\"\n",
    "\n",
    "invoice_manager = InvoiceManager()\n",
    "\n",
    "Rechnung = invoice_manager.create_invoice(booking_id, \"2025-1-1\", 100.00)\n",
    "if Rechnung is not None:\n",
    "    print(\n",
    "        f\"Rechnung erstellt: {Rechnung.invoiceid}, BookingNr: {booking_id}, Ausstellungsdatum: {Rechnung.issue_date}, Gesamtbetrag: {Rechnung.total_amount}\")\n",
    "else:\n",
    "    print(\"Es konnte keine Rechnung erstellt werden.\")"
   ],
   "id": "b7a963b7376efde3",
   "outputs": [
    {
     "name": "stdout",
     "output_type": "stream",
     "text": [
      "1\n",
      "Rechnung erstellt: 6, BookingNr: 1, Ausstellungsdatum: 2025-1-1, Gesamtbetrag: 100.0\n"
     ]
    }
   ],
   "execution_count": 2
  },
  {
   "metadata": {},
   "cell_type": "markdown",
   "source": [
    "# Userstory 6\n",
    "Als Gast möchte ich meine Buchung stornieren, damit ich nicht\n",
    "belastet werde, wenn ich das Zimmer nicht mehr benötige.\n",
    "Hint: Sorgt für die entsprechende Invoice."
   ],
   "id": "dc8b5970c3090a62"
  },
  {
   "metadata": {},
   "cell_type": "code",
   "outputs": [],
   "execution_count": null,
   "source": [
    "# Fake Booking erstellen\n",
    "from business_logic.booking_manager import BookingManager\n",
    "from model.booking import Booking\n",
    "\n",
    "valid = False\n",
    "while not valid:\n",
    "    input_user = input(\"Geben Sie bitte Ihren Booking ID ein: \")\n",
    "    if len(input_user) > 0:\n",
    "        valid = True\n",
    "    else:\n",
    "        print(\"Bitte geben Sie einen Booking ID ein.\")\n",
    "print(input_user)\n",
    "\n",
    "booking_id = int(input_user)\n",
    "booking_manager = BookingManager()\n",
    "\n",
    "Stornierung = booking_manager.cancel_booking(booking_id)\n",
    "print(\"Stornierung erfolgreich\")"
   ],
   "id": "b9affa7fb98b5f60"
  },
  {
   "metadata": {},
   "cell_type": "markdown",
   "source": [
    "# Userstory 7\n",
    "Als Gast möchte ich eine dynamische Preisgestaltung auf der\n",
    "Grundlage der Nachfrage sehen, damit ich ein Zimmer zum besten\n",
    "Preis buchen kann.\n",
    "Hint: Wendet in der Hochsaison höhere und in der Nebensaison\n",
    "niedrigere Tarife an.\n"
   ],
   "id": "613bbc4cae948e3b"
  },
  {
   "metadata": {},
   "cell_type": "code",
   "outputs": [],
   "execution_count": null,
   "source": [
    "from datetime import datetime\n",
    "from data_access.booking_dal import BookingDAL\n",
    "from model.booking import Booking\n",
    "from model.guest import Guest\n",
    "\n",
    "\n",
    "# Ask the User to input a date\n",
    "user_input = input(\"When is your check-in date?\")\n",
    "try:\n",
    "    user_input = datetime.strptime(user_input, \"%Y-%m-%d\").date()\n",
    "    print(f\"The entered Date is {user_input}\")\n",
    "\n",
    "except ValueError:\n",
    "    print(\"Invalid date format. Please enter a valid date in the format YYYY-MM-DD.\")\n",
    "\n",
    "calculate_dynamic_price = BookingDAL().calculate_dynamic_price\n",
    "price = calculate_dynamic_price(100.00, user_input)\n",
    "\n",
    "print(f\"The price is {price}\")"
   ],
   "id": "4983e532ac6c87b2"
  },
  {
   "metadata": {},
   "cell_type": "markdown",
   "source": [
    "# Userstory 8\n",
    "Als Admin des Buchungssystems möchte ich alle Buchungen aller\n",
    "Hotels sehen können, um eine Übersicht zu erhalten."
   ],
   "id": "84245c19208697a"
  },
  {
   "metadata": {
    "ExecuteTime": {
     "end_time": "2025-06-11T20:36:04.521268Z",
     "start_time": "2025-06-11T20:36:04.513041Z"
    }
   },
   "cell_type": "code",
   "source": [
    "from datetime import date\n",
    "from business_logic.booking_manager import BookingManager\n",
    "from model.guest import Guest\n",
    "from model.hotel import Hotel\n",
    "\n",
    "user = User(role=\"admin\")\n",
    "\n",
    "booking_manager = BookingManager()\n",
    "bookings = booking_manager.get_all_bookings(user=user)\n",
    "\n",
    "for b in bookings:\n",
    "    print(\n",
    "        f\"Booking-ID: {b.bookingid} \"\n",
    "        f\"Gast: {b.guest.first_name} {b.guest.last_name} \"\n",
    "        f\"Hotel: {b.room.hotel.name} \"\n",
    "        f\"Zimmernummer: {b.room.room_number} \"\n",
    "        f\"Check-In: {b.check_in_date} \"\n",
    "        f\"Check-Out: {b.check_out_date} \"\n",
    "    )"
   ],
   "id": "5e6bc489814a8803",
   "outputs": [
    {
     "name": "stdout",
     "output_type": "stream",
     "text": [
      "Booking-ID: 1 Gast: Hans Müller Hotel: Hotel Baur au Lac Zimmernummer: 101 Check-In: 2025-06-01 Check-Out: 2025-06-05 \n",
      "Booking-ID: 2 Gast: Sophie Meier Hotel: Hotel Baur au Lac Zimmernummer: 102 Check-In: 2025-07-10 Check-Out: 2025-07-15 \n",
      "Booking-ID: 3 Gast: Luca Rossi Hotel: Four Seasons Hôtel des Bergues Zimmernummer: 201 Check-In: 2025-08-20 Check-Out: 2025-08-22 \n",
      "Booking-ID: 4 Gast: Elena Keller Hotel: Grand Hotel National Zimmernummer: 301 Check-In: 2025-09-05 Check-Out: 2025-09-10 \n",
      "Booking-ID: 5 Gast: Marc Weber Hotel: Bellevue Palace Zimmernummer: 401 Check-In: 2025-10-01 Check-Out: 2025-10-07 \n"
     ]
    }
   ],
   "execution_count": 6
  },
  {
   "metadata": {},
   "cell_type": "markdown",
   "source": [
    "# Userstory 9\n",
    "Als Admin möchte ich eine Liste der Zimmer mit ihrer\n",
    "Ausstattung sehen, damit ich sie besser bewerben kann.\n"
   ],
   "id": "29d1405c19b6fa27"
  },
  {
   "metadata": {
    "ExecuteTime": {
     "end_time": "2025-06-11T20:30:21.920009Z",
     "start_time": "2025-06-11T20:30:21.915282Z"
    }
   },
   "cell_type": "code",
   "source": [
    "from business_logic.room_manager import RoomManager\n",
    "from model.user import User\n",
    "\n",
    "user = User(role=\"admin\")\n",
    "\n",
    "room_manager = RoomManager()\n",
    "rooms = room_manager.get_all_rooms_with_equipment(user=user)\n",
    "\n",
    "if rooms:\n",
    "    print(\"Zimmer mit Ausstattung:\")\n",
    "    for room in rooms:\n",
    "        equipment = \", \".join([e.facility_name for e in room.equipment]) if room.equipment else \"Keine Ausstattung\"\n",
    "        print(f\"Zimmernummer: {room.room_number}, Hotel: {room.hotel.name}, Type: {room.room_type.description}, Ausstattung: {equipment}\")\n",
    "else:\n",
    "    print(\"Keine Zimmer gefunden.\")\n"
   ],
   "id": "b0d1a75672fa7e89",
   "outputs": [
    {
     "name": "stdout",
     "output_type": "stream",
     "text": [
      "[(1, '101', 250.0, 1, 'Single', 1, 'Hotel Baur au Lac', 1, 'WiFi'), (1, '101', 250.0, 1, 'Single', 1, 'Hotel Baur au Lac', 2, 'TV'), (2, '102', 400.0, 2, 'Double', 1, 'Hotel Baur au Lac', 1, 'WiFi'), (3, '201', 650.0, 3, 'Suite', 2, 'Four Seasons Hôtel des Bergues', 3, 'Air Conditioning'), (4, '301', 900.0, 4, 'Family Room', 3, 'Grand Hotel National', 4, 'Mini Bar'), (5, '401', 1500.0, 5, 'Penthouse', 4, 'Bellevue Palace', None, None)]\n",
      "Zimmer mit Ausstattung:\n",
      "Zimmernummer: 101, Hotel: Hotel Baur au Lac, Type: Single, Ausstattung: WiFi, TV\n",
      "Zimmernummer: 102, Hotel: Hotel Baur au Lac, Type: Double, Ausstattung: WiFi\n",
      "Zimmernummer: 201, Hotel: Four Seasons Hôtel des Bergues, Type: Suite, Ausstattung: Air Conditioning\n",
      "Zimmernummer: 301, Hotel: Grand Hotel National, Type: Family Room, Ausstattung: Mini Bar\n",
      "Zimmernummer: 401, Hotel: Bellevue Palace, Type: Penthouse, Ausstattung: Keine Ausstattung\n"
     ]
    }
   ],
   "execution_count": 3
  },
  {
   "metadata": {},
   "cell_type": "markdown",
   "source": [
    "# User Stories mit DB-Schemaänderung\n",
    "\n",
    "Als Admin möchte ich alle Buchungen bearbeiten können, um\n",
    "fehlende Informationen zu ergänzen (z.B. Telefonnummer).\n",
    "\n",
    "\n"
   ],
   "id": "1ddb5582557351b8"
  },
  {
   "metadata": {
    "ExecuteTime": {
     "end_time": "2025-06-11T20:45:02.279058Z",
     "start_time": "2025-06-11T20:45:02.275570Z"
    }
   },
   "cell_type": "code",
   "source": [
    "from business_logic.room_manager import RoomManager\n",
    "from model.user import User\n",
    "from model.room import Room\n",
    "\n",
    "user = User(role=\"admin\")\n",
    "\n",
    "#änderungen könen hier gemacht werden.\n",
    "room = Room(1, 103, 1000)\n",
    "\n",
    "room_manager = RoomManager()\n",
    "rooms = room_manager.update_room(room, user=user)\n",
    "\n",
    "print(f\"Updated room: {room}\")"
   ],
   "id": "82f2ee330ae0659e",
   "outputs": [
    {
     "name": "stdout",
     "output_type": "stream",
     "text": [
      "Updated room: <model.room.Room object at 0x105f7d400>\n"
     ]
    }
   ],
   "execution_count": 2
  },
  {
   "metadata": {},
   "cell_type": "markdown",
   "source": [
    "# Userstory 4 mit DB Änderung\n",
    "Als Gast möchte ich vor der Buchung Hotelbewertungen lesen,\n",
    "damit ich das beste Hotel auswählen kann.\n"
   ],
   "id": "1142ee3eeb409fd5"
  },
  {
   "metadata": {
    "ExecuteTime": {
     "end_time": "2025-06-12T14:19:51.778480Z",
     "start_time": "2025-06-12T14:19:37.822077Z"
    }
   },
   "cell_type": "code",
   "source": [
    "import time\n",
    "from business_logic.review_manager import ReviewManager\n",
    "from business_logic.guest_manager  import GuestManager\n",
    "from business_logic.hotel_manager import HotelManager\n",
    "\n",
    "review_manager = ReviewManager()\n",
    "guest_manager  = GuestManager()\n",
    "hotel_manager = HotelManager()\n",
    "\n",
    "#review = review_manager.add_review(1,1,4,\"Sehr gutes Personal\")\n",
    "\n",
    "hotels = hotel_manager.get_all_hotel_info()\n",
    "if not hotels:\n",
    "    print(\"Keine Hotels in der Datenbank vorhanden.\")\n",
    "    exit()\n",
    "\n",
    "print(\"\\nVerfügbare Hotels:\")\n",
    "for idx, hotel in enumerate(hotels, start=1):\n",
    "    print(f\"{idx} - {hotel.name}, {hotel.stars} Sterne\")\n",
    "\n",
    "valid = False\n",
    "while not valid:\n",
    "    try:\n",
    "        choice = int(input(f\"\\nWählen Sie ein Hotel (1–{len(hotels)}): \").strip()) - 1\n",
    "        if choice < 0 or choice >= len(hotels):\n",
    "            raise ValueError()\n",
    "        valid = True\n",
    "    except ValueError:\n",
    "        print(f\"Ungültige Eingabe. Bitte eine Zahl zwischen 1 und {len(hotels)}.\")\n",
    "\n",
    "hotel = hotels[choice]\n",
    "print(f\"\\nSie haben „{hotel.name}“ ausgewählt.\\n\")\n",
    "\n",
    "guests = guest_manager.show_guest()\n",
    "if not guests:\n",
    "    print(\"Keine Gäste in der Datenbank vorhanden.\")\n",
    "else:\n",
    "    print(\"\\nGäste für Bewertung:\")\n",
    "for idx, g in enumerate(guests, start=1):\n",
    "    print(f\"{idx} - {g.first_name} {g.last_name} (ID: {g.guestid})\")\n",
    "time.sleep(0.5)\n",
    "\n",
    "valid = False\n",
    "while not valid:\n",
    "    try:\n",
    "        choice = int(input(f\"Geben Sie die Nummer des bewertenden Gasts ein (1–{len(guests)}): \").strip()) - 1\n",
    "        if choice < 0 or choice >= len(guests):\n",
    "            raise ValueError()\n",
    "        valid = True\n",
    "    except ValueError:\n",
    "        print(f\"Ungültige Eingabe. Bitte eine Zahl zwischen 1 und {len(guests)}.\\n\")\n",
    "guest = guests[choice]\n",
    "\n",
    "valid = False\n",
    "while not valid:\n",
    "    try:\n",
    "        rating = int(input(\"Bewertung (1–5 Sterne): \").strip())\n",
    "        if not 1 <= rating <= 5:\n",
    "            raise ValueError()\n",
    "        valid = True\n",
    "    except ValueError:\n",
    "        print(\"Ungültige Eingabe. Bitte eine ganze Zahl zwischen 1 und 5.\\n\")\n",
    "\n",
    "\n",
    "comment = input(\"Kurzkommentar zur Bewertung: \").strip()\n",
    "\n",
    "try:\n",
    "    new_review = review_manager.create_review(\n",
    "        hotel.hotel_id,\n",
    "        guest.guestid,\n",
    "        rating,\n",
    "        comment\n",
    "    )\n",
    "    print(\"\\nBewertung eingetragen:\")\n",
    "    stars = new_review.rating\n",
    "    print(f\"{new_review.review_date} | {guest.first_name} {guest.last_name}: Rating: {stars}\")\n",
    "    print(f\"«{new_review.comment}»\\n\")\n",
    "except Exception as e:\n",
    "    print(f\"Fehler beim Anlegen der Bewertung: {e}\")\n",
    "\n",
    "time.sleep(0.5)\n",
    "\n",
    "reviews = review_manager.get_reviews_by_hotel(hotel.hotel_id)\n",
    "print(f\"\\nAlle Bewertungen für {hotel.name}:\")\n",
    "if not reviews:\n",
    "    print(\"Keine Bewertungen vorhanden.\")\n",
    "else:\n",
    "    for rv in reviews:\n",
    "        stars = rv.rating\n",
    "        print(f\"{rv.review_date} | {rv.guest.first_name} {rv.guest.last_name}: Rating: {stars}\")\n",
    "        print(f\"«{rv.comment}»\\n\")"
   ],
   "id": "79ea0cf6f2ca9b5",
   "outputs": [
    {
     "name": "stdout",
     "output_type": "stream",
     "text": [
      "\n",
      "Verfügbare Hotels:\n",
      "1 - Hotel Baur au Lac, 5 Sterne\n",
      "2 - Four Seasons Hôtel des Bergues, 5 Sterne\n",
      "3 - Grand Hotel National, 5 Sterne\n",
      "4 - Bellevue Palace, 5 Sterne\n",
      "5 - Les Trois Rois, 5 Sterne\n",
      "\n",
      "Sie haben „Four Seasons Hôtel des Bergues“ ausgewählt.\n",
      "\n",
      "\n",
      "Gäste für Bewertung:\n",
      "1 - Hans Müller (ID: 1)\n",
      "2 - Sophie Meier (ID: 2)\n",
      "3 - Luca Rossi (ID: 3)\n",
      "4 - Elena Keller (ID: 4)\n",
      "5 - Marc Weber (ID: 5)\n",
      "\n",
      "Bewertung eingetragen:\n",
      "2025-06-12 | Sophie Meier: Rating: 1\n",
      "«sehr schlechtes Hotel»\n",
      "\n",
      "\n",
      "Alle Bewertungen für Four Seasons Hôtel des Bergues:\n",
      "2025-06-12 | Sophie Meier: Rating: 1\n",
      "«sehr schlechtes Hotel»\n",
      "\n"
     ]
    }
   ],
   "execution_count": 3
  },
  {
   "metadata": {},
   "cell_type": "markdown",
   "source": [
    "# User Stories mit Datenvisualisierung\n",
    "\n"
   ],
   "id": "49665728e1ba8f72"
  },
  {
   "metadata": {},
   "cell_type": "markdown",
   "source": [
    " Als Admin möchte ich die Belegungsraten für jeden Zimmertyp in\n",
    "meinem Hotel sehen, damit ich weiss, welche Zimmer am\n",
    "beliebtesten sind und ich meine Buchungsstrategien optimieren\n",
    "kann.\n",
    "Hint: Wählt ein geeignetes Diagramm, um die Auslastung nach\n",
    "Zimmertyp darzustellen (z. B. wie oft jeder Zimmertyp gebucht\n",
    "wird).\n"
   ],
   "id": "b4e9f536346c106d"
  },
  {
   "metadata": {},
   "cell_type": "code",
   "outputs": [],
   "execution_count": null,
   "source": [
    "import matplotlib.pyplot as plt                 #TODO WENN MÖGLICH DIE DATENBANK MEHR BUCHUNGEN ERGÄNZEN, DAMIT ES MEHR ZU VISUALISIEREN GIBT\n",
    "import pandas as pd\n",
    "from business_logic.booking_manager import BookingManager\n",
    "\n",
    "booking_manager = BookingManager()\n",
    "\n",
    "# abrufen der Roomtypes aus dem Data_acces layer\n",
    "famous_roomtype = booking_manager.get_famous_room_type()\n",
    "\n",
    "df = pd.DataFrame(famous_roomtype)\n",
    "\n",
    "# Visualisierung in Balkendiagramm\n",
    "plt.bar(df['room_type'], df['bookings'], color='blue')    # x Werte, y werte\n",
    "\n",
    "# Diagramm beschriften\n",
    "plt.title(\"Famous Room Types\", fontsize=16)\n",
    "\n",
    "# Beschriftung x Achse\n",
    "plt.xlabel(\"Room Type\", fontsize=12)\n",
    "\n",
    "# Beschriftung y Achse\n",
    "plt.ylabel(\"Num of Bookings\", fontsize=12)\n",
    "\n",
    "plt.show()\n",
    "\n",
    "print(df.head())\n"
   ],
   "id": "4868c80b8d8bbf01"
  }
 ],
 "metadata": {
  "kernelspec": {
   "name": "python3",
   "language": "python",
   "display_name": "Python 3 (ipykernel)"
  }
 },
 "nbformat": 5,
 "nbformat_minor": 9
}
