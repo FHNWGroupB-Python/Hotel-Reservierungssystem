{
 "cells": [
  {
   "metadata": {
    "ExecuteTime": {
     "end_time": "2025-05-29T20:27:02.929196Z",
     "start_time": "2025-05-29T20:27:02.915129Z"
    }
   },
   "cell_type": "code",
   "source": [
    "import os\n",
    "import shutil\n",
    "\n",
    "original_db = \"database/hotel_reservation_sample.db\"\n",
    "working_db = \"database/hotel_reservation.db\"\n",
    "shutil.copy(original_db, working_db)\n",
    "\n",
    "os.environ[\"DB\"] = working_db"
   ],
   "id": "8afe42b7160c2cc6",
   "outputs": [],
   "execution_count": 1
  },
  {
   "metadata": {},
   "cell_type": "markdown",
   "source": [
    "# Userstory 1\n",
    "Als Gast möchte ich die verfügbaren Hotels durchsuchen, damit\n",
    "ich dasjenige auswählen kann, welches meinen Wünschen\n",
    "entspricht. Wünsche sind:\n",
    "\n",
    "# Userstory 1.1\n",
    "Ich möchte alle Hotels in einer Stadt durchsuchen,\n",
    "damit ich das Hotel nach meinem bevorzugten Standort\n",
    "(Stadt) auswählen kann.\n"
   ],
   "id": "9eec8414eb12d28e"
  },
  {
   "metadata": {
    "ExecuteTime": {
     "end_time": "2025-05-29T19:35:12.022617Z",
     "start_time": "2025-05-29T19:35:05.274746Z"
    }
   },
   "cell_type": "code",
   "source": [
    "import model\n",
    "from business_logic.hotel_manager import HotelManager\n",
    "from business_logic.address_manager import AddressManager\n",
    "\n",
    "hotel_manager = HotelManager()\n",
    "\n",
    "valid = False\n",
    "while not valid:\n",
    "    city = input(\"In welcher Stadt suchen Sie Ihr gewünschtes Hotel? \")\n",
    "    hotels = hotel_manager.search_hotels_by_city(city)\n",
    "    if hotels:\n",
    "        print(\"Gefundene Hotels:\")\n",
    "        for hotel in hotels:\n",
    "            print(f\"{hotel.name} mit {hotel.stars} Sternen an der {hotel.address.street}, {hotel.address.city}, {hotel.address.zip_code}\")\n",
    "        valid = True\n",
    "    else:\n",
    "        print(\"Keine Hotels gefunden\")\n"
   ],
   "id": "cebe574a53ad474a",
   "outputs": [
    {
     "name": "stdout",
     "output_type": "stream",
     "text": [
      "Gefundene Hotels:\n",
      "Bellevue Palace mit 5 Sternen an der Marktgasse 59, Bern, 3011\n"
     ]
    }
   ],
   "execution_count": 29
  },
  {
   "metadata": {},
   "cell_type": "markdown",
   "source": [
    "# Userstory 1.2\n",
    "Ich möchte alle Hotels in einer Stadt nach der\n",
    "Anzahl der Sterne (z.B. mindestens 4 Sterne) durchsuchen.\n"
   ],
   "id": "87c8de08baf08e9f"
  },
  {
   "metadata": {
    "ExecuteTime": {
     "end_time": "2025-05-29T17:42:02.306855Z",
     "start_time": "2025-05-29T17:41:51.931603Z"
    }
   },
   "cell_type": "code",
   "source": [
    "import model\n",
    "from business_logic.hotel_manager import HotelManager\n",
    "from business_logic.address_manager import AddressManager\n",
    "\n",
    "\n",
    "hotel_manager = HotelManager()\n",
    "\n",
    "valid = False\n",
    "while not valid:\n",
    "    city = input(\"In welcher Stadt suchen Sie Ihr gewünschtes Hotel? \")\n",
    "    stars = int(input(\"Geben Sie die mindest Anzahl Sterne an\" ))\n",
    "    hotels = hotel_manager.search_hotels_by_city_and_stars(city, stars)\n",
    "    if hotels:\n",
    "        print(\"Gefundene Hotels:\")\n",
    "        for hotel in hotels:\n",
    "            print(f\"{hotel.name} mit {hotel.stars} Sternen an der {hotel.address.street}, {hotel.address.city}, {hotel.address.zip_code}\")\n",
    "        valid = True\n",
    "    else:\n",
    "        print(\"Keine Hotels gefunden\")\n"
   ],
   "id": "d40af31887f197ac",
   "outputs": [
    {
     "name": "stdout",
     "output_type": "stream",
     "text": [
      "Gefundene Hotels:\n",
      "Bellevue Palace mit 5 Sternen an der Marktgasse 59, Bern, 3011\n"
     ]
    }
   ],
   "execution_count": 11
  },
  {
   "metadata": {},
   "cell_type": "markdown",
   "source": [
    "# Userstory 3.1\n",
    "Ich möchte neue Hotels zum System hinzufügen\n",
    "\n",
    "## Input Daten vom Admin\n",
    "\n",
    "* Daten wie Strasse, Hotelname, Anzahl Sterne und Ort(Addresse)\n",
    "\n",
    "\n"
   ],
   "id": "f7616268726db1ff"
  },
  {
   "metadata": {
    "ExecuteTime": {
     "end_time": "2025-05-29T12:36:07.682709Z",
     "start_time": "2025-05-29T12:36:07.651731Z"
    }
   },
   "cell_type": "code",
   "source": [
    "# Userstory 3.1\n",
    "from datetime import date\n",
    "from business_logic.hotel_manager import HotelManager\n",
    "from business_logic.address_manager import AddressManager\n",
    "from model.hotel import Hotel\n",
    "from model.address import Address\n",
    "\n",
    "address_manager = AddressManager()\n",
    "createded_address = address_manager.create_address(\"Teststrasse\", \"Zürich\", 8001)\n",
    "print(f\"Neue Addresse: {createded_address.street}, {createded_address.city}, {createded_address.zip_code}\")\n",
    "\n",
    "\n",
    "hotel_manager = HotelManager()\n",
    "h = Hotel(6, \"Olympia\", 3)\n",
    "hotel = hotel_manager.create_hotel(\"Olympia\", 3, createded_address)\n",
    "print(f\"Neues Hotel: {h.name}, Sterne: {h.stars}\")"
   ],
   "id": "2a415a372659d03c",
   "outputs": [
    {
     "name": "stdout",
     "output_type": "stream",
     "text": [
      "Neue Addresse: Teststrasse, Zürich, 8001\n",
      "Neues Hotel: Olympia, Sterne: 3\n"
     ]
    }
   ],
   "execution_count": 4
  },
  {
   "metadata": {},
   "cell_type": "markdown",
   "source": [
    "# Userstory 4\n",
    "Als Gast möchte ich ein Zimmer in einem bestimmten Hotel\n",
    "buchen, um meinen Urlaub zu planen.\n"
   ],
   "id": "4a4616729f8606e7"
  },
  {
   "metadata": {
    "ExecuteTime": {
     "end_time": "2025-05-29T18:04:39.399649Z",
     "start_time": "2025-05-29T18:04:39.373636Z"
    }
   },
   "cell_type": "code",
   "source": [
    "from business_logic.booking_manager import BookingManager\n",
    "from model.guest import Guest\n",
    "from model.room import Room\n",
    "from model.room_type import RoomType\n",
    "from datetime import date\n",
    "\n",
    "\n",
    "guest = Guest(1, \"John\", \"Doe\", \"mail\")\n",
    "room = Room(2, 202, 80.90)\n",
    "room_type = RoomType(2, \"Standard\", 1)\n",
    "room.room_type = room_type\n",
    "\n",
    "booking_manager = BookingManager()\n",
    "b = booking_manager.create_booking(guest, room, 1, date(2025, 1, 1), date(2025, 1, 3))\n",
    "if room is None:\n",
    "    raise ValueError(\"Ungültiges Zimmer: None\")\n",
    "else:\n",
    "    print(f\" Checkin Date: {b.check_in_date}, Amount: {b.total_amount}\")"
   ],
   "id": "bf8f429cc0272e91",
   "outputs": [
    {
     "name": "stdout",
     "output_type": "stream",
     "text": [
      " Checkin Date: 2025-01-01, Amount: 161.8\n"
     ]
    }
   ],
   "execution_count": 4
  },
  {
   "metadata": {},
   "cell_type": "markdown",
   "source": "",
   "id": "d971091177465066"
  },
  {
   "metadata": {},
   "cell_type": "markdown",
   "source": [
    "User-Story 5:\n",
    "Als Gast möchte ich nach meinem Aufenthalt eine Rechnung erhalten, damit ich einen Zahlungsnachweis habe. Hint: Fügt einen Eintrag in der \"Invoice\" Tabelle hinzu.\n",
    "\n"
   ],
   "id": "cfc616bb92aee0bd"
  },
  {
   "metadata": {
    "ExecuteTime": {
     "end_time": "2025-05-29T20:33:27.403109Z",
     "start_time": "2025-05-29T20:33:23.561482Z"
    }
   },
   "cell_type": "code",
   "source": [
    "# Import model\n",
    "from business_logic.invoice_manager import InvoiceManager\n",
    "from model.invoice import Invoice\n",
    "from data_access.invoice_dal import InvoiceDAL\n",
    "from datetime import date\n",
    "# Input Data from User\n",
    "# Booking.bookingid: save in variable Bookingid\n",
    "valid = False\n",
    "while not valid:\n",
    "    input_user = input(\"Geben Sie bitte Ihren Booking ID ein: \")\n",
    "    if len(input_user) > 0:\n",
    "        valid = True\n",
    "    else:\n",
    "        print(\"Bitte geben Sie einen Booking ID ein.\")\n",
    "print(input_user)\n",
    "\n",
    "booking_id = int(input_user)\n",
    "issue_date = \"2025-01-01\"\n",
    "total_amount = \"100.00\"\n",
    "\n",
    "invoice_manager = InvoiceManager()\n",
    "\n",
    "Rechnung = invoice_manager.create_invoice(int, str, float)\n",
    "print(\"Rechnung erstellt:\")\n",
    "print(Rechnung)\n"
   ],
   "id": "310d84a58dcfaafe",
   "outputs": [
    {
     "name": "stdout",
     "output_type": "stream",
     "text": [
      "4\n"
     ]
    },
    {
     "ename": "ValueError",
     "evalue": "Invalid booking_id",
     "output_type": "error",
     "traceback": [
      "\u001B[31m---------------------------------------------------------------------------\u001B[39m",
      "\u001B[31mValueError\u001B[39m                                Traceback (most recent call last)",
      "\u001B[36mCell\u001B[39m\u001B[36m \u001B[39m\u001B[32mIn[3]\u001B[39m\u001B[32m, line 23\u001B[39m\n\u001B[32m     19\u001B[39m total_amount = \u001B[33m\"\u001B[39m\u001B[33m100.00\u001B[39m\u001B[33m\"\u001B[39m\n\u001B[32m     21\u001B[39m invoice_manager = InvoiceManager()\n\u001B[32m---> \u001B[39m\u001B[32m23\u001B[39m Rechnung = \u001B[43minvoice_manager\u001B[49m\u001B[43m.\u001B[49m\u001B[43mcreate_invoice\u001B[49m\u001B[43m(\u001B[49m\u001B[38;5;28;43mint\u001B[39;49m\u001B[43m,\u001B[49m\u001B[43m \u001B[49m\u001B[38;5;28;43mstr\u001B[39;49m\u001B[43m,\u001B[49m\u001B[43m \u001B[49m\u001B[38;5;28;43mfloat\u001B[39;49m\u001B[43m)\u001B[49m\n\u001B[32m     24\u001B[39m \u001B[38;5;28mprint\u001B[39m(\u001B[33m\"\u001B[39m\u001B[33mRechnung erstellt:\u001B[39m\u001B[33m\"\u001B[39m)\n\u001B[32m     25\u001B[39m \u001B[38;5;28mprint\u001B[39m(Rechnung)\n",
      "\u001B[36mFile \u001B[39m\u001B[32m~\\PycharmProjects\\Hotel-Reservierungssystem\\business_logic\\invoice_manager.py:12\u001B[39m, in \u001B[36mInvoiceManager.create_invoice\u001B[39m\u001B[34m(self, booking_id, issue_date, total_amount)\u001B[39m\n\u001B[32m      9\u001B[39m \u001B[38;5;28;01mdef\u001B[39;00m\u001B[38;5;250m \u001B[39m\u001B[34mcreate_invoice\u001B[39m(\u001B[38;5;28mself\u001B[39m, booking_id: \u001B[38;5;28mint\u001B[39m, issue_date: \u001B[38;5;28mstr\u001B[39m, total_amount: \u001B[38;5;28mfloat\u001B[39m) -> model.Invoice:\n\u001B[32m     10\u001B[39m     \u001B[38;5;66;03m# Ensure booking_id is provided and valid\u001B[39;00m\n\u001B[32m     11\u001B[39m     \u001B[38;5;28;01mif\u001B[39;00m \u001B[38;5;129;01mnot\u001B[39;00m \u001B[38;5;28misinstance\u001B[39m(booking_id, \u001B[38;5;28mint\u001B[39m) \u001B[38;5;129;01mor\u001B[39;00m booking_id <= \u001B[32m0\u001B[39m:\n\u001B[32m---> \u001B[39m\u001B[32m12\u001B[39m         \u001B[38;5;28;01mraise\u001B[39;00m \u001B[38;5;167;01mValueError\u001B[39;00m(\u001B[33m\"\u001B[39m\u001B[33mInvalid booking_id\u001B[39m\u001B[33m\"\u001B[39m)\n\u001B[32m     14\u001B[39m     \u001B[38;5;66;03m# Ensure issue_date is a valid date\u001B[39;00m\n\u001B[32m     15\u001B[39m     \u001B[38;5;28;01mif\u001B[39;00m \u001B[38;5;129;01mnot\u001B[39;00m \u001B[38;5;28misinstance\u001B[39m(issue_date, \u001B[38;5;28mstr\u001B[39m):\n",
      "\u001B[31mValueError\u001B[39m: Invalid booking_id"
     ]
    }
   ],
   "execution_count": 3
  }
 ],
 "metadata": {
  "kernelspec": {
   "name": "python3",
   "language": "python",
   "display_name": "Python 3 (ipykernel)"
  }
 },
 "nbformat": 5,
 "nbformat_minor": 9
}
