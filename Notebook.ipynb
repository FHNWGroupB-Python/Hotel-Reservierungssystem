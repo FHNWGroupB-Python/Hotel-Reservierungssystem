{
 "cells": [
  {
   "metadata": {
    "ExecuteTime": {
     "end_time": "2025-05-27T15:49:20.216875Z",
     "start_time": "2025-05-27T15:49:20.211038Z"
    }
   },
   "cell_type": "code",
   "source": [
    "import os\n",
    "import shutil\n",
    "\n",
    "original_db = \"database/hotel_reservation_sample.db\"\n",
    "working_db = \"database/hotel_reservation.db\"\n",
    "shutil.copy(original_db, working_db)\n",
    "\n",
    "os.environ[\"DB\"] = working_db"
   ],
   "id": "2ff10f3046bd3b0a",
   "outputs": [],
   "execution_count": 18
  },
  {
   "metadata": {
    "ExecuteTime": {
     "end_time": "2025-05-27T14:59:05.336457Z",
     "start_time": "2025-05-27T14:59:05.331454Z"
    }
   },
   "cell_type": "code",
   "source": "from business_logic.booking_manager import BookingManager",
   "id": "ef9b3267e8b1612",
   "outputs": [],
   "execution_count": 14
  },
  {
   "metadata": {
    "ExecuteTime": {
     "end_time": "2025-05-27T14:59:06.637832Z",
     "start_time": "2025-05-27T14:59:06.635302Z"
    }
   },
   "cell_type": "code",
   "source": "bm = BookingManager()",
   "id": "d3d32d3a21a03001",
   "outputs": [],
   "execution_count": 15
  },
  {
   "metadata": {
    "ExecuteTime": {
     "end_time": "2025-05-27T14:59:07.863683Z",
     "start_time": "2025-05-27T14:59:07.855438Z"
    }
   },
   "cell_type": "code",
   "source": [
    "from model.guest import Guest\n",
    "from model.room import Room\n",
    "from model.room_type import RoomType\n",
    "from datetime import date\n",
    "\n",
    "guest = Guest(1, \"John\", \"Doe\", \"mail\")\n",
    "room = Room(1, 202, 80.90)\n",
    "room_type = RoomType(1, \"Standard\", 1)\n",
    "room.room_type = room_type\n",
    "\n",
    "b = bm.create_booking(guest, room,1, date(2025, 1, 1), date(2025, 1, 3))"
   ],
   "id": "b1fa4cc22792b227",
   "outputs": [],
   "execution_count": 16
  },
  {
   "metadata": {
    "ExecuteTime": {
     "end_time": "2025-05-27T14:59:10.386849Z",
     "start_time": "2025-05-27T14:59:10.383201Z"
    }
   },
   "cell_type": "code",
   "source": "print(f\"Amount: {b.total_amount}\")",
   "id": "77da99f31b096017",
   "outputs": [
    {
     "name": "stdout",
     "output_type": "stream",
     "text": [
      "Amount: 161.8\n"
     ]
    }
   ],
   "execution_count": 17
  },
  {
   "metadata": {
    "ExecuteTime": {
     "end_time": "2025-05-27T15:49:24.599563Z",
     "start_time": "2025-05-27T15:49:24.589834Z"
    }
   },
   "cell_type": "code",
   "source": [
    "from datetime import date\n",
    "from business_logic.hotel_manager import HotelManager\n",
    "\n",
    "hm = HotelManager()\n",
    "\n",
    "from model.hotel import Hotel\n",
    "from model.address import Address\n",
    "h = Hotel(6, \"Olympia\", 5)\n",
    "address = Address(6, \"Teststrasse\", \"Zürich\", 8001)\n",
    "\n",
    "hotel = hm.create_hotel(\"Olympia\", 5, address)"
   ],
   "id": "50e304cf9179e2c6",
   "outputs": [],
   "execution_count": 19
  },
  {
   "metadata": {
    "ExecuteTime": {
     "end_time": "2025-05-27T15:49:26.573348Z",
     "start_time": "2025-05-27T15:49:26.570292Z"
    }
   },
   "cell_type": "code",
   "source": "print(f\"HotelID: {h.hotel_id}, Hotelname: {h.name}, Sterne: {h.stars}\")\n",
   "id": "350749c8c01bb66e",
   "outputs": [
    {
     "name": "stdout",
     "output_type": "stream",
     "text": [
      "HotelID: 6, Hotelname: Olympia, Sterne: 5\n"
     ]
    }
   ],
   "execution_count": 20
  }
 ],
 "metadata": {
  "kernelspec": {
   "name": "python3",
   "language": "python",
   "display_name": "Python 3 (ipykernel)"
  }
 },
 "nbformat": 5,
 "nbformat_minor": 9
}
