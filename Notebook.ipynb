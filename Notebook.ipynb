{
 "cells": [
  {
   "metadata": {
    "ExecuteTime": {
     "end_time": "2025-05-27T14:22:23.408219Z",
     "start_time": "2025-05-27T14:22:23.404130Z"
    }
   },
   "cell_type": "code",
   "source": [
    "import os\n",
    "import shutil\n",
    "\n",
    "original_db = \"database/hotel_reservation_sample.db\"\n",
    "working_db = \"database/hotel_reservation.db\"\n",
    "shutil.copy(original_db, working_db)\n",
    "\n",
    "os.environ[\"DB\"] = working_db"
   ],
   "id": "2ff10f3046bd3b0a",
   "outputs": [],
   "execution_count": 1
  },
  {
   "metadata": {
    "ExecuteTime": {
     "end_time": "2025-05-27T14:22:24.489347Z",
     "start_time": "2025-05-27T14:22:24.473128Z"
    }
   },
   "cell_type": "code",
   "source": "from business_logic.booking_manager import BookingManager",
   "id": "ef9b3267e8b1612",
   "outputs": [],
   "execution_count": 2
  },
  {
   "metadata": {
    "ExecuteTime": {
     "end_time": "2025-05-27T14:22:25.259181Z",
     "start_time": "2025-05-27T14:22:25.256825Z"
    }
   },
   "cell_type": "code",
   "source": "bm = BookingManager()",
   "id": "d3d32d3a21a03001",
   "outputs": [],
   "execution_count": 3
  },
  {
   "metadata": {
    "ExecuteTime": {
     "end_time": "2025-05-27T14:22:26.248272Z",
     "start_time": "2025-05-27T14:22:26.243464Z"
    }
   },
   "cell_type": "code",
   "source": [
    "from model.guest import Guest\n",
    "from model.room import Room\n",
    "from model.room_type import RoomType\n",
    "from datetime import date\n",
    "\n",
    "guest = Guest(1, \"John\", \"Doe\", \"mail\")\n",
    "room = Room(1, 202, 80.90)\n",
    "room_type = RoomType(1, \"Standard\", 1)\n",
    "room.room_type = room_type\n",
    "\n",
    "b = bm.create_booking(guest, room,1, date(2025, 1, 1), date(2025, 1, 3))"
   ],
   "id": "b1fa4cc22792b227",
   "outputs": [],
   "execution_count": 4
  },
  {
   "metadata": {
    "ExecuteTime": {
     "end_time": "2025-05-27T14:22:28.866084Z",
     "start_time": "2025-05-27T14:22:28.863078Z"
    }
   },
   "cell_type": "code",
   "source": "print(b.total_amount)",
   "id": "77da99f31b096017",
   "outputs": [
    {
     "name": "stdout",
     "output_type": "stream",
     "text": [
      "161.8\n"
     ]
    }
   ],
   "execution_count": 5
  },
  {
   "metadata": {},
   "cell_type": "code",
   "outputs": [],
   "execution_count": null,
   "source": "",
   "id": "50e304cf9179e2c6"
  }
 ],
 "metadata": {
  "kernelspec": {
   "name": "python3",
   "language": "python",
   "display_name": "Python 3 (ipykernel)"
  }
 },
 "nbformat": 5,
 "nbformat_minor": 9
}
