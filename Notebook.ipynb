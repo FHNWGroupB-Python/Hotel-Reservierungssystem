{
 "cells": [
  {
   "metadata": {
    "ExecuteTime": {
     "end_time": "2025-06-04T10:50:59.473705Z",
     "start_time": "2025-06-04T10:50:59.455459Z"
    }
   },
   "cell_type": "code",
   "source": [
    "import os\n",
    "import shutil\n",
    "\n",
    "original_db = \"database/hotel_reservation_sample.db\"\n",
    "working_db = \"database/hotel_reservation.db\"\n",
    "shutil.copy(original_db, working_db)\n",
    "\n",
    "os.environ[\"DB\"] = working_db"
   ],
   "id": "2ff10f3046bd3b0a",
   "outputs": [],
   "execution_count": 1
  },
  {
   "metadata": {},
   "cell_type": "markdown",
   "source": [
    "# Userstory 1\n",
    "Als Gast möchte ich die verfügbaren Hotels durchsuchen, damit\n",
    "ich dasjenige auswählen kann, welches meinen Wünschen\n",
    "entspricht. Wünsche sind:\n",
    "\n",
    "# Userstory 1.1\n",
    "Ich möchte alle Hotels in einer Stadt durchsuchen,\n",
    "damit ich das Hotel nach meinem bevorzugten Standort\n",
    "(Stadt) auswählen kann.\n"
   ],
   "id": "2d0959596686ba81"
  },
  {
   "metadata": {
    "ExecuteTime": {
     "end_time": "2025-06-04T09:12:03.773228Z",
     "start_time": "2025-06-04T09:12:03.597555Z"
    }
   },
   "cell_type": "code",
   "source": [
    "import model\n",
    "from business_logic.hotel_manager import HotelManager\n",
    "from business_logic.address_manager import AddressManager\n",
    "\n",
    "hotel_manager = HotelManager()\n",
    "\n",
    "valid = False\n",
    "while not valid:\n",
    "    city = input(\"In welcher Stadt suchen Sie Ihr gewünschtes Hotel? \")\n",
    "    hotels = hotel_manager.search_hotels_by_city(city)\n",
    "    if hotels:\n",
    "        print(\"Gefundene Hotels:\")\n",
    "        for hotel in hotels:\n",
    "            print(f\"{hotel.name} mit {hotel.stars} Sternen an der {hotel.address.street}, {hotel.address.city}, {hotel.address.zip_code}\")\n",
    "        valid = True\n",
    "    else:\n",
    "        print(\"Keine Hotels gefunden\")\n"
   ],
   "id": "e2f32f03235a0a5",
   "outputs": [
    {
     "ename": "Exception",
     "evalue": "Database connection string not found",
     "output_type": "error",
     "traceback": [
      "\u001B[31m---------------------------------------------------------------------------\u001B[39m",
      "\u001B[31mException\u001B[39m                                 Traceback (most recent call last)",
      "\u001B[36mCell\u001B[39m\u001B[36m \u001B[39m\u001B[32mIn[1]\u001B[39m\u001B[32m, line 5\u001B[39m\n\u001B[32m      2\u001B[39m \u001B[38;5;28;01mfrom\u001B[39;00m\u001B[38;5;250m \u001B[39m\u001B[34;01mbusiness_logic\u001B[39;00m\u001B[34;01m.\u001B[39;00m\u001B[34;01mhotel_manager\u001B[39;00m\u001B[38;5;250m \u001B[39m\u001B[38;5;28;01mimport\u001B[39;00m HotelManager\n\u001B[32m      3\u001B[39m \u001B[38;5;28;01mfrom\u001B[39;00m\u001B[38;5;250m \u001B[39m\u001B[34;01mbusiness_logic\u001B[39;00m\u001B[34;01m.\u001B[39;00m\u001B[34;01maddress_manager\u001B[39;00m\u001B[38;5;250m \u001B[39m\u001B[38;5;28;01mimport\u001B[39;00m AddressManager\n\u001B[32m----> \u001B[39m\u001B[32m5\u001B[39m hotel_manager = \u001B[43mHotelManager\u001B[49m\u001B[43m(\u001B[49m\u001B[43m)\u001B[49m\n\u001B[32m      7\u001B[39m valid = \u001B[38;5;28;01mFalse\u001B[39;00m\n\u001B[32m      8\u001B[39m \u001B[38;5;28;01mwhile\u001B[39;00m \u001B[38;5;129;01mnot\u001B[39;00m valid:\n",
      "\u001B[36mFile \u001B[39m\u001B[32m~/PycharmProjects/Hotel_Reservierungssystem/business_logic/hotel_manager.py:10\u001B[39m, in \u001B[36mHotelManager.__init__\u001B[39m\u001B[34m(self)\u001B[39m\n\u001B[32m      9\u001B[39m \u001B[38;5;28;01mdef\u001B[39;00m\u001B[38;5;250m \u001B[39m\u001B[34m__init__\u001B[39m(\u001B[38;5;28mself\u001B[39m) -> \u001B[38;5;28;01mNone\u001B[39;00m:\n\u001B[32m---> \u001B[39m\u001B[32m10\u001B[39m     \u001B[38;5;28mself\u001B[39m.__hotel_dal = \u001B[43mdata_access\u001B[49m\u001B[43m.\u001B[49m\u001B[43mHotelDAL\u001B[49m\u001B[43m(\u001B[49m\u001B[43m)\u001B[49m\n",
      "\u001B[36mFile \u001B[39m\u001B[32m~/PycharmProjects/Hotel_Reservierungssystem/data_access/hotel_dal.py:11\u001B[39m, in \u001B[36mHotelDAL.__init__\u001B[39m\u001B[34m(self, db_path)\u001B[39m\n\u001B[32m     10\u001B[39m \u001B[38;5;28;01mdef\u001B[39;00m\u001B[38;5;250m \u001B[39m\u001B[34m__init__\u001B[39m(\u001B[38;5;28mself\u001B[39m, db_path:\u001B[38;5;28mstr\u001B[39m = \u001B[38;5;28;01mNone\u001B[39;00m):\n\u001B[32m---> \u001B[39m\u001B[32m11\u001B[39m     \u001B[38;5;28;43msuper\u001B[39;49m\u001B[43m(\u001B[49m\u001B[43m)\u001B[49m\u001B[43m.\u001B[49m\u001B[34;43m__init__\u001B[39;49m\u001B[43m(\u001B[49m\u001B[43mdb_path\u001B[49m\u001B[43m)\u001B[49m\n",
      "\u001B[36mFile \u001B[39m\u001B[32m~/PycharmProjects/Hotel_Reservierungssystem/data_access/base_dal.py:10\u001B[39m, in \u001B[36mBaseDAL.__init__\u001B[39m\u001B[34m(self, db_connection)\u001B[39m\n\u001B[32m      8\u001B[39m     \u001B[38;5;28mself\u001B[39m.db_connection_str = os.environ.get(\u001B[33m\"\u001B[39m\u001B[33mDB\u001B[39m\u001B[33m\"\u001B[39m)\n\u001B[32m      9\u001B[39m     \u001B[38;5;28;01mif\u001B[39;00m \u001B[38;5;28mself\u001B[39m.db_connection_str \u001B[38;5;129;01mis\u001B[39;00m \u001B[38;5;28;01mNone\u001B[39;00m:\n\u001B[32m---> \u001B[39m\u001B[32m10\u001B[39m         \u001B[38;5;28;01mraise\u001B[39;00m \u001B[38;5;167;01mException\u001B[39;00m(\u001B[33m\"\u001B[39m\u001B[33mDatabase connection string not found\u001B[39m\u001B[33m\"\u001B[39m)\n\u001B[32m     11\u001B[39m \u001B[38;5;28;01melse\u001B[39;00m:\n\u001B[32m     12\u001B[39m     \u001B[38;5;28mself\u001B[39m.db_connection_str = db_connection\n",
      "\u001B[31mException\u001B[39m: Database connection string not found"
     ]
    }
   ],
   "execution_count": 1
  },
  {
   "metadata": {},
   "cell_type": "markdown",
   "source": [
    "# Userstory 1.2\n",
    "Ich möchte alle Hotels in einer Stadt nach der\n",
    "Anzahl der Sterne (z.B. mindestens 4 Sterne) durchsuchen.\n"
   ],
   "id": "d9b7a7494ea04543"
  },
  {
   "metadata": {},
   "cell_type": "code",
   "outputs": [],
   "execution_count": null,
   "source": [
    "import model\n",
    "from business_logic.hotel_manager import HotelManager\n",
    "\n",
    "hotel_manager = HotelManager()\n",
    "\n",
    "valid = False\n",
    "while not valid:\n",
    "    city = input(\"In welcher Stadt suchen Sie Ihr gewünschtes Hotel? \")\n",
    "    stars = int(input(\"Geben Sie die min. Anzahl Sterne an\" ))\n",
    "    hotels = hotel_manager.search_hotels_by_city_and_stars(city, stars)\n",
    "    if hotels:\n",
    "        print(\"Gefundene Hotels:\")\n",
    "        for hotel in hotels:\n",
    "            print(f\"{hotel.name} mit {hotel.stars} Sternen an der {hotel.address.street}, {hotel.address.city}, {hotel.address.zip_code}\")\n",
    "        valid = True\n",
    "    else:\n",
    "        print(\"Keine Hotels gefunden\")\n"
   ],
   "id": "9312305159312dd6"
  },
  {
   "metadata": {},
   "cell_type": "markdown",
   "source": [
    "# Userstory 1.3\n",
    "Ich möchte alle Hotels in einer Stadt durchsuchen,\n",
    "die Zimmer haben, die meiner Gästezahl entsprechen (nur 1\n",
    "Zimmer pro Buchung).\n"
   ],
   "id": "f2a2b75202e03f4"
  },
  {
   "metadata": {
    "ExecuteTime": {
     "end_time": "2025-06-01T12:47:46.354248Z",
     "start_time": "2025-06-01T12:47:40.598614Z"
    }
   },
   "cell_type": "code",
   "source": [
    "from business_logic.hotel_manager import HotelManager\n",
    "\n",
    "hotel_manager = HotelManager()\n",
    "\n",
    "valid = False\n",
    "while not valid:\n",
    "    city = input(\"In welcher Stadt suchen Sie Ihr gewünschtes Hotel? \")\n",
    "    try:\n",
    "        guest_count = int(input(\"Geben Sie die min. Anzahl der Gäste an: \"))\n",
    "    except ValueError:\n",
    "        print(\"Ungültige Eingabe, geben Sie eine Zahl an\")\n",
    "\n",
    "    hotels = hotel_manager.search_hotels_by_city_and_room_capacity(city, guest_count)\n",
    "\n",
    "    if hotels:\n",
    "        print(\"Gefundene Hotels:\")\n",
    "        for hotel in hotels:\n",
    "            print(f\"\\n{hotel.name}, Sterne: {hotel.stars}\"\n",
    "                  f\"\\nAddresse: {hotel.address.street}, {hotel.address.city}, {hotel.address.zip_code}\"\n",
    "                  f\"\\nZimmer: {hotel.room_number}, {hotel.description}, Kapazität: {hotel.max_guests}\"\n",
    "                  f\"\\nPreis pro Nacht: {hotel.price_per_night}\")\n",
    "\n",
    "        valid = True\n",
    "    else:\n",
    "        print(\"Keine Hotels gefunden\")\n"
   ],
   "id": "21b9e33967e68252",
   "outputs": [
    {
     "name": "stdout",
     "output_type": "stream",
     "text": [
      "Gefundene Hotels:\n",
      "\n",
      "Hotel Baur au Lac, Sterne: 5\n",
      "Addresse: Bahnhofstrasse 1, Zürich, 8001\n",
      "Zimmer: 101, Single, Kapazität: 1\n",
      "Preis pro Nacht: 250.0\n",
      "\n",
      "Hotel Baur au Lac, Sterne: 5\n",
      "Addresse: Bahnhofstrasse 1, Zürich, 8001\n",
      "Zimmer: 102, Double, Kapazität: 2\n",
      "Preis pro Nacht: 400.0\n"
     ]
    }
   ],
   "execution_count": 8
  },
  {
   "metadata": {},
   "cell_type": "markdown",
   "source": [
    "# Userstory 1.4\n",
    "Ich möchte alle Hotels in einer Stadt durchsuchen,\n",
    "die während meines Aufenthaltes (\"von\" (check_in_date)\n",
    "und \"bis\" (check_out_date)) Zimmer zur Verfügung haben,\n",
    "damit ich nur relevante Ergebnisse sehe.\n"
   ],
   "id": "37efc15412dda88c"
  },
  {
   "metadata": {
    "ExecuteTime": {
     "end_time": "2025-06-01T14:01:49.044572Z",
     "start_time": "2025-06-01T14:01:35.068159Z"
    }
   },
   "cell_type": "code",
   "source": [
    "from datetime import datetime\n",
    "from business_logic.hotel_manager import HotelManager\n",
    "\n",
    "hotel_manager = HotelManager()\n",
    "valid = False\n",
    "while not valid:\n",
    "    city = input(\"In welcher Stadt suchen Sie Ihr gewünschtes Hotel? \")\n",
    "    check_in_date = input(\"Geben Sie ihr gewünschtes Anreisedatum an (YYYY-MM-DD): \")\n",
    "    check_out_date = input(\"Geben Sie ihr gewünschtes Abreisedatum an (YYYY-MM-DD): \")\n",
    "\n",
    "    try:\n",
    "        check_in_date = datetime.strptime(check_in_date, \"%Y-%m-%d\").date()\n",
    "        check_out_date = datetime.strptime(check_out_date, \"%Y-%m-%d\").date()\n",
    "    except ValueError:\n",
    "        print(\"Ungültiges Datumsformat. Bitte unbedingt YYYY-MM-DD verwenden.\\n\")\n",
    "        continue\n",
    "\n",
    "    if check_in_date >= check_out_date:\n",
    "        print(\"Fehler: Checkout muss nach dem Checkin liegen. Bitte erneut eingeben\")\n",
    "        continue\n",
    "\n",
    "    hotels = hotel_manager.search_hotels_by_city_and_availability(city, check_in_date, check_out_date)\n",
    "\n",
    "    if hotels:\n",
    "        print(\"Gefundene Hotels:\")\n",
    "        for hotel in hotels:\n",
    "            print(f\"\\n{hotel.name}, Sterne: {hotel.stars}\"\n",
    "                  f\"\\nAddresse: {hotel.address.street}, {hotel.address.city}, {hotel.address.zip_code}\"\n",
    "                  f\"\\nZimmer: {hotel.room_number}, {hotel.description}, Kapazität: {hotel.max_guests}\"\n",
    "                  f\"\\nPreis pro Nacht: {hotel.price_per_night}\"\n",
    "                  f\"\\nAnreisedatum von bis: {check_in_date} - {check_out_date}\"\n",
    "            )\n",
    "        valid = True\n",
    "    else:\n",
    "        print(\"Leider keine Verfügbarkeit in diesem Zeitraum. Versuchen Sie bitte einen anderen Zeitraum.\")\n",
    "\n"
   ],
   "id": "6e40937f61e2d2df",
   "outputs": [
    {
     "name": "stdout",
     "output_type": "stream",
     "text": [
      "Gefundene Hotels:\n",
      "\n",
      "Hotel Baur au Lac, Sterne: 5\n",
      "Addresse: Bahnhofstrasse 1, Zürich, 8001\n",
      "Zimmer: 101, Single, Kapazität: 1\n",
      "Preis pro Nacht: 250.0\n",
      "Anreisedatum von bis: 2025-06-01 - 2025-06-05\n",
      "\n",
      "Hotel Baur au Lac, Sterne: 5\n",
      "Addresse: Bahnhofstrasse 1, Zürich, 8001\n",
      "Zimmer: 102, Double, Kapazität: 2\n",
      "Preis pro Nacht: 400.0\n",
      "Anreisedatum von bis: 2025-06-01 - 2025-06-05\n"
     ]
    }
   ],
   "execution_count": 5
  },
  {
   "metadata": {},
   "cell_type": "markdown",
   "source": [
    "# Userstory 1.5\n",
    "Ich möchte Wünsche kombinieren können, z.B. die\n",
    "verfügbaren Zimmer zusammen mit meiner Gästezahl und der\n",
    "mindest Anzahl Sterne"
   ],
   "id": "b8850df7264932e"
  },
  {
   "metadata": {
    "ExecuteTime": {
     "end_time": "2025-06-02T07:37:19.128875Z",
     "start_time": "2025-06-02T07:36:51.776654Z"
    }
   },
   "cell_type": "code",
   "source": [
    "from datetime import datetime\n",
    "from business_logic.hotel_manager import HotelManager\n",
    "\n",
    "hotel_manager = HotelManager()\n",
    "valid = False\n",
    "while not valid:\n",
    "    city = input(\"In welcher Stadt suchen Sie Ihr gewünschtes Hotel? \")\n",
    "    try:\n",
    "        check_in_str = input(\"Geben Sie ihr gewünschtes Anreisedatum an (YYYY-MM-DD): \")\n",
    "        check_out_str = input(\"Geben Sie ihr gewünschtes Abreisedatum an (YYYY-MM-DD): \")\n",
    "        check_in_date = datetime.strptime(check_in_str, \"%Y-%m-%d\").date()\n",
    "        check_out_date = datetime.strptime(check_out_str, \"%Y-%m-%d\").date()\n",
    "    except ValueError:\n",
    "        print(\"Ungültiges Datumsformat. Bitte unbedingt YYYY-MM-DD verwenden.\\n\")\n",
    "        continue\n",
    "\n",
    "    if check_in_date >= check_out_date:\n",
    "        print(\"Fehler: Checkout muss nach dem Checkin liegen. Bitte erneut eingeben\")\n",
    "        continue\n",
    "\n",
    "    try:\n",
    "        stars = int(input(\"Geben Sie die min. Anzahl Sterne an\" ))\n",
    "    except ValueError:\n",
    "        print(\"Ungültige Eingabe, geben Sie eine Zahl an\")\n",
    "        continue\n",
    "\n",
    "    try:\n",
    "        guest_count = int(input(\"Geben Sie die min. Anzahl der Gäste an: \"))\n",
    "    except ValueError:\n",
    "        print(\"Ungültige Eingabe, geben Sie eine Zahl an\")\n",
    "        continue\n",
    "\n",
    "\n",
    "    hotels = hotel_manager.search_hotels_by_city_availability_stars_capacity(\n",
    "        city,\n",
    "        check_in_date,\n",
    "        check_out_date,\n",
    "        stars,\n",
    "        guest_count\n",
    "    )\n",
    "\n",
    "    if hotels:\n",
    "        print(\"Gefundene Hotels:\")\n",
    "        for hotel in hotels:\n",
    "            print(f\"\\n{hotel.name}, Sterne: {hotel.stars}\"\n",
    "                  f\"\\nAddresse: {hotel.address.street}, {hotel.address.city}, {hotel.address.zip_code}\"\n",
    "                  f\"\\nZimmer: {hotel.room_number}, {hotel.description}, Kapazität: {hotel.max_guests}\"\n",
    "                  f\"\\nPreis pro Nacht: {hotel.price_per_night}\"\n",
    "                  f\"\\nAnreisedatum von bis: {check_in_date} - {check_out_date}\"\n",
    "            )\n",
    "        valid = True\n",
    "    else:\n",
    "        print(\"Leider keine Verfügbarkeit in diesem Zeitraum. Versuchen Sie bitte einen anderen Zeitraum.\")\n",
    "\n"
   ],
   "id": "f0180b57047e33b1",
   "outputs": [
    {
     "name": "stdout",
     "output_type": "stream",
     "text": [
      "Gefundene Hotels:\n",
      "\n",
      "Hotel Baur au Lac, Sterne: 5\n",
      "Addresse: Bahnhofstrasse 1, Zürich, 8001\n",
      "Zimmer: 101, Single, Kapazität: 1\n",
      "Preis pro Nacht: 250.0\n",
      "Anreisedatum von bis: 2025-06-01 - 2025-06-05\n",
      "\n",
      "Hotel Baur au Lac, Sterne: 5\n",
      "Addresse: Bahnhofstrasse 1, Zürich, 8001\n",
      "Zimmer: 102, Double, Kapazität: 2\n",
      "Preis pro Nacht: 400.0\n",
      "Anreisedatum von bis: 2025-06-01 - 2025-06-05\n"
     ]
    }
   ],
   "execution_count": 8
  },
  {
   "metadata": {},
   "cell_type": "markdown",
   "source": [
    "# Userstory 1.6\n",
    "Ich möchte die folgenden Informationen pro Hotel\n",
    "sehen: Name, Adresse, Anzahl der Sterne."
   ],
   "id": "1382a067a1f16c24"
  },
  {
   "metadata": {
    "ExecuteTime": {
     "end_time": "2025-06-02T06:18:52.640111Z",
     "start_time": "2025-06-02T06:18:52.631059Z"
    }
   },
   "cell_type": "code",
   "source": [
    "from business_logic.hotel_manager import HotelManager\n",
    "\n",
    "hotel_manager = HotelManager()\n",
    "\n",
    "hotels = hotel_manager.get_all_hotel_info()\n",
    "if not hotels:\n",
    "    print(\"Keine Hotels gefunden.\")\n",
    "else:\n",
    "    for hotel in hotels:\n",
    "        print(f\"\\nHotel: {hotel.name}, Sterne: {hotel.stars}\\n\"\n",
    "              f\"Adresse: {hotel.address.street}, {hotel.address.city}, {hotel.address.zip_code}\"\n",
    "            )\n"
   ],
   "id": "717d00421ffb0ccc",
   "outputs": [
    {
     "name": "stdout",
     "output_type": "stream",
     "text": [
      "\n",
      "Hotel: Hotel Baur au Lac, Sterne: 5\n",
      "Adresse: Bahnhofstrasse 1, Zürich, 8001\n",
      "\n",
      "Hotel: Four Seasons Hôtel des Bergues, Sterne: 5\n",
      "Adresse: Rue du Rhône 42, Genève, 1204\n",
      "\n",
      "Hotel: Grand Hotel National, Sterne: 5\n",
      "Adresse: Pilatusstrasse 15, Luzern, 6003\n",
      "\n",
      "Hotel: Bellevue Palace, Sterne: 5\n",
      "Adresse: Marktgasse 59, Bern, 3011\n",
      "\n",
      "Hotel: Les Trois Rois, Sterne: 5\n",
      "Adresse: Freiestrasse 10, Basel, 4051\n"
     ]
    }
   ],
   "execution_count": 12
  },
  {
   "metadata": {},
   "cell_type": "markdown",
   "source": [
    "# Userstory 2\n",
    "Als Gast möchte ich Details zu verschiedenen Zimmertypen\n",
    "(Single, Double, Suite usw.), die in einem Hotel verfügbar\n",
    "sind, sehen, einschliesslich der maximalen Anzahl von Gästen\n",
    "für dieses Zimmer, Beschreibung, Preis und Ausstattung, um eine\n",
    "fundierte Entscheidung zu treffen.\n",
    "# Userstory 2.1\n",
    "Ich möchte die folgenden Informationen pro Zimmer\n",
    "sehen: Zimmertyp, max. Anzahl der Gäste, Beschreibung,\n",
    "Ausstattung, Preis pro Nacht und Gesamtpreis."
   ],
   "id": "eac3b53e63a78963"
  },
  {
   "metadata": {
    "ExecuteTime": {
     "end_time": "2025-06-02T07:36:20.309527Z",
     "start_time": "2025-06-02T07:36:13.073011Z"
    }
   },
   "cell_type": "code",
   "source": [
    "\n",
    "from business_logic.room_manager import RoomManager\n",
    "\n",
    "room_manager = RoomManager()\n",
    "\n",
    "hotel_name_input = input(\"Geben Sie den exakten Hotelnamen ein: \").strip()\n",
    "try:\n",
    "    rooms = room_manager.get_room_info_by_hotel(hotel_name_input)\n",
    "except Exception as e:\n",
    "    print(f\"Fehler bei der Abfrage: {e}\")\n",
    "\n",
    "if not rooms:\n",
    "    print(f\"Für Hotel „{hotel_name_input}“ wurden keine Zimmer gefunden.\")\n",
    "else:\n",
    "    print(f\"\\nZimmer für „{hotel_name_input}“:\\n\")\n",
    "    for r in rooms:\n",
    "        print(\n",
    "            f\"  Zimmer-ID      : {r.room_id}\\n\"\n",
    "            f\"  Zimmernummer   : {r.room_number}\\n\"\n",
    "            f\"  Zimmertyp      : {r.room_type.description}\\n\"\n",
    "            f\"  Max. Gäste     : {r.room_type.max_guests}\\n\"\n",
    "            f\"  Preis/Nacht    : {r.price_per_night}\\n\")"
   ],
   "id": "786fa4eb95f724ea",
   "outputs": [
    {
     "name": "stdout",
     "output_type": "stream",
     "text": [
      "\n",
      "Zimmer für „Hotel Baur au Lac“:\n",
      "\n",
      "  Zimmer-ID      : 1\n",
      "  Zimmernummer   : 101\n",
      "  Zimmertyp      : Single\n",
      "  Max. Gäste     : 1\n",
      "  Preis/Nacht    : 250.0\n",
      "\n",
      "  Zimmer-ID      : 2\n",
      "  Zimmernummer   : 102\n",
      "  Zimmertyp      : Double\n",
      "  Max. Gäste     : 2\n",
      "  Preis/Nacht    : 400.0\n",
      "\n"
     ]
    }
   ],
   "execution_count": 7
  },
  {
   "metadata": {},
   "cell_type": "markdown",
   "source": [
    "# Userstory 2.2\n",
    "Ich möchte nur die verfügbaren Zimmer sehen, sofern\n",
    "ich meinen Aufenthalt (von – bis) spezifiziert habe.\n"
   ],
   "id": "589f9bbbce04fa73"
  },
  {
   "metadata": {
    "ExecuteTime": {
     "end_time": "2025-06-02T11:28:37.761118Z",
     "start_time": "2025-06-02T11:28:26.097670Z"
    }
   },
   "cell_type": "code",
   "source": [
    "from datetime import datetime\n",
    "from business_logic.room_manager import RoomManager  # oder: HotelManager\n",
    "\n",
    "room_manager = RoomManager()\n",
    "\n",
    "\n",
    "valid = False\n",
    "while not valid:\n",
    "    try:\n",
    "        check_in_str = input(\"Geben Sie ihr gewünschtes Anreisedatum an (YYYY-MM-DD): \")\n",
    "        check_out_str = input(\"Geben Sie ihr gewünschtes Abreisedatum an (YYYY-MM-DD): \")\n",
    "        check_in_date = datetime.strptime(check_in_str, \"%Y-%m-%d\").date()\n",
    "        check_out_date = datetime.strptime(check_out_str, \"%Y-%m-%d\").date()\n",
    "    except ValueError:\n",
    "        print(\"Ungültiges Datumsformat. Bitte unbedingt YYYY-MM-DD verwenden.\\n\")\n",
    "        continue\n",
    "\n",
    "    if check_out_date <= check_in_date:\n",
    "        print(\"Fehler: Check-out muss nach Check-in liegen. Bitte erneut eingeben.\\n\")\n",
    "        continue\n",
    "\n",
    "    rooms = room_manager.get_available_rooms_by_date(check_in_date, check_out_date)\n",
    "    valid = True\n",
    "\n",
    "if not rooms:\n",
    "    print(f\"Im Zeitraum {check_in_date}–{check_out_date} wurden keine freien Zimmer gefunden.\")\n",
    "else:\n",
    "    print(f\"\\nVerfügbare Zimmer für ({check_in_date} bis {check_out_date}):\\n\")\n",
    "    for r in rooms:\n",
    "        print(\n",
    "            f\"- Zimmer-ID       : {r.room_id}\\n\"\n",
    "            f\"  Zimmernummer    : {r.room_number}\\n\"\n",
    "            f\"  Zimmertyp       : {r.room_type.description}\\n\"\n",
    "            f\"  Max. Gäste      : {r.room_type.max_guests}\\n\"\n",
    "            f\"  Preis pro Nacht : {r.price_per_night}\\n\"\n",
    "        )"
   ],
   "id": "d01eddd284ae8d51",
   "outputs": [
    {
     "name": "stdout",
     "output_type": "stream",
     "text": [
      "\n",
      "Verfügbare Zimmer für (2025-01-01 bis 2025-01-05):\n",
      "\n",
      "- Zimmer-ID       : 1\n",
      "  Zimmernummer    : 101\n",
      "  Zimmertyp       : Single\n",
      "  Max. Gäste      : 1\n",
      "  Preis pro Nacht : 250.0\n",
      "\n",
      "- Zimmer-ID       : 2\n",
      "  Zimmernummer    : 102\n",
      "  Zimmertyp       : Double\n",
      "  Max. Gäste      : 2\n",
      "  Preis pro Nacht : 400.0\n",
      "\n",
      "- Zimmer-ID       : 3\n",
      "  Zimmernummer    : 201\n",
      "  Zimmertyp       : Suite\n",
      "  Max. Gäste      : 4\n",
      "  Preis pro Nacht : 650.0\n",
      "\n",
      "- Zimmer-ID       : 4\n",
      "  Zimmernummer    : 301\n",
      "  Zimmertyp       : Family Room\n",
      "  Max. Gäste      : 5\n",
      "  Preis pro Nacht : 900.0\n",
      "\n",
      "- Zimmer-ID       : 5\n",
      "  Zimmernummer    : 401\n",
      "  Zimmertyp       : Penthouse\n",
      "  Max. Gäste      : 6\n",
      "  Preis pro Nacht : 1500.0\n",
      "\n"
     ]
    }
   ],
   "execution_count": 2
  },
  {
   "metadata": {},
   "cell_type": "markdown",
   "source": [
    "# Userstory 3\n",
    "Als Admin des Buchungssystems möchte ich die Möglichkeit haben,\n",
    "Hotelinformationen zu pflegen, um aktuelle Informationen im\n",
    "System zu haben.\n",
    "# Userstory 3.1\n",
    "Ich möchte neue Hotels zum System hinzufügen\n",
    "\n",
    "## Input Daten vom Admin\n",
    "\n",
    "* Daten wie Strasse, Hotelname, Anzahl Sterne und Ort(Addresse)\n",
    "\n",
    "\n"
   ],
   "id": "6cdc2e9f3ac4c5d7"
  },
  {
   "metadata": {
    "ExecuteTime": {
     "end_time": "2025-06-03T09:00:22.396264Z",
     "start_time": "2025-06-03T09:00:22.369851Z"
    }
   },
   "cell_type": "code",
   "source": [
    "# Userstory 3.1\n",
    "from datetime import date\n",
    "from business_logic.hotel_manager import HotelManager\n",
    "from business_logic.address_manager import AddressManager\n",
    "from model.hotel import Hotel\n",
    "from model.address import Address\n",
    "\n",
    "address_manager = AddressManager()\n",
    "createded_address = address_manager.create_address(\"Teststrasse\", \"Zürich\", 8001)\n",
    "print(f\"Neue Addresse: {createded_address.street}, {createded_address.city}, {createded_address.zip_code}\")\n",
    "\n",
    "\n",
    "hotel_manager = HotelManager()\n",
    "h = Hotel(6, \"Olympia\", 3)\n",
    "hotel = hotel_manager.create_hotel(\"Olympia\", 3, createded_address)\n",
    "print(f\"Neues Hotel: {h.name}, Sterne: {h.stars}\")"
   ],
   "id": "a7d1759a1c8e1a3",
   "outputs": [
    {
     "name": "stdout",
     "output_type": "stream",
     "text": [
      "Neue Addresse: Teststrasse, Zürich, 8001\n",
      "Neues Hotel: Olympia, Sterne: 3\n"
     ]
    }
   ],
   "execution_count": 2
  },
  {
   "metadata": {},
   "cell_type": "markdown",
   "source": [
    "# Userstory 3.2\n",
    "Ich möchte Hotels aus dem System entfernen\n"
   ],
   "id": "5cfc9d8c2e9b8743"
  },
  {
   "metadata": {
    "ExecuteTime": {
     "end_time": "2025-06-03T09:14:42.003117Z",
     "start_time": "2025-06-03T09:14:35.805543Z"
    }
   },
   "cell_type": "code",
   "source": [
    "from business_logic.hotel_manager import HotelManager\n",
    "\n",
    "hotels = hotel_manager.get_all_hotel_info()\n",
    "\n",
    "if not hotels:\n",
    "    print(\"Keine Hotels in der Datenbank gefunden\")\n",
    "else:\n",
    "    for hotel in hotels:\n",
    "        print(f\"{hotel.hotel_id}: {hotel.name}, {hotel.stars}\")\n",
    "\n",
    "\n",
    "\n",
    "while True:\n",
    "    try:\n",
    "        user_choice = int(input(\"Geben Sie die ID ein die Sie löschen möchten\"))\n",
    "    except ValueError:\n",
    "        print(\"Ungültige Eingabe bitte geben sie eine Zahl ein\")\n",
    "    try:\n",
    "        hotel_manager.delete_hotel(user_choice)\n",
    "        print(f\"Hotel mit ID: {user_choice} wurde erfolgreich gelöscht.\\n\")\n",
    "        break\n",
    "    except Exception as e:\n",
    "        print(f\"Fehler bei der Abfrage: {e}\")\n",
    "\n",
    "\n",
    "\n"
   ],
   "id": "43587556e4c2691b",
   "outputs": [
    {
     "name": "stdout",
     "output_type": "stream",
     "text": [
      "1: Hotel Baur au Lac, 5\n",
      "2: Four Seasons Hôtel des Bergues, 5\n",
      "3: Grand Hotel National, 5\n",
      "4: Bellevue Palace, 5\n",
      "5: ahah, 4\n",
      "Hotel mit ID: 1 wurde erfolgreich gelöscht.\n",
      "\n"
     ]
    }
   ],
   "execution_count": 3
  },
  {
   "metadata": {},
   "cell_type": "markdown",
   "source": [
    "# Userstory 3.3\n",
    "Ich möchte die Informationen bestimmter Hotels\n",
    "aktualisieren, z. B. den Namen, die Sterne usw.\n"
   ],
   "id": "647de9b5802d7565"
  },
  {
   "metadata": {
    "ExecuteTime": {
     "end_time": "2025-06-04T06:09:12.543559Z",
     "start_time": "2025-06-04T06:09:12.532908Z"
    }
   },
   "cell_type": "code",
   "source": [
    "from business_logic.hotel_manager import HotelManager\n",
    "\n",
    "hotel_manager = HotelManager()\n",
    "\n",
    "hotels = hotel_manager.get_all_hotel_info()\n",
    "if not hotels:\n",
    "    print(\"Keine Hotels in der Datenbank vorhanden.\")\n",
    "else:\n",
    "    for idx, hotel in enumerate(hotels, start=1):\n",
    "        print(f\"{idx} - {hotel.name}, {hotel.stars}\")\n",
    "\n",
    "\n",
    "while True:\n",
    "    try:\n",
    "        index = int(input(\"Geben Sie die ID ein, die Sie aktualisieren möchten: \"))\n",
    "    except ValueError:\n",
    "        print(\"Ungültige Eingabe. Bitte eine ganze Zahl eingeben.\\n\")\n",
    "\n",
    "    try:\n",
    "        name = input(\"Geben Sie den neuen Hotelnamen ein: \").strip()\n",
    "    except ValueError:\n",
    "        print(\"Der Name muss ein String sein\")\n",
    "    if not name:\n",
    "        print(\"Der Name darf nicht leer sein\")\n",
    "        continue\n",
    "\n",
    "    try:\n",
    "        stars = int(input(\"Geben Sie die neue Sternezahl (1–5) ein: \"))\n",
    "        if not 1 <= stars <= 5:\n",
    "            print(\"Bitte eine Zahl zwischen 1 und 5 eingeben.\\n\")\n",
    "            continue\n",
    "    except ValueError:\n",
    "        print(\"Ungültige Eingabe, bitte eine ganze Zahl eingeben.\\n\")\n",
    "        continue\n",
    "    break\n",
    "\n",
    "try:\n",
    "    hotel_manager.update_hotel(index, name, stars)\n",
    "except Exception as e:\n",
    "    print(f\"Fehler beim Aktualisieren: {e}\")\n",
    "\n",
    "print(\"\\nHotel wurde aktualisiert:\")\n",
    "print(f\"- ID     : {index}\")\n",
    "print(f\"- Name   : {name}\")\n",
    "print(f\"- Sterne : {stars}\\n\")\n",
    "\n",
    "for hotel in hotels:\n",
    "    print(f\"{hotel.hotel_id} - {hotel.name}, {hotel.stars}\")"
   ],
   "id": "55515c342bd28eac",
   "outputs": [
    {
     "ename": "IndentationError",
     "evalue": "unexpected indent (2958857407.py, line 47)",
     "output_type": "error",
     "traceback": [
      "  \u001B[36mCell\u001B[39m\u001B[36m \u001B[39m\u001B[32mIn[8]\u001B[39m\u001B[32m, line 47\u001B[39m\n\u001B[31m    \u001B[39m\u001B[31mfor hotel in hotels:\u001B[39m\n    ^\n\u001B[31mIndentationError\u001B[39m\u001B[31m:\u001B[39m unexpected indent\n"
     ]
    }
   ],
   "execution_count": 8
  },
  {
   "metadata": {},
   "cell_type": "markdown",
   "source": [
    "# Userstory 4\n",
    "Als Gast möchte ich ein Zimmer in einem bestimmten Hotel\n",
    "buchen, um meinen Urlaub zu planen.\n"
   ],
   "id": "8bf398b3e06adbc5"
  },
  {
   "metadata": {},
   "cell_type": "code",
   "outputs": [],
   "execution_count": null,
   "source": [
    "from business_logic.booking_manager import BookingManager\n",
    "from model.guest import Guest\n",
    "from model.room import Room\n",
    "from model.room_type import RoomType\n",
    "from datetime import date\n",
    "\n",
    "\n",
    "guest = Guest(1, \"John\", \"Doe\", \"mail\")\n",
    "room = Room(1, 202, 80.90)\n",
    "room_type = RoomType(1, \"Standard\", 1)\n",
    "room.room_type = room_type\n",
    "\n",
    "booking_manager = BookingManager()\n",
    "b = booking_manager.create_booking(guest, room,1, date(2025, 1, 1), date(2025, 1, 3))\n",
    "print(f\" Checkin Date: {b.check_in_date}, Amount: {b.total_amount}\")"
   ],
   "id": "58de4c05ae9455e4"
  },
  {
   "metadata": {},
   "cell_type": "markdown",
   "source": [
    "# Userstory 5\n",
    "Als Gast möchte ich nach meinem Aufenthalt eine Rechnung\n",
    "erhalten, damit ich einen Zahlungsnachweis habe.\n",
    "Hint: Fügt einen Eintrag in der «Invoice» Tabelle hinzu.\n"
   ],
   "id": "889b5fa8849f6a70"
  },
  {
   "metadata": {
    "ExecuteTime": {
     "end_time": "2025-06-04T10:46:01.170072Z",
     "start_time": "2025-06-04T10:45:57.877796Z"
    }
   },
   "cell_type": "code",
   "source": [
    "# Import model\n",
    "from business_logic.invoice_manager import InvoiceManager\n",
    "from model.invoice import Invoice\n",
    "from data_access.invoice_dal import InvoiceDAL\n",
    "from datetime import date\n",
    "# Input Data from User\n",
    "# Booking.bookingid: save in variable Bookingid\n",
    "valid = False\n",
    "while not valid:\n",
    "    input_user = input(\"Geben Sie bitte Ihren Booking ID ein: \")\n",
    "    if len(input_user) > 0:\n",
    "        valid = True\n",
    "    else:\n",
    "        print(\"Bitte geben Sie einen Booking ID ein.\")\n",
    "print(input_user)\n",
    "\n",
    "booking_id = int(input_user)\n",
    "issue_date = \"2025-01-01\"\n",
    "total_amount = \"100.00\"\n",
    "\n",
    "invoice_manager = InvoiceManager()\n",
    "\n",
    "Rechnung = invoice_manager.create_invoice(booking_id, \"2025-1-1\", 100.00)\n",
    "if Rechnung is not None:\n",
    "    print(\n",
    "        f\"Rechnung erstellt: {Rechnung.invoiceid}, BookingNr: {booking_id}, Ausstellungsdatum: {Rechnung.issue_date}, Gesamtbetrag: {Rechnung.total_amount}\")\n",
    "else:\n",
    "    print(\"Es konnte keine Rechnung erstellt werden.\")"
   ],
   "id": "c29afbace0988980",
   "outputs": [
    {
     "name": "stdout",
     "output_type": "stream",
     "text": [
      "1\n",
      "Rechnung erstellt: 7, BookingNr: 1, Ausstellungsdatum: 2025-1-1, Gesamtbetrag: 100.0\n"
     ]
    }
   ],
   "execution_count": 2
  },
  {
   "metadata": {},
   "cell_type": "markdown",
   "source": [
    "# Userstory 6\n",
    "Als Gast möchte ich meine Buchung stornieren, damit ich nicht\n",
    "belastet werde, wenn ich das Zimmer nicht mehr benötige.\n",
    "Hint: Sorgt für die entsprechende Invoice."
   ],
   "id": "3616eb98d7752084"
  },
  {
   "metadata": {
    "ExecuteTime": {
     "end_time": "2025-06-04T10:51:12.229423Z",
     "start_time": "2025-06-04T10:51:08.087286Z"
    }
   },
   "cell_type": "code",
   "source": [
    "# Fake Booking erstellen\n",
    "from business_logic.booking_manager import BookingManager\n",
    "from model.booking import Booking\n",
    "\n",
    "valid = False\n",
    "while not valid:\n",
    "    input_user = input(\"Geben Sie bitte Ihren Booking ID ein: \")\n",
    "    if len(input_user) > 0:\n",
    "        valid = True\n",
    "    else:\n",
    "        print(\"Bitte geben Sie einen Booking ID ein.\")\n",
    "print(input_user)\n",
    "\n",
    "booking_id = int(input_user)\n",
    "booking_manager = BookingManager()\n",
    "\n",
    "Stornierung = booking_manager.cancel_booking(booking_id)\n",
    "print(\"Stornierung erfolgreich\")"
   ],
   "id": "21fe9990e6a5deb9",
   "outputs": [
    {
     "name": "stdout",
     "output_type": "stream",
     "text": [
      "2\n",
      "Booking with Booking Id 2 cancelled successfully.\n",
      "Stornierung erfolgreich\n"
     ]
    }
   ],
   "execution_count": 2
  },
  {
   "metadata": {},
   "cell_type": "markdown",
   "source": [
    "# Userstory 7\n",
    "Als Gast möchte ich eine dynamische Preisgestaltung auf der\n",
    "Grundlage der Nachfrage sehen, damit ich ein Zimmer zum besten\n",
    "Preis buchen kann.\n",
    "Hint: Wendet in der Hochsaison höhere und in der Nebensaison\n",
    "niedrigere Tarife an.\n"
   ],
   "id": "c4bea4dd9f971c3b"
  },
  {
   "metadata": {
    "ExecuteTime": {
     "end_time": "2025-06-04T10:20:32.398983Z",
     "start_time": "2025-06-04T10:20:26.908463Z"
    }
   },
   "cell_type": "code",
   "source": [
    "from datetime import datetime\n",
    "from data_access.booking_dal import BookingDAL\n",
    "from model.booking import Booking\n",
    "from model.guest import Guest\n",
    "\n",
    "\n",
    "# Ask the User to input a date\n",
    "user_input = input(\"When is your check-in date?\")\n",
    "try:\n",
    "    user_input = datetime.strptime(user_input, \"%Y-%m-%d\").date()\n",
    "    print(f\"The entered Date is {user_input}\")\n",
    "\n",
    "except ValueError:\n",
    "    print(\"Invalid date format. Please enter a valid date in the format YYYY-MM-DD.\")\n",
    "\n",
    "calculate_dynamic_price = BookingDAL().calculate_dynamic_price\n",
    "price = calculate_dynamic_price(100.00, user_input)\n",
    "\n",
    "print(f\"The price is {price}\")"
   ],
   "id": "1eb4e791b19f4af3",
   "outputs": [
    {
     "name": "stdout",
     "output_type": "stream",
     "text": [
      "The entered Date is 2025-06-06\n",
      "The price is 120.0\n"
     ]
    }
   ],
   "execution_count": 4
  },
  {
   "metadata": {},
   "cell_type": "markdown",
   "source": [
    "# Userstory 8\n",
    "Als Admin des Buchungssystems möchte ich alle Buchungen aller\n",
    "Hotels sehen können, um eine Übersicht zu erhalten."
   ],
   "id": "78eecda051ff0e83"
  },
  {
   "metadata": {
    "ExecuteTime": {
     "end_time": "2025-06-04T09:47:07.342402Z",
     "start_time": "2025-06-04T09:47:07.331067Z"
    }
   },
   "cell_type": "code",
   "source": [
    "from datetime import date\n",
    "from business_logic.booking_manager import BookingManager\n",
    "from model.guest import Guest\n",
    "from model.hotel import Hotel\n",
    "\n",
    "booking_manager = BookingManager()\n",
    "bookings = booking_manager.get_all_bookings()\n",
    "\n",
    "for b in bookings:\n",
    "    print(\n",
    "        f\"Booking-ID: {b.bookingid} \"\n",
    "        f\"Gast: {b.guest.first_name} {b.guest.last_name} \"\n",
    "        f\"Hotel: {b.room.hotel.name} \"\n",
    "        f\"Zimmernummer: {b.room.room_number} \"\n",
    "        f\"Check-In: {b.check_in_date} \"\n",
    "        f\"Check-Out: {b.check_out_date} \"\n",
    "    )"
   ],
   "id": "83bea44daac891ce",
   "outputs": [
    {
     "name": "stdout",
     "output_type": "stream",
     "text": [
      "Booking-ID: 1 Gast: Hans Müller Hotel: Hotel Baur au Lac Zimmernummer: 101 Check-In: 2025-06-01 Check-Out: 2025-06-05 \n",
      "Booking-ID: 2 Gast: Sophie Meier Hotel: Hotel Baur au Lac Zimmernummer: 102 Check-In: 2025-07-10 Check-Out: 2025-07-15 \n",
      "Booking-ID: 3 Gast: Luca Rossi Hotel: Four Seasons Hôtel des Bergues Zimmernummer: 201 Check-In: 2025-08-20 Check-Out: 2025-08-22 \n",
      "Booking-ID: 4 Gast: Elena Keller Hotel: Grand Hotel National Zimmernummer: 301 Check-In: 2025-09-05 Check-Out: 2025-09-10 \n",
      "Booking-ID: 5 Gast: Marc Weber Hotel: Bellevue Palace Zimmernummer: 401 Check-In: 2025-10-01 Check-Out: 2025-10-07 \n"
     ]
    }
   ],
   "execution_count": 3
  },
  {
   "metadata": {},
   "cell_type": "markdown",
   "source": [
    "# Userstory 9\n",
    "Als Admin möchte ich eine Liste der Zimmer mit ihrer\n",
    "Ausstattung sehen, damit ich sie besser bewerben kann.\n"
   ],
   "id": "a3f180aadf5eb876"
  },
  {
   "metadata": {},
   "cell_type": "code",
   "outputs": [],
   "execution_count": null,
   "source": [
    "from business_logic.room_manager import RoomManager\n",
    "\n",
    "room_manager = RoomManager()\n",
    "rooms = room_manager.get_all_rooms_with_equipment()\n",
    "\n",
    "if rooms:\n",
    "    print(\"Zimmer mit Ausstattung:\")\n",
    "    for room in rooms:\n",
    "        equipment = \", \".join([e.name for e in room.equipment]) if room.equipment else \"Keine Ausstattung\"\n",
    "        print(f\"Zimmernummer: {room.number}, Hotel: {room.hotel.name}, Typ: {room.room_type.name}, Ausstattung: {equipment}\")\n",
    "else:\n",
    "    print(\"Keine Zimmer gefunden.\")"
   ],
   "id": "8df48450329b9d87"
  }
 ],
 "metadata": {
  "kernelspec": {
   "name": "python3",
   "language": "python",
   "display_name": "Python 3 (ipykernel)"
  }
 },
 "nbformat": 5,
 "nbformat_minor": 9
}
