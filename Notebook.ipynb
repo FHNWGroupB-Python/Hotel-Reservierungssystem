{
 "cells": [
  {
   "metadata": {
    "ExecuteTime": {
     "end_time": "2025-05-21T09:57:18.500447Z",
     "start_time": "2025-05-21T09:57:18.493874Z"
    }
   },
   "cell_type": "code",
   "source": [
    "import os\n",
    "\n",
    "os.environ[\"DB\"] = \"/path/to/your/database.db\""
   ],
   "id": "2ff10f3046bd3b0a",
   "outputs": [
    {
     "name": "stdout",
     "output_type": "stream",
     "text": [
      "hello\n"
     ]
    }
   ],
   "execution_count": 1
  },
  {
   "metadata": {},
   "cell_type": "code",
   "outputs": [],
   "execution_count": null,
   "source": [
    "from data_access.hotel_dal import HotelDAL\n",
    "\n",
    "\n",
    "\n",
    "hdal = HotelDAL()\n",
    "hdal."
   ],
   "id": "ab046b501fe87a54"
  }
 ],
 "metadata": {
  "kernelspec": {
   "name": "python3",
   "language": "python",
   "display_name": "Python 3 (ipykernel)"
  }
 },
 "nbformat": 5,
 "nbformat_minor": 9
}
