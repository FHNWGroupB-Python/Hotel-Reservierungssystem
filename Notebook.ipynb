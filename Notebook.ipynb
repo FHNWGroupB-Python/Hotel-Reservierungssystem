{
 "cells": [
  {
   "metadata": {
    "ExecuteTime": {
     "end_time": "2025-06-02T11:28:21.964049Z",
     "start_time": "2025-06-02T11:28:21.957811Z"
    }
   },
   "cell_type": "code",
   "source": [
    "import os\n",
    "import shutil\n",
    "\n",
    "original_db = \"database/hotel_reservation_sample.db\"\n",
    "working_db = \"database/hotel_reservation.db\"\n",
    "shutil.copy(original_db, working_db)\n",
    "\n",
    "os.environ[\"DB\"] = working_db"
   ],
   "id": "2ff10f3046bd3b0a",
   "outputs": [],
   "execution_count": 1
  },
  {
   "metadata": {},
   "cell_type": "markdown",
   "source": [
    "# Userstory 1\n",
    "Als Gast möchte ich die verfügbaren Hotels durchsuchen, damit\n",
    "ich dasjenige auswählen kann, welches meinen Wünschen\n",
    "entspricht. Wünsche sind:\n",
    "\n",
    "# Userstory 1.1\n",
    "Ich möchte alle Hotels in einer Stadt durchsuchen,\n",
    "damit ich das Hotel nach meinem bevorzugten Standort\n",
    "(Stadt) auswählen kann.\n"
   ],
   "id": "2d0959596686ba81"
  },
  {
   "metadata": {
    "ExecuteTime": {
     "end_time": "2025-05-29T07:29:33.979370Z",
     "start_time": "2025-05-29T07:29:30.113935Z"
    }
   },
   "cell_type": "code",
   "source": [
    "import model\n",
    "from business_logic.hotel_manager import HotelManager\n",
    "from business_logic.address_manager import AddressManager\n",
    "\n",
    "hotel_manager = HotelManager()\n",
    "\n",
    "valid = False\n",
    "while not valid:\n",
    "    city = input(\"In welcher Stadt suchen Sie Ihr gewünschtes Hotel? \")\n",
    "    hotels = hotel_manager.search_hotels_by_city(city)\n",
    "    if hotels:\n",
    "        print(\"Gefundene Hotels:\")\n",
    "        for hotel in hotels:\n",
    "            print(f\"{hotel.name} mit {hotel.stars} Sternen an der {hotel.address.street}, {hotel.address.city}, {hotel.address.zip_code}\")\n",
    "        valid = True\n",
    "    else:\n",
    "        print(\"Keine Hotels gefunden\")\n"
   ],
   "id": "e2f32f03235a0a5",
   "outputs": [
    {
     "name": "stdout",
     "output_type": "stream",
     "text": [
      "Gefundene Hotels:\n",
      "Hotel Baur au Lac mit 5 Sternen an der Bahnhofstrasse 1, Zürich, 8001\n"
     ]
    }
   ],
   "execution_count": 3
  },
  {
   "metadata": {},
   "cell_type": "markdown",
   "source": [
    "# Userstory 1.2\n",
    "Ich möchte alle Hotels in einer Stadt nach der\n",
    "Anzahl der Sterne (z.B. mindestens 4 Sterne) durchsuchen.\n"
   ],
   "id": "d9b7a7494ea04543"
  },
  {
   "metadata": {},
   "cell_type": "code",
   "outputs": [],
   "execution_count": null,
   "source": [
    "import model\n",
    "from business_logic.hotel_manager import HotelManager\n",
    "\n",
    "hotel_manager = HotelManager()\n",
    "\n",
    "valid = False\n",
    "while not valid:\n",
    "    city = input(\"In welcher Stadt suchen Sie Ihr gewünschtes Hotel? \")\n",
    "    stars = int(input(\"Geben Sie die min. Anzahl Sterne an\" ))\n",
    "    hotels = hotel_manager.search_hotels_by_city_and_stars(city, stars)\n",
    "    if hotels:\n",
    "        print(\"Gefundene Hotels:\")\n",
    "        for hotel in hotels:\n",
    "            print(f\"{hotel.name} mit {hotel.stars} Sternen an der {hotel.address.street}, {hotel.address.city}, {hotel.address.zip_code}\")\n",
    "        valid = True\n",
    "    else:\n",
    "        print(\"Keine Hotels gefunden\")\n"
   ],
   "id": "9312305159312dd6"
  },
  {
   "metadata": {},
   "cell_type": "markdown",
   "source": [
    "# Userstory 1.3\n",
    "Ich möchte alle Hotels in einer Stadt durchsuchen,\n",
    "die Zimmer haben, die meiner Gästezahl entsprechen (nur 1\n",
    "Zimmer pro Buchung).\n"
   ],
   "id": "f2a2b75202e03f4"
  },
  {
   "metadata": {
    "ExecuteTime": {
     "end_time": "2025-06-01T12:47:46.354248Z",
     "start_time": "2025-06-01T12:47:40.598614Z"
    }
   },
   "cell_type": "code",
   "source": [
    "from business_logic.hotel_manager import HotelManager\n",
    "\n",
    "hotel_manager = HotelManager()\n",
    "\n",
    "valid = False\n",
    "while not valid:\n",
    "    city = input(\"In welcher Stadt suchen Sie Ihr gewünschtes Hotel? \")\n",
    "    try:\n",
    "        guest_count = int(input(\"Geben Sie die min. Anzahl der Gäste an: \"))\n",
    "    except ValueError:\n",
    "        print(\"Ungültige Eingabe, geben Sie eine Zahl an\")\n",
    "\n",
    "    hotels = hotel_manager.search_hotels_by_city_and_room_capacity(city, guest_count)\n",
    "\n",
    "    if hotels:\n",
    "        print(\"Gefundene Hotels:\")\n",
    "        for hotel in hotels:\n",
    "            print(f\"\\n{hotel.name}, Sterne: {hotel.stars}\"\n",
    "                  f\"\\nAddresse: {hotel.address.street}, {hotel.address.city}, {hotel.address.zip_code}\"\n",
    "                  f\"\\nZimmer: {hotel.room_number}, {hotel.description}, Kapazität: {hotel.max_guests}\"\n",
    "                  f\"\\nPreis pro Nacht: {hotel.price_per_night}\")\n",
    "\n",
    "        valid = True\n",
    "    else:\n",
    "        print(\"Keine Hotels gefunden\")\n"
   ],
   "id": "21b9e33967e68252",
   "outputs": [
    {
     "name": "stdout",
     "output_type": "stream",
     "text": [
      "Gefundene Hotels:\n",
      "\n",
      "Hotel Baur au Lac, Sterne: 5\n",
      "Addresse: Bahnhofstrasse 1, Zürich, 8001\n",
      "Zimmer: 101, Single, Kapazität: 1\n",
      "Preis pro Nacht: 250.0\n",
      "\n",
      "Hotel Baur au Lac, Sterne: 5\n",
      "Addresse: Bahnhofstrasse 1, Zürich, 8001\n",
      "Zimmer: 102, Double, Kapazität: 2\n",
      "Preis pro Nacht: 400.0\n"
     ]
    }
   ],
   "execution_count": 8
  },
  {
   "metadata": {},
   "cell_type": "markdown",
   "source": [
    "# Userstory 1.4\n",
    "Ich möchte alle Hotels in einer Stadt durchsuchen,\n",
    "die während meines Aufenthaltes (\"von\" (check_in_date)\n",
    "und \"bis\" (check_out_date)) Zimmer zur Verfügung haben,\n",
    "damit ich nur relevante Ergebnisse sehe.\n"
   ],
   "id": "37efc15412dda88c"
  },
  {
   "metadata": {
    "ExecuteTime": {
     "end_time": "2025-06-01T14:01:49.044572Z",
     "start_time": "2025-06-01T14:01:35.068159Z"
    }
   },
   "cell_type": "code",
   "source": [
    "from datetime import datetime\n",
    "from business_logic.hotel_manager import HotelManager\n",
    "\n",
    "hotel_manager = HotelManager()\n",
    "valid = False\n",
    "while not valid:\n",
    "    city = input(\"In welcher Stadt suchen Sie Ihr gewünschtes Hotel? \")\n",
    "    check_in_date = input(\"Geben Sie ihr gewünschtes Anreisedatum an (YYYY-MM-DD): \")\n",
    "    check_out_date = input(\"Geben Sie ihr gewünschtes Abreisedatum an (YYYY-MM-DD): \")\n",
    "\n",
    "    try:\n",
    "        check_in_date = datetime.strptime(check_in_date, \"%Y-%m-%d\").date()\n",
    "        check_out_date = datetime.strptime(check_out_date, \"%Y-%m-%d\").date()\n",
    "    except ValueError:\n",
    "        print(\"Ungültiges Datumsformat. Bitte unbedingt YYYY-MM-DD verwenden.\\n\")\n",
    "        continue\n",
    "\n",
    "    if check_in_date >= check_out_date:\n",
    "        print(\"Fehler: Checkout muss nach dem Checkin liegen. Bitte erneut eingeben\")\n",
    "        continue\n",
    "\n",
    "    hotels = hotel_manager.search_hotels_by_city_and_availability(city, check_in_date, check_out_date)\n",
    "\n",
    "    if hotels:\n",
    "        print(\"Gefundene Hotels:\")\n",
    "        for hotel in hotels:\n",
    "            print(f\"\\n{hotel.name}, Sterne: {hotel.stars}\"\n",
    "                  f\"\\nAddresse: {hotel.address.street}, {hotel.address.city}, {hotel.address.zip_code}\"\n",
    "                  f\"\\nZimmer: {hotel.room_number}, {hotel.description}, Kapazität: {hotel.max_guests}\"\n",
    "                  f\"\\nPreis pro Nacht: {hotel.price_per_night}\"\n",
    "                  f\"\\nAnreisedatum von bis: {check_in_date} - {check_out_date}\"\n",
    "            )\n",
    "        valid = True\n",
    "    else:\n",
    "        print(\"Leider keine Verfügbarkeit in diesem Zeitraum. Versuchen Sie bitte einen anderen Zeitraum.\")\n",
    "\n"
   ],
   "id": "6e40937f61e2d2df",
   "outputs": [
    {
     "name": "stdout",
     "output_type": "stream",
     "text": [
      "Gefundene Hotels:\n",
      "\n",
      "Hotel Baur au Lac, Sterne: 5\n",
      "Addresse: Bahnhofstrasse 1, Zürich, 8001\n",
      "Zimmer: 101, Single, Kapazität: 1\n",
      "Preis pro Nacht: 250.0\n",
      "Anreisedatum von bis: 2025-06-01 - 2025-06-05\n",
      "\n",
      "Hotel Baur au Lac, Sterne: 5\n",
      "Addresse: Bahnhofstrasse 1, Zürich, 8001\n",
      "Zimmer: 102, Double, Kapazität: 2\n",
      "Preis pro Nacht: 400.0\n",
      "Anreisedatum von bis: 2025-06-01 - 2025-06-05\n"
     ]
    }
   ],
   "execution_count": 5
  },
  {
   "metadata": {},
   "cell_type": "markdown",
   "source": [
    "# Userstory 1.5\n",
    "Ich möchte Wünsche kombinieren können, z.B. die\n",
    "verfügbaren Zimmer zusammen mit meiner Gästezahl und der\n",
    "mindest Anzahl Sterne"
   ],
   "id": "b8850df7264932e"
  },
  {
   "metadata": {
    "ExecuteTime": {
     "end_time": "2025-06-02T07:37:19.128875Z",
     "start_time": "2025-06-02T07:36:51.776654Z"
    }
   },
   "cell_type": "code",
   "source": [
    "from datetime import datetime\n",
    "from business_logic.hotel_manager import HotelManager\n",
    "\n",
    "hotel_manager = HotelManager()\n",
    "valid = False\n",
    "while not valid:\n",
    "    city = input(\"In welcher Stadt suchen Sie Ihr gewünschtes Hotel? \")\n",
    "    try:\n",
    "        check_in_str = input(\"Geben Sie ihr gewünschtes Anreisedatum an (YYYY-MM-DD): \")\n",
    "        check_out_str = input(\"Geben Sie ihr gewünschtes Abreisedatum an (YYYY-MM-DD): \")\n",
    "        check_in_date = datetime.strptime(check_in_str, \"%Y-%m-%d\").date()\n",
    "        check_out_date = datetime.strptime(check_out_str, \"%Y-%m-%d\").date()\n",
    "    except ValueError:\n",
    "        print(\"Ungültiges Datumsformat. Bitte unbedingt YYYY-MM-DD verwenden.\\n\")\n",
    "        continue\n",
    "\n",
    "    if check_in_date >= check_out_date:\n",
    "        print(\"Fehler: Checkout muss nach dem Checkin liegen. Bitte erneut eingeben\")\n",
    "        continue\n",
    "\n",
    "    try:\n",
    "        stars = int(input(\"Geben Sie die min. Anzahl Sterne an\" ))\n",
    "    except ValueError:\n",
    "        print(\"Ungültige Eingabe, geben Sie eine Zahl an\")\n",
    "        continue\n",
    "\n",
    "    try:\n",
    "        guest_count = int(input(\"Geben Sie die min. Anzahl der Gäste an: \"))\n",
    "    except ValueError:\n",
    "        print(\"Ungültige Eingabe, geben Sie eine Zahl an\")\n",
    "        continue\n",
    "\n",
    "\n",
    "    hotels = hotel_manager.search_hotels_by_city_availability_stars_capacity(\n",
    "        city,\n",
    "        check_in_date,\n",
    "        check_out_date,\n",
    "        stars,\n",
    "        guest_count\n",
    "    )\n",
    "\n",
    "    if hotels:\n",
    "        print(\"Gefundene Hotels:\")\n",
    "        for hotel in hotels:\n",
    "            print(f\"\\n{hotel.name}, Sterne: {hotel.stars}\"\n",
    "                  f\"\\nAddresse: {hotel.address.street}, {hotel.address.city}, {hotel.address.zip_code}\"\n",
    "                  f\"\\nZimmer: {hotel.room_number}, {hotel.description}, Kapazität: {hotel.max_guests}\"\n",
    "                  f\"\\nPreis pro Nacht: {hotel.price_per_night}\"\n",
    "                  f\"\\nAnreisedatum von bis: {check_in_date} - {check_out_date}\"\n",
    "            )\n",
    "        valid = True\n",
    "    else:\n",
    "        print(\"Leider keine Verfügbarkeit in diesem Zeitraum. Versuchen Sie bitte einen anderen Zeitraum.\")\n",
    "\n"
   ],
   "id": "f0180b57047e33b1",
   "outputs": [
    {
     "name": "stdout",
     "output_type": "stream",
     "text": [
      "Gefundene Hotels:\n",
      "\n",
      "Hotel Baur au Lac, Sterne: 5\n",
      "Addresse: Bahnhofstrasse 1, Zürich, 8001\n",
      "Zimmer: 101, Single, Kapazität: 1\n",
      "Preis pro Nacht: 250.0\n",
      "Anreisedatum von bis: 2025-06-01 - 2025-06-05\n",
      "\n",
      "Hotel Baur au Lac, Sterne: 5\n",
      "Addresse: Bahnhofstrasse 1, Zürich, 8001\n",
      "Zimmer: 102, Double, Kapazität: 2\n",
      "Preis pro Nacht: 400.0\n",
      "Anreisedatum von bis: 2025-06-01 - 2025-06-05\n"
     ]
    }
   ],
   "execution_count": 8
  },
  {
   "metadata": {},
   "cell_type": "markdown",
   "source": [
    "# Userstory 1.6\n",
    "Ich möchte die folgenden Informationen pro Hotel\n",
    "sehen: Name, Adresse, Anzahl der Sterne."
   ],
   "id": "1382a067a1f16c24"
  },
  {
   "metadata": {
    "ExecuteTime": {
     "end_time": "2025-06-02T06:18:52.640111Z",
     "start_time": "2025-06-02T06:18:52.631059Z"
    }
   },
   "cell_type": "code",
   "source": [
    "from business_logic.hotel_manager import HotelManager\n",
    "\n",
    "hotel_manager = HotelManager()\n",
    "\n",
    "hotels = hotel_manager.get_all_hotel_info()\n",
    "if not hotels:\n",
    "    print(\"Keine Hotels gefunden.\")\n",
    "else:\n",
    "    for hotel in hotels:\n",
    "        print(f\"\\nHotel: {hotel.name}, Sterne: {hotel.stars}\\n\"\n",
    "              f\"Adresse: {hotel.address.street}, {hotel.address.city}, {hotel.address.zip_code}\"\n",
    "            )\n"
   ],
   "id": "717d00421ffb0ccc",
   "outputs": [
    {
     "name": "stdout",
     "output_type": "stream",
     "text": [
      "\n",
      "Hotel: Hotel Baur au Lac, Sterne: 5\n",
      "Adresse: Bahnhofstrasse 1, Zürich, 8001\n",
      "\n",
      "Hotel: Four Seasons Hôtel des Bergues, Sterne: 5\n",
      "Adresse: Rue du Rhône 42, Genève, 1204\n",
      "\n",
      "Hotel: Grand Hotel National, Sterne: 5\n",
      "Adresse: Pilatusstrasse 15, Luzern, 6003\n",
      "\n",
      "Hotel: Bellevue Palace, Sterne: 5\n",
      "Adresse: Marktgasse 59, Bern, 3011\n",
      "\n",
      "Hotel: Les Trois Rois, Sterne: 5\n",
      "Adresse: Freiestrasse 10, Basel, 4051\n"
     ]
    }
   ],
   "execution_count": 12
  },
  {
   "metadata": {},
   "cell_type": "markdown",
   "source": [
    "# Userstory 2\n",
    "Als Gast möchte ich Details zu verschiedenen Zimmertypen\n",
    "(Single, Double, Suite usw.), die in einem Hotel verfügbar\n",
    "sind, sehen, einschliesslich der maximalen Anzahl von Gästen\n",
    "für dieses Zimmer, Beschreibung, Preis und Ausstattung, um eine\n",
    "fundierte Entscheidung zu treffen.\n",
    "# Userstory 2.1\n",
    "Ich möchte die folgenden Informationen pro Zimmer\n",
    "sehen: Zimmertyp, max. Anzahl der Gäste, Beschreibung,\n",
    "Ausstattung, Preis pro Nacht und Gesamtpreis."
   ],
   "id": "eac3b53e63a78963"
  },
  {
   "metadata": {
    "ExecuteTime": {
     "end_time": "2025-06-02T07:36:20.309527Z",
     "start_time": "2025-06-02T07:36:13.073011Z"
    }
   },
   "cell_type": "code",
   "source": [
    "\n",
    "from business_logic.room_manager import RoomManager\n",
    "\n",
    "room_manager = RoomManager()\n",
    "\n",
    "hotel_name_input = input(\"Geben Sie den exakten Hotelnamen ein: \").strip()\n",
    "try:\n",
    "    rooms = room_manager.get_room_info_by_hotel(hotel_name_input)\n",
    "except Exception as e:\n",
    "    print(f\"Fehler bei der Abfrage: {e}\")\n",
    "\n",
    "if not rooms:\n",
    "    print(f\"Für Hotel „{hotel_name_input}“ wurden keine Zimmer gefunden.\")\n",
    "else:\n",
    "    print(f\"\\nZimmer für „{hotel_name_input}“:\\n\")\n",
    "    for r in rooms:\n",
    "        print(\n",
    "            f\"  Zimmer-ID      : {r.room_id}\\n\"\n",
    "            f\"  Zimmernummer   : {r.room_number}\\n\"\n",
    "            f\"  Zimmertyp      : {r.room_type.description}\\n\"\n",
    "            f\"  Max. Gäste     : {r.room_type.max_guests}\\n\"\n",
    "            f\"  Preis/Nacht    : {r.price_per_night}\\n\")"
   ],
   "id": "786fa4eb95f724ea",
   "outputs": [
    {
     "name": "stdout",
     "output_type": "stream",
     "text": [
      "\n",
      "Zimmer für „Hotel Baur au Lac“:\n",
      "\n",
      "  Zimmer-ID      : 1\n",
      "  Zimmernummer   : 101\n",
      "  Zimmertyp      : Single\n",
      "  Max. Gäste     : 1\n",
      "  Preis/Nacht    : 250.0\n",
      "\n",
      "  Zimmer-ID      : 2\n",
      "  Zimmernummer   : 102\n",
      "  Zimmertyp      : Double\n",
      "  Max. Gäste     : 2\n",
      "  Preis/Nacht    : 400.0\n",
      "\n"
     ]
    }
   ],
   "execution_count": 7
  },
  {
   "metadata": {},
   "cell_type": "markdown",
   "source": [
    "# Userstory 2.2\n",
    "Ich möchte nur die verfügbaren Zimmer sehen, sofern\n",
    "ich meinen Aufenthalt (von – bis) spezifiziert habe.\n"
   ],
   "id": "589f9bbbce04fa73"
  },
  {
   "metadata": {
    "ExecuteTime": {
     "end_time": "2025-06-02T11:28:37.761118Z",
     "start_time": "2025-06-02T11:28:26.097670Z"
    }
   },
   "cell_type": "code",
   "source": [
    "from datetime import datetime\n",
    "from business_logic.room_manager import RoomManager  # oder: HotelManager\n",
    "\n",
    "room_manager = RoomManager()\n",
    "\n",
    "\n",
    "valid = False\n",
    "while not valid:\n",
    "    try:\n",
    "        check_in_str = input(\"Geben Sie ihr gewünschtes Anreisedatum an (YYYY-MM-DD): \")\n",
    "        check_out_str = input(\"Geben Sie ihr gewünschtes Abreisedatum an (YYYY-MM-DD): \")\n",
    "        check_in_date = datetime.strptime(check_in_str, \"%Y-%m-%d\").date()\n",
    "        check_out_date = datetime.strptime(check_out_str, \"%Y-%m-%d\").date()\n",
    "    except ValueError:\n",
    "        print(\"Ungültiges Datumsformat. Bitte unbedingt YYYY-MM-DD verwenden.\\n\")\n",
    "        continue\n",
    "\n",
    "    if check_out_date <= check_in_date:\n",
    "        print(\"Fehler: Check-out muss nach Check-in liegen. Bitte erneut eingeben.\\n\")\n",
    "        continue\n",
    "\n",
    "    rooms = room_manager.get_available_rooms_by_date(check_in_date, check_out_date)\n",
    "    valid = True\n",
    "\n",
    "if not rooms:\n",
    "    print(f\"Im Zeitraum {check_in_date}–{check_out_date} wurden keine freien Zimmer gefunden.\")\n",
    "else:\n",
    "    print(f\"\\nVerfügbare Zimmer für ({check_in_date} bis {check_out_date}):\\n\")\n",
    "    for r in rooms:\n",
    "        print(\n",
    "            f\"- Zimmer-ID       : {r.room_id}\\n\"\n",
    "            f\"  Zimmernummer    : {r.room_number}\\n\"\n",
    "            f\"  Zimmertyp       : {r.room_type.description}\\n\"\n",
    "            f\"  Max. Gäste      : {r.room_type.max_guests}\\n\"\n",
    "            f\"  Preis pro Nacht : {r.price_per_night}\\n\"\n",
    "        )"
   ],
   "id": "d01eddd284ae8d51",
   "outputs": [
    {
     "name": "stdout",
     "output_type": "stream",
     "text": [
      "\n",
      "Verfügbare Zimmer für (2025-01-01 bis 2025-01-05):\n",
      "\n",
      "- Zimmer-ID       : 1\n",
      "  Zimmernummer    : 101\n",
      "  Zimmertyp       : Single\n",
      "  Max. Gäste      : 1\n",
      "  Preis pro Nacht : 250.0\n",
      "\n",
      "- Zimmer-ID       : 2\n",
      "  Zimmernummer    : 102\n",
      "  Zimmertyp       : Double\n",
      "  Max. Gäste      : 2\n",
      "  Preis pro Nacht : 400.0\n",
      "\n",
      "- Zimmer-ID       : 3\n",
      "  Zimmernummer    : 201\n",
      "  Zimmertyp       : Suite\n",
      "  Max. Gäste      : 4\n",
      "  Preis pro Nacht : 650.0\n",
      "\n",
      "- Zimmer-ID       : 4\n",
      "  Zimmernummer    : 301\n",
      "  Zimmertyp       : Family Room\n",
      "  Max. Gäste      : 5\n",
      "  Preis pro Nacht : 900.0\n",
      "\n",
      "- Zimmer-ID       : 5\n",
      "  Zimmernummer    : 401\n",
      "  Zimmertyp       : Penthouse\n",
      "  Max. Gäste      : 6\n",
      "  Preis pro Nacht : 1500.0\n",
      "\n"
     ]
    }
   ],
   "execution_count": 2
  },
  {
   "metadata": {},
   "cell_type": "markdown",
   "source": [
    "# Userstory 3.1\n",
    "Ich möchte neue Hotels zum System hinzufügen\n",
    "\n",
    "## Input Daten vom Admin\n",
    "\n",
    "* Daten wie Strasse, Hotelname, Anzahl Sterne und Ort(Addresse)\n",
    "\n",
    "\n"
   ],
   "id": "6cdc2e9f3ac4c5d7"
  },
  {
   "metadata": {
    "ExecuteTime": {
     "end_time": "2025-06-01T12:48:01.382819Z",
     "start_time": "2025-06-01T12:48:01.376171Z"
    }
   },
   "cell_type": "code",
   "source": [
    "# Userstory 3.1\n",
    "from datetime import date\n",
    "from business_logic.hotel_manager import HotelManager\n",
    "from business_logic.address_manager import AddressManager\n",
    "from model.hotel import Hotel\n",
    "from model.address import Address\n",
    "\n",
    "address_manager = AddressManager()\n",
    "createded_address = address_manager.create_address(\"Teststrasse\", \"Zürich\", 8001)\n",
    "print(f\"Neue Addresse: {createded_address.street}, {createded_address.city}, {createded_address.zip_code}\")\n",
    "\n",
    "\n",
    "hotel_manager = HotelManager()\n",
    "h = Hotel(6, \"Olympia\", 3)\n",
    "hotel = hotel_manager.create_hotel(\"Olympia\", 3, createded_address)\n",
    "print(f\"Neues Hotel: {h.name}, Sterne: {h.stars}\")"
   ],
   "id": "e36816ee3cee5ad1",
   "outputs": [
    {
     "name": "stdout",
     "output_type": "stream",
     "text": [
      "Neue Addresse: Teststrasse, Zürich, 8001\n",
      "Neues Hotel: Olympia, Sterne: 3\n"
     ]
    }
   ],
   "execution_count": 10
  },
  {
   "metadata": {},
   "cell_type": "markdown",
   "source": [
    "# Userstory 4\n",
    "Als Gast möchte ich ein Zimmer in einem bestimmten Hotel\n",
    "buchen, um meinen Urlaub zu planen.\n"
   ],
   "id": "40799e6bc3c23075"
  },
  {
   "metadata": {
    "ExecuteTime": {
     "end_time": "2025-05-28T18:15:36.915120Z",
     "start_time": "2025-05-28T18:15:36.904198Z"
    }
   },
   "cell_type": "code",
   "source": [
    "from business_logic.booking_manager import BookingManager\n",
    "from model.guest import Guest\n",
    "from model.room import Room\n",
    "from model.room_type import RoomType\n",
    "from datetime import date\n",
    "\n",
    "\n",
    "guest = Guest(1, \"John\", \"Doe\", \"mail\")\n",
    "room = Room(1, 202, 80.90)\n",
    "room_type = RoomType(1, \"Standard\", 1)\n",
    "room.room_type = room_type\n",
    "\n",
    "booking_manager = BookingManager()\n",
    "b = booking_manager.create_booking(guest, room,1, date(2025, 1, 1), date(2025, 1, 3))\n",
    "print(f\" Checkin Date: {b.check_in_date}, Amount: {b.total_amount}\")"
   ],
   "id": "b1fa4cc22792b227",
   "outputs": [
    {
     "name": "stdout",
     "output_type": "stream",
     "text": [
      " Checkin Date: 2025-01-01, Amount: 161.8\n"
     ]
    }
   ],
   "execution_count": 21
  }
 ],
 "metadata": {
  "kernelspec": {
   "name": "python3",
   "language": "python",
   "display_name": "Python 3 (ipykernel)"
  }
 },
 "nbformat": 5,
 "nbformat_minor": 9
}
