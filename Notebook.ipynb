{
 "cells": [
  {
   "metadata": {
    "ExecuteTime": {
     "end_time": "2025-06-13T19:08:31.974512Z",
     "start_time": "2025-06-13T19:08:31.200072Z"
    }
   },
   "cell_type": "code",
   "source": [
    "import os\n",
    "import shutil\n",
    "\n",
    "from business_logic import GuestManager\n",
    "\n",
    "original_db = \"database/hotel_reservation_sample.db\"\n",
    "working_db = \"database/hotel_reservation.db\"\n",
    "shutil.copy(original_db, working_db)\n",
    "\n",
    "os.environ[\"DB\"] = working_db"
   ],
   "id": "558eb779ba5743a5",
   "outputs": [],
   "execution_count": 1
  },
  {
   "metadata": {},
   "cell_type": "markdown",
   "source": [
    "# Userstory 1\n",
    "Als Gast möchte ich die verfügbaren Hotels durchsuchen, damit\n",
    "ich dasjenige auswählen kann, welches meinen Wünschen\n",
    "entspricht. Wünsche sind:\n",
    "\n",
    "# Userstory 1.1\n",
    "Ich möchte alle Hotels in einer Stadt durchsuchen,\n",
    "damit ich das Hotel nach meinem bevorzugten Standort\n",
    "(Stadt) auswählen kann.\n"
   ],
   "id": "53857a2253220875"
  },
  {
   "metadata": {
    "ExecuteTime": {
     "end_time": "2025-06-13T18:21:23.654234Z",
     "start_time": "2025-06-13T18:21:20.483927Z"
    }
   },
   "cell_type": "code",
   "source": [
    "# JUK\n",
    "import model\n",
    "from business_logic.hotel_manager import HotelManager\n",
    "from business_logic.address_manager import AddressManager\n",
    "\n",
    "hotel_manager = HotelManager()\n",
    "\n",
    "valid = False\n",
    "while not valid:\n",
    "    city = input(\"In welcher Stadt suchen Sie Ihr gewünschtes Hotel? \")\n",
    "    hotels = hotel_manager.search_hotels_by_city(city)\n",
    "    if hotels:\n",
    "        print(\"Gefundene Hotels:\")\n",
    "        for hotel in hotels:\n",
    "            print(f\"{hotel.name} mit {hotel.stars} Sternen an der {hotel.address.street}, {hotel.address.city}, {hotel.address.zip_code}\")\n",
    "        valid = True\n",
    "    else:\n",
    "        print(\"Keine Hotels gefunden\")\n"
   ],
   "id": "ae84011b54f314d7",
   "outputs": [
    {
     "name": "stdout",
     "output_type": "stream",
     "text": [
      "Gefundene Hotels:\n",
      "Les Trois Rois mit 5 Sternen an der Freiestrasse 10, Basel, 4051\n"
     ]
    }
   ],
   "execution_count": 19
  },
  {
   "metadata": {},
   "cell_type": "markdown",
   "source": [
    "# Userstory 1.2\n",
    "Ich möchte alle Hotels in einer Stadt nach der\n",
    "Anzahl der Sterne (z.B. mindestens 4 Sterne) durchsuchen.\n"
   ],
   "id": "2b566f4bc13f4a8f"
  },
  {
   "metadata": {
    "ExecuteTime": {
     "end_time": "2025-06-13T18:03:34.646765Z",
     "start_time": "2025-06-13T18:03:28.528954Z"
    }
   },
   "cell_type": "code",
   "source": [
    "# JUK\n",
    "import model\n",
    "from business_logic.hotel_manager import HotelManager\n",
    "\n",
    "hotel_manager = HotelManager()\n",
    "\n",
    "valid = False\n",
    "while not valid:\n",
    "    city = input(\"In welcher Stadt suchen Sie Ihr gewünschtes Hotel? \")\n",
    "    stars = int(input(\"Geben Sie die min. Anzahl Sterne an\" ))\n",
    "    hotels = hotel_manager.search_hotels_by_city_and_stars(city, stars)\n",
    "    if hotels:\n",
    "        print(\"Gefundene Hotels:\")\n",
    "        for hotel in hotels:\n",
    "            print(f\"{hotel.name} mit {hotel.stars} Sternen an der {hotel.address.street}, {hotel.address.city}, {hotel.address.zip_code}\")\n",
    "        valid = True\n",
    "    else:\n",
    "        print(\"Keine Hotels gefunden\")\n"
   ],
   "id": "58144eb5df9cad0f",
   "outputs": [
    {
     "name": "stdout",
     "output_type": "stream",
     "text": [
      "Gefundene Hotels:\n",
      "Les Trois Rois mit 5 Sternen an der Freiestrasse 10, Basel, 4051\n"
     ]
    }
   ],
   "execution_count": 4
  },
  {
   "metadata": {},
   "cell_type": "markdown",
   "source": [
    "# Userstory 1.3\n",
    "Ich möchte alle Hotels in einer Stadt durchsuchen,\n",
    "die Zimmer haben, die meiner Gästezahl entsprechen (nur 1\n",
    "Zimmer pro Buchung).\n"
   ],
   "id": "69fe4b41a40402a0"
  },
  {
   "metadata": {
    "ExecuteTime": {
     "end_time": "2025-06-13T18:04:39.952200Z",
     "start_time": "2025-06-13T18:04:16.297583Z"
    }
   },
   "cell_type": "code",
   "source": [
    "# JUK\n",
    "from business_logic.hotel_manager import HotelManager\n",
    "\n",
    "hotel_manager = HotelManager()\n",
    "\n",
    "valid = False\n",
    "while not valid:\n",
    "    city = input(\"In welcher Stadt suchen Sie Ihr gewünschtes Hotel? \")\n",
    "    try:\n",
    "        guest_count = int(input(\"Geben Sie die min. Anzahl der Gäste an: \"))\n",
    "    except ValueError:\n",
    "        print(\"Ungültige Eingabe, geben Sie eine Zahl an\")\n",
    "\n",
    "    hotels = hotel_manager.search_hotels_by_city_and_room_capacity(city, guest_count)\n",
    "\n",
    "    if hotels:\n",
    "        print(\"Gefundene Hotels:\")\n",
    "        for hotel in hotels:\n",
    "            print(f\"\\n{hotel.name}, Sterne: {hotel.stars}\"\n",
    "                  f\"\\nAddresse: {hotel.address.street}, {hotel.address.city}, {hotel.address.zip_code}\"\n",
    "                  f\"\\nZimmer: {hotel.room_number}, {hotel.description}, Kapazität: {hotel.max_guests}\"\n",
    "                  f\"\\nPreis pro Nacht: {hotel.price_per_night}\")\n",
    "\n",
    "        valid = True\n",
    "    else:\n",
    "        print(\"Keine Hotels gefunden\")\n"
   ],
   "id": "e7df0599c81682f6",
   "outputs": [
    {
     "name": "stdout",
     "output_type": "stream",
     "text": [
      "Keine Hotels gefunden\n",
      "Keine Hotels gefunden\n",
      "Gefundene Hotels:\n",
      "\n",
      "Hotel Baur au Lac, Sterne: 5\n",
      "Addresse: Bahnhofstrasse 1, Zürich, 8001\n",
      "Zimmer: 102, Double, Kapazität: 2\n",
      "Preis pro Nacht: 400.0\n"
     ]
    }
   ],
   "execution_count": 6
  },
  {
   "metadata": {},
   "cell_type": "markdown",
   "source": [
    "# Userstory 1.4\n",
    "Ich möchte alle Hotels in einer Stadt durchsuchen,\n",
    "die während meines Aufenthaltes (\"von\" (check_in_date)\n",
    "und \"bis\" (check_out_date)) Zimmer zur Verfügung haben,\n",
    "damit ich nur relevante Ergebnisse sehe.\n"
   ],
   "id": "43af8d9a14f38fb1"
  },
  {
   "metadata": {
    "ExecuteTime": {
     "end_time": "2025-06-13T18:22:37.950345Z",
     "start_time": "2025-06-13T18:22:23.059826Z"
    }
   },
   "cell_type": "code",
   "source": [
    "# JUK\n",
    "from datetime import datetime\n",
    "from business_logic.hotel_manager import HotelManager\n",
    "\n",
    "hotel_manager = HotelManager()\n",
    "valid = False\n",
    "while not valid:\n",
    "    city = input(\"In welcher Stadt suchen Sie Ihr gewünschtes Hotel? \")\n",
    "    check_in_date = input(\"Geben Sie ihr gewünschtes Anreisedatum an (YYYY-MM-DD): \")\n",
    "    check_out_date = input(\"Geben Sie ihr gewünschtes Abreisedatum an (YYYY-MM-DD): \")\n",
    "\n",
    "    try:\n",
    "        check_in_date = datetime.strptime(check_in_date, \"%Y-%m-%d\").date()\n",
    "        check_out_date = datetime.strptime(check_out_date, \"%Y-%m-%d\").date()\n",
    "    except ValueError:\n",
    "        print(\"Ungültiges Datumsformat. Bitte unbedingt YYYY-MM-DD verwenden.\\n\")\n",
    "        continue\n",
    "\n",
    "    if check_in_date >= check_out_date:\n",
    "        print(\"Fehler: Checkout muss nach dem Checkin liegen. Bitte erneut eingeben\")\n",
    "        continue\n",
    "\n",
    "    hotels = hotel_manager.search_hotels_by_city_and_availability(city, check_in_date, check_out_date)\n",
    "\n",
    "    if hotels:\n",
    "        print(\"Gefundene Hotels:\")\n",
    "        for hotel in hotels:\n",
    "            print(f\"\\n{hotel.name}, Sterne: {hotel.stars}\"\n",
    "                  f\"\\nAddresse: {hotel.address.street}, {hotel.address.city}, {hotel.address.zip_code}\"\n",
    "                  f\"\\nZimmer: {hotel.room_number}, {hotel.description}, Kapazität: {hotel.max_guests}\"\n",
    "                  f\"\\nPreis pro Nacht: {hotel.price_per_night}\"\n",
    "                  f\"\\nAnreisedatum von bis: {check_in_date} - {check_out_date}\"\n",
    "            )\n",
    "        valid = True\n",
    "    else:\n",
    "        print(\"Leider keine Verfügbarkeit in diesem Zeitraum. Versuchen Sie bitte einen anderen Zeitraum.\")\n",
    "\n"
   ],
   "id": "5d03821fa64ece23",
   "outputs": [
    {
     "name": "stdout",
     "output_type": "stream",
     "text": [
      "Gefundene Hotels:\n",
      "\n",
      "Hotel Baur au Lac, Sterne: 5\n",
      "Addresse: Bahnhofstrasse 1, Zürich, 8001\n",
      "Zimmer: 101, Single, Kapazität: 1\n",
      "Preis pro Nacht: 250.0\n",
      "Anreisedatum von bis: 2025-06-01 - 2025-06-05\n",
      "\n",
      "Hotel Baur au Lac, Sterne: 5\n",
      "Addresse: Bahnhofstrasse 1, Zürich, 8001\n",
      "Zimmer: 102, Double, Kapazität: 2\n",
      "Preis pro Nacht: 400.0\n",
      "Anreisedatum von bis: 2025-06-01 - 2025-06-05\n"
     ]
    }
   ],
   "execution_count": 20
  },
  {
   "metadata": {},
   "cell_type": "markdown",
   "source": [
    "# Userstory 1.5\n",
    "Ich möchte Wünsche kombinieren können, z.B. die\n",
    "verfügbaren Zimmer zusammen mit meiner Gästezahl und der\n",
    "mindest Anzahl Sterne"
   ],
   "id": "34fa0505036b5040"
  },
  {
   "metadata": {
    "ExecuteTime": {
     "end_time": "2025-06-13T18:06:58.002332Z",
     "start_time": "2025-06-13T18:06:36.332061Z"
    }
   },
   "cell_type": "code",
   "source": [
    "# JUK\n",
    "from datetime import datetime\n",
    "from business_logic.hotel_manager import HotelManager\n",
    "\n",
    "hotel_manager = HotelManager()\n",
    "valid = False\n",
    "while not valid:\n",
    "    city = input(\"In welcher Stadt suchen Sie Ihr gewünschtes Hotel? \")\n",
    "    try:\n",
    "        check_in_str = input(\"Geben Sie ihr gewünschtes Anreisedatum an (YYYY-MM-DD): \")\n",
    "        check_out_str = input(\"Geben Sie ihr gewünschtes Abreisedatum an (YYYY-MM-DD): \")\n",
    "        check_in_date = datetime.strptime(check_in_str, \"%Y-%m-%d\").date()\n",
    "        check_out_date = datetime.strptime(check_out_str, \"%Y-%m-%d\").date()\n",
    "    except ValueError:\n",
    "        print(\"Ungültiges Datumsformat. Bitte unbedingt YYYY-MM-DD verwenden.\\n\")\n",
    "        continue\n",
    "\n",
    "    if check_in_date >= check_out_date:\n",
    "        print(\"Fehler: Checkout muss nach dem Checkin liegen. Bitte erneut eingeben\")\n",
    "        continue\n",
    "\n",
    "    try:\n",
    "        stars = int(input(\"Geben Sie die min. Anzahl Sterne an\" ))\n",
    "    except ValueError:\n",
    "        print(\"Ungültige Eingabe, geben Sie eine Zahl an\")\n",
    "        continue\n",
    "\n",
    "    try:\n",
    "        guest_count = int(input(\"Geben Sie die min. Anzahl der Gäste an: \"))\n",
    "    except ValueError:\n",
    "        print(\"Ungültige Eingabe, geben Sie eine Zahl an\")\n",
    "        continue\n",
    "\n",
    "\n",
    "    hotels = hotel_manager.search_hotels_by_city_availability_stars_capacity(\n",
    "        city,\n",
    "        check_in_date,\n",
    "        check_out_date,\n",
    "        stars,\n",
    "        guest_count\n",
    "    )\n",
    "\n",
    "    if hotels:\n",
    "        print(\"Gefundene Hotels:\")\n",
    "        for hotel in hotels:\n",
    "            print(f\"\\n{hotel.name}, Sterne: {hotel.stars}\"\n",
    "                  f\"\\nAddresse: {hotel.address.street}, {hotel.address.city}, {hotel.address.zip_code}\"\n",
    "                  f\"\\nZimmer: {hotel.room_number}, {hotel.description}, Kapazität: {hotel.max_guests}\"\n",
    "                  f\"\\nPreis pro Nacht: {hotel.price_per_night}\"\n",
    "                  f\"\\nAnreisedatum von bis: {check_in_date} - {check_out_date}\"\n",
    "            )\n",
    "        valid = True\n",
    "    else:\n",
    "        print(\"Leider keine Verfügbarkeit in diesem Zeitraum. Versuchen Sie bitte einen anderen Zeitraum.\")\n",
    "\n"
   ],
   "id": "bee76838dc25e8aa",
   "outputs": [
    {
     "name": "stdout",
     "output_type": "stream",
     "text": [
      "Gefundene Hotels:\n",
      "\n",
      "Hotel Baur au Lac, Sterne: 5\n",
      "Addresse: Bahnhofstrasse 1, Zürich, 8001\n",
      "Zimmer: 101, Single, Kapazität: 1\n",
      "Preis pro Nacht: 250.0\n",
      "Anreisedatum von bis: 2025-01-06 - 2025-06-05\n",
      "\n",
      "Hotel Baur au Lac, Sterne: 5\n",
      "Addresse: Bahnhofstrasse 1, Zürich, 8001\n",
      "Zimmer: 102, Double, Kapazität: 2\n",
      "Preis pro Nacht: 400.0\n",
      "Anreisedatum von bis: 2025-01-06 - 2025-06-05\n"
     ]
    }
   ],
   "execution_count": 8
  },
  {
   "metadata": {},
   "cell_type": "markdown",
   "source": [
    "# Userstory 1.6\n",
    "Ich möchte die folgenden Informationen pro Hotel\n",
    "sehen: Name, Adresse, Anzahl der Sterne."
   ],
   "id": "2e7f08a52e0c95c9"
  },
  {
   "metadata": {
    "ExecuteTime": {
     "end_time": "2025-06-13T18:24:39.044887Z",
     "start_time": "2025-06-13T18:24:39.036730Z"
    }
   },
   "cell_type": "code",
   "source": [
    "# JUK\n",
    "from business_logic.hotel_manager import HotelManager\n",
    "\n",
    "hotel_manager = HotelManager()\n",
    "\n",
    "hotels = hotel_manager.get_all_hotel_info()\n",
    "if not hotels:\n",
    "    print(\"Keine Hotels gefunden.\")\n",
    "else:\n",
    "    for hotel in hotels:\n",
    "        print(f\"\\nHotel: {hotel.name}, Sterne: {hotel.stars}\\n\"\n",
    "              f\"Adresse: {hotel.address.street}, {hotel.address.city}, {hotel.address.zip_code}\"\n",
    "            )\n"
   ],
   "id": "85fc68c390ccc41d",
   "outputs": [
    {
     "name": "stdout",
     "output_type": "stream",
     "text": [
      "\n",
      "Hotel: Hotel Baur au Lac, Sterne: 5\n",
      "Adresse: Bahnhofstrasse 1, Zürich, 8001\n",
      "\n",
      "Hotel: Four Seasons Hôtel des Bergues, Sterne: 5\n",
      "Adresse: Rue du Rhône 42, Genève, 1204\n",
      "\n",
      "Hotel: Grand Hotel National, Sterne: 5\n",
      "Adresse: Pilatusstrasse 15, Luzern, 6003\n",
      "\n",
      "Hotel: Bellevue Palace, Sterne: 5\n",
      "Adresse: Marktgasse 59, Bern, 3011\n",
      "\n",
      "Hotel: Les Trois Rois, Sterne: 5\n",
      "Adresse: Freiestrasse 10, Basel, 4051\n"
     ]
    }
   ],
   "execution_count": 21
  },
  {
   "metadata": {},
   "cell_type": "markdown",
   "source": [
    "# Userstory 2\n",
    "Als Gast möchte ich Details zu verschiedenen Zimmertypen\n",
    "(Single, Double, Suite usw.), die in einem Hotel verfügbar\n",
    "sind, sehen, einschliesslich der maximalen Anzahl von Gästen\n",
    "für dieses Zimmer, Beschreibung, Preis und Ausstattung, um eine\n",
    "fundierte Entscheidung zu treffen.\n",
    "# Userstory 2.1\n",
    "Ich möchte die folgenden Informationen pro Zimmer\n",
    "sehen: Zimmertyp, max. Anzahl der Gäste, Beschreibung,\n",
    "Ausstattung, Preis pro Nacht und Gesamtpreis."
   ],
   "id": "1ef8c468bbee5d65"
  },
  {
   "metadata": {
    "ExecuteTime": {
     "end_time": "2025-06-13T18:07:31.352276Z",
     "start_time": "2025-06-13T18:07:24.077907Z"
    }
   },
   "cell_type": "code",
   "source": [
    "# JUK\n",
    "from business_logic.room_manager import RoomManager\n",
    "\n",
    "room_manager = RoomManager()\n",
    "\n",
    "hotel_name_input = input(\"Geben Sie den exakten Hotelnamen ein: \").strip()\n",
    "try:\n",
    "    rooms = room_manager.get_room_info_by_hotel(hotel_name_input)\n",
    "except Exception as e:\n",
    "    print(f\"Fehler bei der Abfrage: {e}\")\n",
    "\n",
    "if not rooms:\n",
    "    print(f\"Für Hotel „{hotel_name_input}“ wurden keine Zimmer gefunden.\")\n",
    "else:\n",
    "    print(f\"\\nZimmer für „{hotel_name_input}“:\\n\")\n",
    "    for r in rooms:\n",
    "        print(\n",
    "            f\"  Zimmer-ID      : {r.room_id}\\n\"\n",
    "            f\"  Zimmernummer   : {r.room_number}\\n\"\n",
    "            f\"  Zimmertyp      : {r.room_type.description}\\n\"\n",
    "            f\"  Max. Gäste     : {r.room_type.max_guests}\\n\"\n",
    "            f\"  Preis/Nacht    : {r.price_per_night}\\n\")"
   ],
   "id": "da5aa390dd3fa877",
   "outputs": [
    {
     "name": "stdout",
     "output_type": "stream",
     "text": [
      "\n",
      "Zimmer für „Hotel Baur au Lac“:\n",
      "\n",
      "  Zimmer-ID      : 1\n",
      "  Zimmernummer   : 101\n",
      "  Zimmertyp      : Single\n",
      "  Max. Gäste     : 1\n",
      "  Preis/Nacht    : 250.0\n",
      "\n",
      "  Zimmer-ID      : 2\n",
      "  Zimmernummer   : 102\n",
      "  Zimmertyp      : Double\n",
      "  Max. Gäste     : 2\n",
      "  Preis/Nacht    : 400.0\n",
      "\n"
     ]
    }
   ],
   "execution_count": 10
  },
  {
   "metadata": {},
   "cell_type": "markdown",
   "source": [
    "# Userstory 2.2\n",
    "Ich möchte nur die verfügbaren Zimmer sehen, sofern\n",
    "ich meinen Aufenthalt (von – bis) spezifiziert habe.\n"
   ],
   "id": "df2da6e9857d5ebd"
  },
  {
   "metadata": {
    "ExecuteTime": {
     "end_time": "2025-06-13T18:07:52.468328Z",
     "start_time": "2025-06-13T18:07:43.095359Z"
    }
   },
   "cell_type": "code",
   "source": [
    "# JUK\n",
    "from datetime import datetime\n",
    "from business_logic.room_manager import RoomManager  # oder: HotelManager\n",
    "\n",
    "room_manager = RoomManager()\n",
    "\n",
    "\n",
    "valid = False\n",
    "while not valid:\n",
    "    try:\n",
    "        check_in_str = input(\"Geben Sie ihr gewünschtes Anreisedatum an (YYYY-MM-DD): \")\n",
    "        check_out_str = input(\"Geben Sie ihr gewünschtes Abreisedatum an (YYYY-MM-DD): \")\n",
    "        check_in_date = datetime.strptime(check_in_str, \"%Y-%m-%d\").date()\n",
    "        check_out_date = datetime.strptime(check_out_str, \"%Y-%m-%d\").date()\n",
    "    except ValueError:\n",
    "        print(\"Ungültiges Datumsformat. Bitte unbedingt YYYY-MM-DD verwenden.\\n\")\n",
    "        continue\n",
    "\n",
    "    if check_out_date <= check_in_date:\n",
    "        print(\"Fehler: Check-out muss nach Check-in liegen. Bitte erneut eingeben.\\n\")\n",
    "        continue\n",
    "\n",
    "    rooms = room_manager.get_available_rooms_by_date(check_in_date, check_out_date)\n",
    "    valid = True\n",
    "\n",
    "if not rooms:\n",
    "    print(f\"Im Zeitraum {check_in_date}–{check_out_date} wurden keine freien Zimmer gefunden.\")\n",
    "else:\n",
    "    print(f\"\\nVerfügbare Zimmer für ({check_in_date} bis {check_out_date}):\\n\")\n",
    "    for r in rooms:\n",
    "        print(\n",
    "            f\"- Zimmer-ID       : {r.room_id}\\n\"\n",
    "            f\"  Zimmernummer    : {r.room_number}\\n\"\n",
    "            f\"  Zimmertyp       : {r.room_type.description}\\n\"\n",
    "            f\"  Max. Gäste      : {r.room_type.max_guests}\\n\"\n",
    "            f\"  Preis pro Nacht : {r.price_per_night}\\n\"\n",
    "        )"
   ],
   "id": "74ddf8689daef6f0",
   "outputs": [
    {
     "name": "stdout",
     "output_type": "stream",
     "text": [
      "\n",
      "Verfügbare Zimmer für (2025-01-01 bis 2025-01-05):\n",
      "\n",
      "- Zimmer-ID       : 1\n",
      "  Zimmernummer    : 101\n",
      "  Zimmertyp       : Single\n",
      "  Max. Gäste      : 1\n",
      "  Preis pro Nacht : 250.0\n",
      "\n",
      "- Zimmer-ID       : 2\n",
      "  Zimmernummer    : 102\n",
      "  Zimmertyp       : Double\n",
      "  Max. Gäste      : 2\n",
      "  Preis pro Nacht : 400.0\n",
      "\n",
      "- Zimmer-ID       : 3\n",
      "  Zimmernummer    : 201\n",
      "  Zimmertyp       : Suite\n",
      "  Max. Gäste      : 4\n",
      "  Preis pro Nacht : 650.0\n",
      "\n",
      "- Zimmer-ID       : 4\n",
      "  Zimmernummer    : 301\n",
      "  Zimmertyp       : Family Room\n",
      "  Max. Gäste      : 5\n",
      "  Preis pro Nacht : 900.0\n",
      "\n",
      "- Zimmer-ID       : 5\n",
      "  Zimmernummer    : 401\n",
      "  Zimmertyp       : Penthouse\n",
      "  Max. Gäste      : 6\n",
      "  Preis pro Nacht : 1500.0\n",
      "\n"
     ]
    }
   ],
   "execution_count": 11
  },
  {
   "metadata": {},
   "cell_type": "markdown",
   "source": [
    "# Userstory 3\n",
    "Als Admin des Buchungssystems möchte ich die Möglichkeit haben,\n",
    "Hotelinformationen zu pflegen, um aktuelle Informationen im\n",
    "System zu haben.\n",
    "# Userstory 3.1\n",
    "Ich möchte neue Hotels zum System hinzufügen\n",
    "\n",
    "## Input Daten vom Admin\n",
    "\n",
    "* Daten wie Strasse, Hotelname, Anzahl Sterne und Ort(Addresse)\n",
    "\n",
    "\n"
   ],
   "id": "4f875614e55b633f"
  },
  {
   "metadata": {
    "ExecuteTime": {
     "end_time": "2025-06-13T18:08:07.472546Z",
     "start_time": "2025-06-13T18:08:07.457874Z"
    }
   },
   "cell_type": "code",
   "source": [
    "# JUK\n",
    "from datetime import date\n",
    "from business_logic.hotel_manager import HotelManager\n",
    "from business_logic.address_manager import AddressManager\n",
    "from model.hotel import Hotel\n",
    "from model.address import Address\n",
    "\n",
    "address_manager = AddressManager()\n",
    "createded_address = address_manager.create_address(\"Teststrasse\", \"Zürich\", 8001)\n",
    "print(f\"Neue Addresse: {createded_address.street}, {createded_address.city}, {createded_address.zip_code}\")\n",
    "\n",
    "\n",
    "hotel_manager = HotelManager()\n",
    "h = Hotel(6, \"Olympia\", 3)\n",
    "hotel = hotel_manager.create_hotel(\"Olympia\", 3, createded_address)\n",
    "print(f\"Neues Hotel: {h.name}, Sterne: {h.stars}\")"
   ],
   "id": "5367b9846278762c",
   "outputs": [
    {
     "name": "stdout",
     "output_type": "stream",
     "text": [
      "Neue Addresse: Teststrasse, Zürich, 8001\n",
      "Neues Hotel: Olympia, Sterne: 3\n"
     ]
    }
   ],
   "execution_count": 12
  },
  {
   "metadata": {},
   "cell_type": "markdown",
   "source": [
    "# Userstory 3.2\n",
    "Ich möchte Hotels aus dem System entfernen\n"
   ],
   "id": "cb769172627439d"
  },
  {
   "metadata": {
    "ExecuteTime": {
     "end_time": "2025-06-13T18:08:40.523849Z",
     "start_time": "2025-06-13T18:08:35.970565Z"
    }
   },
   "cell_type": "code",
   "source": [
    "# JUK\n",
    "# TODO wenn Hotel gelöscht wird, muss auch Adresse aus dem System raus -> muss noch implementiert werden\n",
    "import time\n",
    "from business_logic.hotel_manager import HotelManager\n",
    "\n",
    "hotels = hotel_manager.get_all_hotel_info()\n",
    "\n",
    "if not hotels:\n",
    "    print(\"Keine Hotels in der Datenbank gefunden\")\n",
    "else:\n",
    "    for hotel in hotels:\n",
    "        print(f\"{hotel.hotel_id}: {hotel.name}, {hotel.stars}\")\n",
    "    time.sleep(0.5)\n",
    "\n",
    "valid = False\n",
    "while not valid:\n",
    "    try:\n",
    "        user_choice = int(input(\"Geben Sie die ID ein die Sie löschen möchten\"))\n",
    "        if user_choice <= 0 or user_choice > len(hotels):\n",
    "            raise ValueError()\n",
    "        else:\n",
    "            valid = True\n",
    "    except ValueError:\n",
    "        print(f\"Ungültige Eingabe bitte geben sie eine gültige ID ein\")\n",
    "\n",
    "try:\n",
    "    hotel_manager.delete_hotel(user_choice)\n",
    "    print(f\"Hotel mit ID: {user_choice} wurde erfolgreich gelöscht.\\n\")\n",
    "except Exception as e:\n",
    "    print(f\"Fehler beim Löschen: {e}\")\n",
    "\n",
    "hotels = hotel_manager.get_all_hotel_info()\n",
    "if not hotels:\n",
    "    print(\"Keine Hotels in der Datenbank gefunden\")\n",
    "else:\n",
    "    print(\"Aktualisierte Liste: \")\n",
    "    for hotel in hotels:\n",
    "        print(f\"{hotel.hotel_id}: {hotel.name}, {hotel.stars}\")\n",
    "\n"
   ],
   "id": "4154943aa2b84633",
   "outputs": [
    {
     "name": "stdout",
     "output_type": "stream",
     "text": [
      "1: Hotel Baur au Lac, 5\n",
      "2: Four Seasons Hôtel des Bergues, 5\n",
      "3: Grand Hotel National, 5\n",
      "4: Bellevue Palace, 5\n",
      "5: Les Trois Rois, 5\n",
      "6: Olympia, 3\n",
      "Hotel mit ID: 6 wurde erfolgreich gelöscht.\n",
      "\n",
      "Aktualisierte Liste: \n",
      "1: Hotel Baur au Lac, 5\n",
      "2: Four Seasons Hôtel des Bergues, 5\n",
      "3: Grand Hotel National, 5\n",
      "4: Bellevue Palace, 5\n",
      "5: Les Trois Rois, 5\n"
     ]
    }
   ],
   "execution_count": 13
  },
  {
   "metadata": {},
   "cell_type": "markdown",
   "source": [
    "# Userstory 3.3\n",
    "Ich möchte die Informationen bestimmter Hotels\n",
    "aktualisieren, z. B. den Namen, die Sterne usw.\n"
   ],
   "id": "b6efb0de9da8cf0e"
  },
  {
   "metadata": {
    "ExecuteTime": {
     "end_time": "2025-06-13T18:09:12.733469Z",
     "start_time": "2025-06-13T18:09:02.797489Z"
    }
   },
   "cell_type": "code",
   "source": [
    "# JUK\n",
    "import time\n",
    "from business_logic.hotel_manager import HotelManager\n",
    "\n",
    "hotel_manager = HotelManager()\n",
    "\n",
    "hotels = hotel_manager.get_all_hotel_info()\n",
    "if not hotels:\n",
    "    print(\"Keine Hotels in der Datenbank vorhanden.\")\n",
    "else:\n",
    "    for idx, hotel in enumerate(hotels, start=1):\n",
    "        print(f\"{idx} - {hotel.name}, {hotel.stars}\")\n",
    "    time.sleep(0.5)\n",
    "\n",
    "valid = False\n",
    "while not valid:\n",
    "    try:\n",
    "        index = int(input(\"Geben Sie die Nummer ein, die Sie aktualisieren möchten: \")) - 1\n",
    "        if index < 0 or index >= len(hotels):\n",
    "            raise ValueError()\n",
    "        else:\n",
    "            valid = True\n",
    "    except ValueError:\n",
    "        print(f\"Ungültige Eingabe. Bitte geben Sie eine ganze Zahl zwischen 1 und {len(hotels)} ein.\\n\")\n",
    "\n",
    "valid = False\n",
    "while not valid:\n",
    "    try:\n",
    "        name = input(\"Geben Sie den neuen Hotelnamen ein: \").strip()\n",
    "        if not name:\n",
    "            raise ValueError()\n",
    "        else:\n",
    "            valid = True\n",
    "    except ValueError:\n",
    "        print(\"Der Name muss ein String sein.\")\n",
    "\n",
    "valid = False\n",
    "while not valid:\n",
    "    try:\n",
    "        stars = int(input(\"Geben Sie die neue Sternezahl (1–5) ein: \"))\n",
    "        if not 1 <= stars <= 5:\n",
    "            raise ValueError()\n",
    "        else:\n",
    "            valid = True\n",
    "    except ValueError:\n",
    "        print(\"Bitte eine Zahl zwischen 1 und 5 eingeben.\\n\")\n",
    "\n",
    "hotel = hotels[index]\n",
    "hotel.name = name\n",
    "hotel.stars = stars\n",
    "\n",
    "try:\n",
    "    hotel_manager.update_hotel(hotel)\n",
    "except Exception as e:\n",
    "    print(f\"Fehler beim Aktualisieren: {e}\")\n",
    "\n",
    "print(\"\\nHotel wurde aktualisiert:\")\n",
    "print(f\"- ID     : {hotel.hotel_id}\")\n",
    "print(f\"- Name   : {hotel.name}\")\n",
    "print(f\"- Sterne : {hotel.stars}\\n\")\n",
    "\n",
    "for hotel in hotels:\n",
    "    print(f\"{hotel.hotel_id} - {hotel.name}, {hotel.stars}\")"
   ],
   "id": "1ada2b8396185b73",
   "outputs": [
    {
     "name": "stdout",
     "output_type": "stream",
     "text": [
      "1 - Hotel Baur au Lac, 5\n",
      "2 - Four Seasons Hôtel des Bergues, 5\n",
      "3 - Grand Hotel National, 5\n",
      "4 - Bellevue Palace, 5\n",
      "5 - Les Trois Rois, 5\n",
      "\n",
      "Hotel wurde aktualisiert:\n",
      "- ID     : 5\n",
      "- Name   : haha\n",
      "- Sterne : 1\n",
      "\n",
      "1 - Hotel Baur au Lac, 5\n",
      "2 - Four Seasons Hôtel des Bergues, 5\n",
      "3 - Grand Hotel National, 5\n",
      "4 - Bellevue Palace, 5\n",
      "5 - haha, 1\n"
     ]
    }
   ],
   "execution_count": 14
  },
  {
   "metadata": {},
   "cell_type": "markdown",
   "source": [
    "# Userstory 4\n",
    "Als Gast möchte ich ein Zimmer in einem bestimmten Hotel\n",
    "buchen, um meinen Urlaub zu planen.\n"
   ],
   "id": "3a3d75d0b894cffa"
  },
  {
   "metadata": {
    "ExecuteTime": {
     "end_time": "2025-06-13T18:16:57.746597Z",
     "start_time": "2025-06-13T18:16:20.767481Z"
    }
   },
   "cell_type": "code",
   "source": [
    "# JUK\n",
    "import time\n",
    "from datetime import datetime\n",
    "from business_logic.hotel_manager import HotelManager\n",
    "from business_logic.room_manager import RoomManager\n",
    "from business_logic.room_type_manager import RoomTypeManager\n",
    "from business_logic.booking_manager import BookingManager\n",
    "from business_logic.guest_manager import GuestManager\n",
    "\n",
    "hotel_manager = HotelManager()\n",
    "room_manager = RoomManager()\n",
    "booking_manager = BookingManager()\n",
    "guest_manager = GuestManager()\n",
    "\n",
    "hotels = hotel_manager.get_all_hotel_info()\n",
    "if not hotels:\n",
    "    print(\"Keine Hotels in der Datenbank vorhanden.\")\n",
    "else:\n",
    "    for idx, hotel in enumerate(hotels, start=1):\n",
    "        print(f\"{idx} - {hotel.name}, {hotel.stars}\")\n",
    "    time.sleep(0.5)\n",
    "\n",
    "valid = False\n",
    "while not valid:\n",
    "    try:\n",
    "        hotel_index = int(input(f\"Geben Sie die Nummer des Hotels ein (1–{len(hotels)}): \").strip()) - 1\n",
    "        if hotel_index < 0 or hotel_index >= len(hotels):\n",
    "            raise ValueError()\n",
    "        valid = True\n",
    "    except ValueError:\n",
    "        print(f\"Ungültige Eingabe. Bitte eine Zahl zwischen 1 und {len(hotels)}.\\n\")\n",
    "\n",
    "hotel = hotels[hotel_index]\n",
    "\n",
    "valid = False\n",
    "while not valid:\n",
    "    try:\n",
    "        ci = input(\"Anreisedatum (YYYY-MM-DD): \").strip()\n",
    "        co = input(\"Abreisedatum  (YYYY-MM-DD): \").strip()\n",
    "        check_in  = datetime.strptime(ci, \"%Y-%m-%d\").date()\n",
    "        check_out = datetime.strptime(co, \"%Y-%m-%d\").date()\n",
    "        if check_out <= check_in:\n",
    "            raise ValueError()\n",
    "        valid = True\n",
    "    except ValueError:\n",
    "        print(\"Ungültiges Datum. Format YYYY-MM-DD und Check-out nach Check-in.\\n\")\n",
    "\n",
    "rooms = room_manager.get_room_info_by_hotel(hotel.name)\n",
    "if not rooms:\n",
    "    print(\"Keine Rooms in der Datenbank vorhanden.\")\n",
    "else:\n",
    "    print(f\"\\nZimmer für „{hotel.name}“:\\n\")\n",
    "    for idx, r in enumerate(rooms, start=1):\n",
    "        print(f\"{idx} - Zimmer {r.room_number}, Preis/Nacht: {r.price_per_night}\")\n",
    "    time.sleep(0.5)\n",
    "\n",
    "\n",
    "valid = False\n",
    "while not valid:\n",
    "    try:\n",
    "        room_index = int(input(f\"Geben Sie die Nummer des Zimmers ein (1–{len(rooms)}): \").strip()) - 1\n",
    "        if room_index < 0 or room_index >= len(rooms):\n",
    "            raise ValueError()\n",
    "        valid = True\n",
    "    except ValueError:\n",
    "        print(f\"Ungültige Eingabe. Bitte eine Zahl zwischen 1 und {len(rooms)}.\\n\")\n",
    "\n",
    "room = rooms[room_index]\n",
    "\n",
    "guests = guest_manager.show_guest()\n",
    "if not guests:\n",
    "    print(\"Keine Gäste in der Datenbank vorhanden.\")\n",
    "else:\n",
    "    print(f\"\\n Gäste Namen:\\n\")\n",
    "    for idx, g in enumerate(guests, start=1):\n",
    "        print(f\"{idx} - {g.first_name} {g.last_name}\")\n",
    "    time.sleep(0.5)\n",
    "\n",
    "valid = False\n",
    "while not valid:\n",
    "    try:\n",
    "        choice = int(input(f\"Geben Sie die Nummer des Gasts ein (1–{len(guests)}): \").strip()) - 1\n",
    "        if choice < 0 or choice >= len(guests):\n",
    "            raise ValueError()\n",
    "        valid = True\n",
    "    except ValueError:\n",
    "        print(f\"Ungültige Eingabe. Bitte eine Zahl zwischen 1 und {len(guests)}.\\n\")\n",
    "\n",
    "guest = guests[choice]\n",
    "print(f\"\\nAusgewählt: {guest.first_name} {guest.last_name} (ID: {guest.guestid})\\n\")\n",
    "\n",
    "# Anzahl Gäste eingeben\n",
    "valid = False\n",
    "while not valid:\n",
    "    try:\n",
    "        num = int(input(\"Anzahl der Gäste: \").strip())\n",
    "        if num < 1 or num > room.room_type.max_guests:\n",
    "            raise ValueError()\n",
    "        valid = True\n",
    "    except ValueError:\n",
    "        print(f\"Ungültige Eingabe. Max {room.room_type.max_guests} Gäste möglich.\\n\")\n",
    "\n",
    "try:\n",
    "    booking = booking_manager.create_booking(guest, room, num, check_in, check_out)\n",
    "    print(\"\\nBuchung erfolgreich:\")\n",
    "    print(f\"- Buchungs-ID: {booking.booking_id}\")\n",
    "    print(f\"- Hotel      : {hotel.name}\")\n",
    "    print(f\"- Zimmer     : {room.room_number}\")\n",
    "    print(f\"- Gäste      : {num}\")\n",
    "    print(f\"- Zeitraum   : {check_in} – {check_out}\")\n",
    "except Exception as e:\n",
    "    print(f\"Fehler bei der Buchung: {e}\") #TODO Fehler nicht auffindbar keine Zeit mehr"
   ],
   "id": "237d92289ca101e6",
   "outputs": [
    {
     "name": "stdout",
     "output_type": "stream",
     "text": [
      "1 - Hotel Baur au Lac, 5\n",
      "2 - Four Seasons Hôtel des Bergues, 5\n",
      "3 - Grand Hotel National, 5\n",
      "4 - Bellevue Palace, 5\n",
      "5 - Les Trois Rois, 5\n",
      "\n",
      "Zimmer für „Hotel Baur au Lac“:\n",
      "\n",
      "1 - Zimmer 103, Preis/Nacht: 1000.0\n",
      "2 - Zimmer 102, Preis/Nacht: 400.0\n",
      "\n",
      " Gäste Namen:\n",
      "\n",
      "1 - Hans Müller\n",
      "2 - Sophie Meier\n",
      "3 - Luca Rossi\n",
      "4 - Elena Keller\n",
      "5 - Marc Weber\n",
      "\n",
      "Ausgewählt: Hans Müller (ID: 1)\n",
      "\n",
      "Fehler bei der Buchung: BookingDAL.create_booking() missing 1 required positional argument: 'base_amount'\n"
     ]
    }
   ],
   "execution_count": 15
  },
  {
   "metadata": {
    "ExecuteTime": {
     "end_time": "2025-06-13T18:10:34.933940Z",
     "start_time": "2025-06-13T18:10:34.797320Z"
    }
   },
   "cell_type": "code",
   "source": [
    "from business_logic.booking_manager import BookingManager\n",
    "from model.guest import Guest\n",
    "from model.room import Room\n",
    "from model.room_type import RoomType\n",
    "from datetime import date\n",
    "\n",
    "\n",
    "guest = Guest(1, \"John\", \"Doe\", \"mail\")\n",
    "room = Room(1, 202, 80.90)\n",
    "room_type = RoomType(1, \"Standard\", 1)\n",
    "room.room_type = room_type\n",
    "\n",
    "booking_manager = BookingManager()\n",
    "b = booking_manager.create_booking(guest, room,1, date(2025, 1, 1), date(2025, 1, 3))\n",
    "print(f\" Checkin Date: {b.check_in_date}, Amount: {b.total_amount}\")"
   ],
   "id": "ac96a46d6569a446",
   "outputs": [
    {
     "ename": "TypeError",
     "evalue": "BookingDAL.create_booking() missing 1 required positional argument: 'base_amount'",
     "output_type": "error",
     "traceback": [
      "\u001B[31m---------------------------------------------------------------------------\u001B[39m",
      "\u001B[31mTypeError\u001B[39m                                 Traceback (most recent call last)",
      "\u001B[36mCell\u001B[39m\u001B[36m \u001B[39m\u001B[32mIn[2]\u001B[39m\u001B[32m, line 14\u001B[39m\n\u001B[32m     11\u001B[39m room.room_type = room_type\n\u001B[32m     13\u001B[39m booking_manager = BookingManager()\n\u001B[32m---> \u001B[39m\u001B[32m14\u001B[39m b = \u001B[43mbooking_manager\u001B[49m\u001B[43m.\u001B[49m\u001B[43mcreate_booking\u001B[49m\u001B[43m(\u001B[49m\u001B[43mguest\u001B[49m\u001B[43m,\u001B[49m\u001B[43m \u001B[49m\u001B[43mroom\u001B[49m\u001B[43m,\u001B[49m\u001B[32;43m1\u001B[39;49m\u001B[43m,\u001B[49m\u001B[43m \u001B[49m\u001B[43mdate\u001B[49m\u001B[43m(\u001B[49m\u001B[32;43m2025\u001B[39;49m\u001B[43m,\u001B[49m\u001B[43m \u001B[49m\u001B[32;43m1\u001B[39;49m\u001B[43m,\u001B[49m\u001B[43m \u001B[49m\u001B[32;43m1\u001B[39;49m\u001B[43m)\u001B[49m\u001B[43m,\u001B[49m\u001B[43m \u001B[49m\u001B[43mdate\u001B[49m\u001B[43m(\u001B[49m\u001B[32;43m2025\u001B[39;49m\u001B[43m,\u001B[49m\u001B[43m \u001B[49m\u001B[32;43m1\u001B[39;49m\u001B[43m,\u001B[49m\u001B[43m \u001B[49m\u001B[32;43m3\u001B[39;49m\u001B[43m)\u001B[49m\u001B[43m)\u001B[49m\n\u001B[32m     15\u001B[39m \u001B[38;5;28mprint\u001B[39m(\u001B[33mf\u001B[39m\u001B[33m\"\u001B[39m\u001B[33m Checkin Date: \u001B[39m\u001B[38;5;132;01m{\u001B[39;00mb.check_in_date\u001B[38;5;132;01m}\u001B[39;00m\u001B[33m, Amount: \u001B[39m\u001B[38;5;132;01m{\u001B[39;00mb.total_amount\u001B[38;5;132;01m}\u001B[39;00m\u001B[33m\"\u001B[39m)\n",
      "\u001B[36mFile \u001B[39m\u001B[32m~/PycharmProjects/Hotel_Reservierungssystem/business_logic/booking_manager.py:29\u001B[39m, in \u001B[36mBookingManager.create_booking\u001B[39m\u001B[34m(self, guest, room, number_of_guests, check_in, check_out)\u001B[39m\n\u001B[32m     26\u001B[39m \u001B[38;5;28;01mif\u001B[39;00m room.room_type.max_guests < number_of_guests:\n\u001B[32m     27\u001B[39m     \u001B[38;5;28;01mraise\u001B[39;00m \u001B[38;5;167;01mException\u001B[39;00m(\u001B[33m\"\u001B[39m\u001B[33mRoom does not have enough capacity\u001B[39m\u001B[33m\"\u001B[39m)\n\u001B[32m---> \u001B[39m\u001B[32m29\u001B[39m \u001B[38;5;28;01mreturn\u001B[39;00m \u001B[38;5;28;43mself\u001B[39;49m\u001B[43m.\u001B[49m\u001B[43m__booking_dal\u001B[49m\u001B[43m.\u001B[49m\u001B[43mcreate_booking\u001B[49m\u001B[43m(\u001B[49m\u001B[43mguest\u001B[49m\u001B[43m,\u001B[49m\u001B[43m \u001B[49m\u001B[43mroom\u001B[49m\u001B[43m,\u001B[49m\u001B[43m \u001B[49m\u001B[43mcheck_in\u001B[49m\u001B[43m,\u001B[49m\u001B[43m \u001B[49m\u001B[43mcheck_out\u001B[49m\u001B[43m,\u001B[49m\u001B[43m \u001B[49m\u001B[43mtotal_amount\u001B[49m\u001B[43m)\u001B[49m\n",
      "\u001B[31mTypeError\u001B[39m: BookingDAL.create_booking() missing 1 required positional argument: 'base_amount'"
     ]
    }
   ],
   "execution_count": 2
  },
  {
   "metadata": {},
   "cell_type": "markdown",
   "source": [
    "# Userstory 5\n",
    "Als Gast möchte ich nach meinem Aufenthalt eine Rechnung\n",
    "erhalten, damit ich einen Zahlungsnachweis habe.\n",
    "Hint: Fügt einen Eintrag in der «Invoice» Tabelle hinzu.\n"
   ],
   "id": "48d468d491f5dbdf"
  },
  {
   "metadata": {
    "ExecuteTime": {
     "end_time": "2025-06-13T18:12:01.007443Z",
     "start_time": "2025-06-13T18:11:58.188345Z"
    }
   },
   "cell_type": "code",
   "source": [
    "# Import model\n",
    "from business_logic.invoice_manager import InvoiceManager\n",
    "from model.invoice import Invoice\n",
    "from data_access.invoice_dal import InvoiceDAL\n",
    "from datetime import date\n",
    "# Input Data from User\n",
    "# Booking.bookingid: save in variable Bookingid\n",
    "valid = False\n",
    "while not valid:\n",
    "    input_user = input(\"Geben Sie bitte Ihren Booking ID ein: \")\n",
    "    if len(input_user) > 0:\n",
    "        valid = True\n",
    "    else:\n",
    "        print(\"Bitte geben Sie einen Booking ID ein.\")\n",
    "print(input_user)\n",
    "\n",
    "booking_id = int(input_user)\n",
    "issue_date = \"2025-01-01\"\n",
    "total_amount = \"100.00\"\n",
    "\n",
    "invoice_manager = InvoiceManager()\n",
    "\n",
    "Rechnung = invoice_manager.create_invoice(booking_id, \"2025-1-1\", 100.00)\n",
    "if Rechnung is not None:\n",
    "    print(\n",
    "        f\"Rechnung erstellt: {Rechnung.invoiceid}, BookingNr: {booking_id}, Ausstellungsdatum: {Rechnung.issue_date}, Gesamtbetrag: {Rechnung.total_amount}\")\n",
    "else:\n",
    "    print(\"Es konnte keine Rechnung erstellt werden.\")"
   ],
   "id": "b7a963b7376efde3",
   "outputs": [
    {
     "name": "stdout",
     "output_type": "stream",
     "text": [
      "1\n",
      "Rechnung erstellt: 6, BookingNr: 1, Ausstellungsdatum: 2025-1-1, Gesamtbetrag: 100.0\n"
     ]
    }
   ],
   "execution_count": 3
  },
  {
   "metadata": {},
   "cell_type": "markdown",
   "source": [
    "# Userstory 6\n",
    "Als Gast möchte ich meine Buchung stornieren, damit ich nicht\n",
    "belastet werde, wenn ich das Zimmer nicht mehr benötige.\n",
    "Hint: Sorgt für die entsprechende Invoice."
   ],
   "id": "dc8b5970c3090a62"
  },
  {
   "metadata": {
    "ExecuteTime": {
     "end_time": "2025-06-13T18:12:39.181207Z",
     "start_time": "2025-06-13T18:12:36.717634Z"
    }
   },
   "cell_type": "code",
   "source": [
    "# Fake Booking erstellen\n",
    "from business_logic.booking_manager import BookingManager\n",
    "from model.booking import Booking\n",
    "\n",
    "valid = False\n",
    "while not valid:\n",
    "    input_user = input(\"Geben Sie bitte Ihren Booking ID ein: \")\n",
    "    if len(input_user) > 0:\n",
    "        valid = True\n",
    "    else:\n",
    "        print(\"Bitte geben Sie einen Booking ID ein.\")\n",
    "print(input_user)\n",
    "\n",
    "booking_id = int(input_user)\n",
    "booking_manager = BookingManager()\n",
    "\n",
    "Stornierung = booking_manager.cancel_booking(booking_id)\n",
    "print(\"Stornierung erfolgreich\")"
   ],
   "id": "b9affa7fb98b5f60",
   "outputs": [
    {
     "name": "stdout",
     "output_type": "stream",
     "text": [
      "5\n",
      "Booking with Booking Id 5 cancelled successfully.\n",
      "Stornierung erfolgreich\n"
     ]
    }
   ],
   "execution_count": 5
  },
  {
   "metadata": {},
   "cell_type": "markdown",
   "source": [
    "# Userstory 7\n",
    "Als Gast möchte ich eine dynamische Preisgestaltung auf der\n",
    "Grundlage der Nachfrage sehen, damit ich ein Zimmer zum besten\n",
    "Preis buchen kann.\n",
    "Hint: Wendet in der Hochsaison höhere und in der Nebensaison\n",
    "niedrigere Tarife an.\n"
   ],
   "id": "613bbc4cae948e3b"
  },
  {
   "metadata": {
    "ExecuteTime": {
     "end_time": "2025-06-13T18:13:25.148952Z",
     "start_time": "2025-06-13T18:13:20.819931Z"
    }
   },
   "cell_type": "code",
   "source": [
    "from datetime import datetime\n",
    "from data_access.booking_dal import BookingDAL\n",
    "from model.booking import Booking\n",
    "from model.guest import Guest\n",
    "\n",
    "\n",
    "# Ask the User to input a date\n",
    "user_input = input(\"When is your check-in date?\")\n",
    "try:\n",
    "    user_input = datetime.strptime(user_input, \"%Y-%m-%d\").date()\n",
    "    print(f\"The entered Date is {user_input}\")\n",
    "\n",
    "except ValueError:\n",
    "    print(\"Invalid date format. Please enter a valid date in the format YYYY-MM-DD.\")\n",
    "\n",
    "calculate_dynamic_price = BookingDAL().calculate_dynamic_price\n",
    "price = calculate_dynamic_price(100.00, user_input)\n",
    "\n",
    "print(f\"The price is {price}\")"
   ],
   "id": "4983e532ac6c87b2",
   "outputs": [
    {
     "name": "stdout",
     "output_type": "stream",
     "text": [
      "The entered Date is 2025-01-01\n",
      "The price is 85.0\n"
     ]
    }
   ],
   "execution_count": 7
  },
  {
   "metadata": {},
   "cell_type": "markdown",
   "source": [
    "# Userstory 8\n",
    "Als Admin des Buchungssystems möchte ich alle Buchungen aller\n",
    "Hotels sehen können, um eine Übersicht zu erhalten."
   ],
   "id": "84245c19208697a"
  },
  {
   "metadata": {
    "ExecuteTime": {
     "end_time": "2025-06-13T18:13:56.602873Z",
     "start_time": "2025-06-13T18:13:56.560616Z"
    }
   },
   "cell_type": "code",
   "source": [
    "from datetime import date\n",
    "from business_logic.booking_manager import BookingManager\n",
    "from model.guest import Guest\n",
    "from model.hotel import Hotel\n",
    "\n",
    "user = User(role=\"admin\")\n",
    "\n",
    "booking_manager = BookingManager()\n",
    "bookings = booking_manager.get_all_bookings(user=user)\n",
    "\n",
    "for b in bookings:\n",
    "    print(\n",
    "        f\"Booking-ID: {b.bookingid} \"\n",
    "        f\"Gast: {b.guest.first_name} {b.guest.last_name} \"\n",
    "        f\"Hotel: {b.room.hotel.name} \"\n",
    "        f\"Zimmernummer: {b.room.room_number} \"\n",
    "        f\"Check-In: {b.check_in_date} \"\n",
    "        f\"Check-Out: {b.check_out_date} \"\n",
    "    )"
   ],
   "id": "5e6bc489814a8803",
   "outputs": [
    {
     "ename": "NameError",
     "evalue": "name 'User' is not defined",
     "output_type": "error",
     "traceback": [
      "\u001B[31m---------------------------------------------------------------------------\u001B[39m",
      "\u001B[31mNameError\u001B[39m                                 Traceback (most recent call last)",
      "\u001B[36mCell\u001B[39m\u001B[36m \u001B[39m\u001B[32mIn[10]\u001B[39m\u001B[32m, line 6\u001B[39m\n\u001B[32m      3\u001B[39m \u001B[38;5;28;01mfrom\u001B[39;00m\u001B[38;5;250m \u001B[39m\u001B[34;01mmodel\u001B[39;00m\u001B[34;01m.\u001B[39;00m\u001B[34;01mguest\u001B[39;00m\u001B[38;5;250m \u001B[39m\u001B[38;5;28;01mimport\u001B[39;00m Guest\n\u001B[32m      4\u001B[39m \u001B[38;5;28;01mfrom\u001B[39;00m\u001B[38;5;250m \u001B[39m\u001B[34;01mmodel\u001B[39;00m\u001B[34;01m.\u001B[39;00m\u001B[34;01mhotel\u001B[39;00m\u001B[38;5;250m \u001B[39m\u001B[38;5;28;01mimport\u001B[39;00m Hotel\n\u001B[32m----> \u001B[39m\u001B[32m6\u001B[39m user = \u001B[43mUser\u001B[49m(role=\u001B[33m\"\u001B[39m\u001B[33madmin\u001B[39m\u001B[33m\"\u001B[39m)\n\u001B[32m      8\u001B[39m booking_manager = BookingManager()\n\u001B[32m      9\u001B[39m bookings = booking_manager.get_all_bookings(user=user)\n",
      "\u001B[31mNameError\u001B[39m: name 'User' is not defined"
     ]
    }
   ],
   "execution_count": 10
  },
  {
   "metadata": {},
   "cell_type": "markdown",
   "source": [
    "# Userstory 9\n",
    "Als Admin möchte ich eine Liste der Zimmer mit ihrer\n",
    "Ausstattung sehen, damit ich sie besser bewerben kann.\n"
   ],
   "id": "29d1405c19b6fa27"
  },
  {
   "metadata": {
    "ExecuteTime": {
     "end_time": "2025-06-13T18:15:05.143529Z",
     "start_time": "2025-06-13T18:15:05.131340Z"
    }
   },
   "cell_type": "code",
   "source": [
    "from business_logic.room_manager import RoomManager\n",
    "from model.user import User\n",
    "\n",
    "user = User(role=\"admin\")\n",
    "\n",
    "room_manager = RoomManager()\n",
    "rooms = room_manager.get_all_rooms_with_equipment(user=user)\n",
    "\n",
    "if rooms:\n",
    "    print(\"Zimmer mit Ausstattung:\")\n",
    "    for room in rooms:\n",
    "        equipment = \", \".join([e.facility_name for e in room.equipment]) if room.equipment else \"Keine Ausstattung\"\n",
    "        print(f\"Zimmernummer: {room.room_number}, Hotel: {room.hotel.name}, Type: {room.room_type.description}, Ausstattung: {equipment}\")\n",
    "else:\n",
    "    print(\"Keine Zimmer gefunden.\")\n"
   ],
   "id": "b0d1a75672fa7e89",
   "outputs": [
    {
     "name": "stdout",
     "output_type": "stream",
     "text": [
      "[(1, '101', 250.0, 1, 'Single', 1, 'Hotel Baur au Lac', 1, 'WiFi'), (1, '101', 250.0, 1, 'Single', 1, 'Hotel Baur au Lac', 2, 'TV'), (2, '102', 400.0, 2, 'Double', 1, 'Hotel Baur au Lac', 1, 'WiFi'), (3, '201', 650.0, 3, 'Suite', 2, 'Four Seasons Hôtel des Bergues', 3, 'Air Conditioning'), (4, '301', 900.0, 4, 'Family Room', 3, 'Grand Hotel National', 4, 'Mini Bar'), (5, '401', 1500.0, 5, 'Penthouse', 4, 'Bellevue Palace', None, None)]\n",
      "Zimmer mit Ausstattung:\n",
      "Zimmernummer: 101, Hotel: Hotel Baur au Lac, Type: Single, Ausstattung: WiFi, TV\n",
      "Zimmernummer: 102, Hotel: Hotel Baur au Lac, Type: Double, Ausstattung: WiFi\n",
      "Zimmernummer: 201, Hotel: Four Seasons Hôtel des Bergues, Type: Suite, Ausstattung: Air Conditioning\n",
      "Zimmernummer: 301, Hotel: Grand Hotel National, Type: Family Room, Ausstattung: Mini Bar\n",
      "Zimmernummer: 401, Hotel: Bellevue Palace, Type: Penthouse, Ausstattung: Keine Ausstattung\n"
     ]
    }
   ],
   "execution_count": 11
  },
  {
   "metadata": {},
   "cell_type": "markdown",
   "source": [
    "# User Stories mit DB-Schemaänderung\n",
    "\n",
    "Als Admin möchte ich alle Buchungen bearbeiten können, um\n",
    "fehlende Informationen zu ergänzen (z.B. Telefonnummer).\n",
    "\n",
    "\n"
   ],
   "id": "1ddb5582557351b8"
  },
  {
   "metadata": {
    "ExecuteTime": {
     "end_time": "2025-06-13T18:15:27.068505Z",
     "start_time": "2025-06-13T18:15:27.057082Z"
    }
   },
   "cell_type": "code",
   "source": [
    "from business_logic.room_manager import RoomManager\n",
    "from model.user import User\n",
    "from model.room import Room\n",
    "\n",
    "user = User(role=\"admin\")\n",
    "\n",
    "#änderungen könen hier gemacht werden.\n",
    "room = Room(1, 103, 1000)\n",
    "\n",
    "room_manager = RoomManager()\n",
    "rooms = room_manager.update_room(room, user=user)\n",
    "\n",
    "print(f\"Updated room: {room}\")"
   ],
   "id": "82f2ee330ae0659e",
   "outputs": [
    {
     "name": "stdout",
     "output_type": "stream",
     "text": [
      "Updated room: <model.room.Room object at 0x10867ee40>\n"
     ]
    }
   ],
   "execution_count": 12
  },
  {
   "metadata": {},
   "cell_type": "markdown",
   "source": [
    "# Userstory 4 mit DB Änderung\n",
    "Als Gast möchte ich vor der Buchung Hotelbewertungen lesen,\n",
    "damit ich das beste Hotel auswählen kann.\n"
   ],
   "id": "1142ee3eeb409fd5"
  },
  {
   "metadata": {
    "ExecuteTime": {
     "end_time": "2025-06-13T18:15:46.478317Z",
     "start_time": "2025-06-13T18:15:33.783586Z"
    }
   },
   "cell_type": "code",
   "source": [
    "# JUK\n",
    "import time\n",
    "from business_logic.review_manager import ReviewManager\n",
    "from business_logic.guest_manager  import GuestManager\n",
    "from business_logic.hotel_manager import HotelManager\n",
    "\n",
    "review_manager = ReviewManager()\n",
    "guest_manager  = GuestManager()\n",
    "hotel_manager = HotelManager()\n",
    "\n",
    "\n",
    "hotels = hotel_manager.get_all_hotel_info()\n",
    "if not hotels:\n",
    "    print(\"Keine Hotels in der Datenbank vorhanden.\")\n",
    "    exit()\n",
    "\n",
    "print(\"\\nVerfügbare Hotels:\")\n",
    "for idx, hotel in enumerate(hotels, start=1):\n",
    "    print(f\"{idx} - {hotel.name}, {hotel.stars} Sterne\")\n",
    "\n",
    "valid = False\n",
    "while not valid:\n",
    "    try:\n",
    "        choice = int(input(f\"\\nWählen Sie ein Hotel (1–{len(hotels)}): \").strip()) - 1\n",
    "        if choice < 0 or choice >= len(hotels):\n",
    "            raise ValueError()\n",
    "        valid = True\n",
    "    except ValueError:\n",
    "        print(f\"Ungültige Eingabe. Bitte eine Zahl zwischen 1 und {len(hotels)}.\")\n",
    "\n",
    "hotel = hotels[choice]\n",
    "print(f\"\\nSie haben „{hotel.name}“ ausgewählt.\\n\")\n",
    "\n",
    "guests = guest_manager.show_guest()\n",
    "if not guests:\n",
    "    print(\"Keine Gäste in der Datenbank vorhanden.\")\n",
    "else:\n",
    "    print(\"\\nGäste für Bewertung:\")\n",
    "for idx, g in enumerate(guests, start=1):\n",
    "    print(f\"{idx} - {g.first_name} {g.last_name} (ID: {g.guestid})\")\n",
    "time.sleep(0.5)\n",
    "\n",
    "valid = False\n",
    "while not valid:\n",
    "    try:\n",
    "        choice = int(input(f\"Geben Sie die Nummer des bewertenden Gasts ein (1–{len(guests)}): \").strip()) - 1\n",
    "        if choice < 0 or choice >= len(guests):\n",
    "            raise ValueError()\n",
    "        valid = True\n",
    "    except ValueError:\n",
    "        print(f\"Ungültige Eingabe. Bitte eine Zahl zwischen 1 und {len(guests)}.\\n\")\n",
    "guest = guests[choice]\n",
    "\n",
    "valid = False\n",
    "while not valid:\n",
    "    try:\n",
    "        rating = int(input(\"Bewertung (1–5 Sterne): \").strip())\n",
    "        if not 1 <= rating <= 5:\n",
    "            raise ValueError()\n",
    "        valid = True\n",
    "    except ValueError:\n",
    "        print(\"Ungültige Eingabe. Bitte eine ganze Zahl zwischen 1 und 5.\\n\")\n",
    "\n",
    "\n",
    "comment = input(\"Kurzkommentar zur Bewertung: \").strip()\n",
    "\n",
    "try:\n",
    "    new_review = review_manager.create_review(\n",
    "        hotel.hotel_id,\n",
    "        guest.guestid,\n",
    "        rating,\n",
    "        comment\n",
    "    )\n",
    "    print(\"\\nBewertung eingetragen:\")\n",
    "    stars = new_review.rating\n",
    "    print(f\"{new_review.review_date} | {guest.first_name} {guest.last_name}: Rating: {stars}\")\n",
    "    print(f\"«{new_review.comment}»\\n\")\n",
    "except Exception as e:\n",
    "    print(f\"Fehler beim Anlegen der Bewertung: {e}\")\n",
    "\n",
    "time.sleep(0.5)\n",
    "\n",
    "reviews = review_manager.get_reviews_by_hotel(hotel.hotel_id)\n",
    "print(f\"\\nAlle Bewertungen für {hotel.name}:\")\n",
    "if not reviews:\n",
    "    print(\"Keine Bewertungen vorhanden.\")\n",
    "else:\n",
    "    for rv in reviews:\n",
    "        stars = rv.rating\n",
    "        print(f\"{rv.review_date} | {rv.guest.first_name} {rv.guest.last_name}: Rating: {stars}\")\n",
    "        print(f\"«{rv.comment}»\\n\")"
   ],
   "id": "79ea0cf6f2ca9b5",
   "outputs": [
    {
     "name": "stdout",
     "output_type": "stream",
     "text": [
      "\n",
      "Verfügbare Hotels:\n",
      "1 - Hotel Baur au Lac, 5 Sterne\n",
      "2 - Four Seasons Hôtel des Bergues, 5 Sterne\n",
      "3 - Grand Hotel National, 5 Sterne\n",
      "4 - Bellevue Palace, 5 Sterne\n",
      "5 - Les Trois Rois, 5 Sterne\n",
      "\n",
      "Sie haben „Hotel Baur au Lac“ ausgewählt.\n",
      "\n",
      "\n",
      "Gäste für Bewertung:\n",
      "1 - Hans Müller (ID: 1)\n",
      "2 - Sophie Meier (ID: 2)\n",
      "3 - Luca Rossi (ID: 3)\n",
      "4 - Elena Keller (ID: 4)\n",
      "5 - Marc Weber (ID: 5)\n",
      "\n",
      "Bewertung eingetragen:\n",
      "2025-06-13 | Hans Müller: Rating: 4\n",
      "«gutes Hotel»\n",
      "\n",
      "\n",
      "Alle Bewertungen für Hotel Baur au Lac:\n",
      "2025-06-13 | Hans Müller: Rating: 4\n",
      "«gutes Hotel»\n",
      "\n"
     ]
    }
   ],
   "execution_count": 13
  },
  {
   "metadata": {},
   "cell_type": "markdown",
   "source": [
    "# User Stories mit Datenvisualisierung\n",
    "\n"
   ],
   "id": "49665728e1ba8f72"
  },
  {
   "metadata": {},
   "cell_type": "markdown",
   "source": [
    " Als Admin möchte ich die Belegungsraten für jeden Zimmertyp in\n",
    "meinem Hotel sehen, damit ich weiss, welche Zimmer am\n",
    "beliebtesten sind und ich meine Buchungsstrategien optimieren\n",
    "kann.\n",
    "Hint: Wählt ein geeignetes Diagramm, um die Auslastung nach\n",
    "Zimmertyp darzustellen (z. B. wie oft jeder Zimmertyp gebucht\n",
    "wird).\n"
   ],
   "id": "b4e9f536346c106d"
  },
  {
   "metadata": {
    "ExecuteTime": {
     "end_time": "2025-06-13T18:17:07.380604Z",
     "start_time": "2025-06-13T18:17:07.302434Z"
    }
   },
   "cell_type": "code",
   "source": [
    "import matplotlib.pyplot as plt                 #TODO WENN MÖGLICH DIE DATENBANK MEHR BUCHUNGEN ERGÄNZEN, DAMIT ES MEHR ZU VISUALISIEREN GIBT\n",
    "import pandas as pd\n",
    "from business_logic.booking_manager import BookingManager\n",
    "\n",
    "booking_manager = BookingManager()\n",
    "\n",
    "# abrufen der Roomtypes aus dem Data_acces layer\n",
    "famous_roomtype = booking_manager.get_famous_room_type()\n",
    "\n",
    "df = pd.DataFrame(famous_roomtype)\n",
    "\n",
    "# Visualisierung in Balkendiagramm\n",
    "plt.bar(df['room_type'], df['bookings'], color='blue')    # x Werte, y werte\n",
    "\n",
    "# Diagramm beschriften\n",
    "plt.title(\"Famous Room Types\", fontsize=16)\n",
    "\n",
    "# Beschriftung x Achse\n",
    "plt.xlabel(\"Room Type\", fontsize=12)\n",
    "\n",
    "# Beschriftung y Achse\n",
    "plt.ylabel(\"Num of Bookings\", fontsize=12)\n",
    "\n",
    "plt.show()\n",
    "\n",
    "print(df.head())\n"
   ],
   "id": "4868c80b8d8bbf01",
   "outputs": [
    {
     "data": {
      "text/plain": [
       "<Figure size 640x480 with 1 Axes>"
      ],
      "image/png": "[encoded data removed]"
     },
     "metadata": {},
     "output_type": "display_data"
    },
    {
     "name": "stdout",
     "output_type": "stream",
     "text": [
      "     room_type  bookings\n",
      "0       Single         1\n",
      "1       Double         1\n",
      "2        Suite         1\n",
      "3  Family Room         1\n",
      "4    Penthouse         1\n"
     ]
    }
   ],
   "execution_count": 16
  }
 ],
 "metadata": {
  "kernelspec": {
   "name": "python3",
   "language": "python",
   "display_name": "Python 3 (ipykernel)"
  }
 },
 "nbformat": 5,
 "nbformat_minor": 9
}
